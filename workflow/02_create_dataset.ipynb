{
 "cells": [
  {
   "cell_type": "markdown",
   "metadata": {},
   "source": [
    "# Create NNDataset for training of neural networks\n",
    "\n",
    "Here, three different datasets are created:\n",
    "- 184A1_all_frac0005_neigh3_cond_pert-CC, from data_params_all.py.\n",
    "    This dataset contains all perturbations, a neighborhood of 3, and is subsampled to 0.5% of all mpps. Conditions are perturbation_duration and cell_cycle.\n",
    "- 184A1_EU10_frac005_neigh3_cond_CC-TRnormzscore, from data_params_EU10.py.\n",
    "    This dataset contains only EU10 wells, as neighborhood of 3, and is subsampled to 5% of all mpps. Conditions are cell_cycle and well-normalised and zscored TR\n",
    "- 184A1_SBF2 ... \n",
    "    This dataset contains the siRNA wells, a neighborhood of 3, and is subsampled to 5% of all mpps. Conditions are siRNA treatment and cell_cycle."
   ]
  },
  {
   "cell_type": "code",
   "execution_count": 1,
   "metadata": {},
   "outputs": [],
   "source": [
    "#TODO prepare data_params for these datasets"
   ]
  },
  {
   "cell_type": "markdown",
   "metadata": {},
   "source": []
  }
 ],
 "metadata": {
  "interpreter": {
   "hash": "7c3012f799b3ef2382f56288364f3b4f8c7ccb2db3eb0b0379ff9e09fc414115"
  },
  "kernelspec": {
   "display_name": "Python 3.9.7 64-bit ('pelkmans-3.9': conda)",
   "name": "python3"
  },
  "language_info": {
   "codemirror_mode": {
    "name": "ipython",
    "version": 3
   },
   "file_extension": ".py",
   "mimetype": "text/x-python",
   "name": "python",
   "nbconvert_exporter": "python",
   "pygments_lexer": "ipython3",
   "version": "3.9.7"
  },
  "orig_nbformat": 4
 },
 "nbformat": 4,
 "nbformat_minor": 2
}
