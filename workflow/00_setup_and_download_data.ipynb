{
 "cells": [
  {
   "cell_type": "code",
   "execution_count": 1,
   "metadata": {},
   "outputs": [],
   "source": [
    "from pathlib import Path"
   ]
  },
  {
   "cell_type": "markdown",
   "metadata": {},
   "source": [
    "## Set data and experiment paths\n",
    "\n",
    "Adapt the data and experiment paths below to download data and experiments to a different location"
   ]
  },
  {
   "cell_type": "code",
   "execution_count": 2,
   "metadata": {},
   "outputs": [],
   "source": [
    "data_dir = Path('./campa_data')\n",
    "experiment_dir = Path('./campa_experiment')"
   ]
  },
  {
   "cell_type": "markdown",
   "metadata": {},
   "source": [
    "## Update config\n",
    "  The `campa.ini` used to generate this data looked as follows:\n",
    "  ```\n",
    "  [DEFAULT]\n",
    "  data_dir = <path-to-data>\n",
    "  experiment_dir = <path-to-experiments>\n",
    "\n",
    "  [data]\n",
    "  NascentRNA = <path-to-campa_ana>/NascentRNA_constants.py\n",
    "\n",
    "  [co_occ]\n",
    "  co_occ_chunk_size = 1e7\n",
    "  ```\n",
    "\n",
    "The code below reproduces this config and places it in `~/.config/campa/campa.ini`"
   ]
  },
  {
   "cell_type": "code",
   "execution_count": 3,
   "metadata": {},
   "outputs": [
    {
     "name": "stdout",
     "output_type": "stream",
     "text": [
      "Reading config from /Users/hannah.spitzer/.config/campa/campa.ini\n"
     ]
    }
   ],
   "source": [
    "from campa.constants import campa_config\n",
    "\n",
    "campa_config.BASE_DATA_DIR = data_dir\n",
    "campa_config.EXPERIMENT_DIR = experiment_dir\n",
    "campa_config.add_data_config(\"NascentRNA\", Path('.').parent / \"NascentRNA_constants.py\")\n",
    "campa_config.CO_OCC_CHUNK_SIZE = 1e7\n",
    "\n",
    "# save to default config location\n",
    "config_fname = Path.home() / \".config\" / \"campa\" / \"campa.ini\"\n",
    "campa_config.write(config_fname)\n"
   ]
  },
  {
   "cell_type": "markdown",
   "metadata": {},
   "source": [
    "## Download data\n",
    "\n",
    "TODO"
   ]
  },
  {
   "cell_type": "markdown",
   "metadata": {},
   "source": [
    "## Structure of the data\n",
    "\n",
    "After download you should have the following folders in `campa_config.BASE_DATA_DIR`:\n",
    "\n",
    "- `184A1_unperturbed/`\n",
    "    unperturbed 184A1 cells (4 wells)\n",
    "- `184A1_DMSO/`\n",
    "    184A1 cells with control DMSO treatment (2 wells)\n",
    "- `184A1_AZD4573/`\n",
    "    184A1 cells with AZD4573 treatment (3 wells 1h, 2 wells 2.5h)\n",
    "- `184A1_CX5461/`\n",
    "    184A1 cells with CX5461 treatment (3 wells)\n",
    "- `184A1_meayamycin/`\n",
    "    184A1 cells with Meayamycin treatment (2 wells)\n",
    "- `184A1_triptolide/`\n",
    "    184A1 cells with Triptolide treatment (2 wells)\n",
    "- `184A1_TSA/`\n",
    "    184A1 cells with TSA treatment (2 wells)\n",
    "- `HeLa_scrambled/`\n",
    "    Control HeLa cells (3 wells)\n",
    "- `HeLa_SBF2/`\n",
    "    SBF2-perturbed HeLa cells (3 wells)\n",
    "- `wells_metadata.csv`\n",
    "    Metadata\n",
    "- `channels_metadata.csv`\n",
    "    Metadata\n",
    "- `datasets/` \n",
    "    Datasets for training models\n",
    "\n",
    "Each well is prepared in the MPPData format and can be read with CAMPA. For more information on how to read `MPPData`s refer to the [MPPData tutorial](https://campa.readthedocs.io/en/latest/notebooks/mpp_data.html). \n",
    "\n",
    "Experiments are downloaded to `campa_config.EXPERIMENT_DIR`:\n",
    "- `VAE_all/`\n",
    "    - `CondVAE_pert-CC/`\n",
    "        cVAE conditioned on perturbation and cell cycle with 3x3 neighborhood (main model reported in CAMPA)\n",
    "    - `CondVAE_pert-CC_noneigh/`\n",
    "        cVAE conditioned on perturbation and cell cycle with no (1x1) neighborhood\n",
    "    - `VAE/`\n",
    "        VAE model without conditioning\n",
    "    - `MPPleiden/`\n",
    "        pixel clustering model, (baseline reported in CAMPA)\n",
    "- `VAE_SBF2/`\n",
    "    \n",
    "Each experiment contains the trained models, and the final clustering (and annotation where applicable). \n",
    "We also provide a summary of CSL-derived features from the 184A1 and the HeLa datasets [here](https://doi.org/10.6084/m9.figshare.19699651).\n",
    "In order to derive features from all cells in all wells by yourself, start the provided workflow at the [Project clustering](04_cluster.ipynb#project-clustering).\n",
    "\n"
   ]
  }
 ],
 "metadata": {
  "kernelspec": {
   "display_name": "Python 3.9.0 ('campa')",
   "language": "python",
   "name": "python3"
  },
  "language_info": {
   "codemirror_mode": {
    "name": "ipython",
    "version": 3
   },
   "file_extension": ".py",
   "mimetype": "text/x-python",
   "name": "python",
   "nbconvert_exporter": "python",
   "pygments_lexer": "ipython3",
   "version": "3.9.0"
  },
  "orig_nbformat": 4,
  "vscode": {
   "interpreter": {
    "hash": "874fcd6fbbd7997a0a341ba640ecd60060d2386464aa26f9f0c67495deab65ec"
   }
  }
 },
 "nbformat": 4,
 "nbformat_minor": 2
}
