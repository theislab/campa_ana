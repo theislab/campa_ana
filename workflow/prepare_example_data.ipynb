{
 "cells": [
  {
   "cell_type": "markdown",
   "metadata": {},
   "source": [
    "# Create example_data from NascentRNA data\n",
    "This data is used by the example notebooks in CAMPA to showcase analysis functions from CAMPA. \n",
    "\n",
    "It consists of 2 wells from 2 different conditions (unperturbed and meyayamycin), containing 20 cells each\n"
   ]
  },
  {
   "cell_type": "code",
   "execution_count": 7,
   "metadata": {},
   "outputs": [],
   "source": [
    "from campa.data import MPPData\n",
    "from campa.utils import init_logging\n",
    "init_logging()"
   ]
  },
  {
   "cell_type": "code",
   "execution_count": 12,
   "metadata": {},
   "outputs": [
    {
     "name": "stderr",
     "output_type": "stream",
     "text": [
      "INFO:MPPData:Created new: MPPData for NascentRNA (12132995 mpps with shape (1, 1, 35) from 886 objects). Data keys: ['x', 'y', 'obj_ids', 'mpp', 'labels'].\n",
      "INFO:MPPData:Loaded data from 184A1_unperturbed/I09.\n",
      "INFO:MPPData:Before subsetting: 886 objects\n",
      "INFO:MPPData:Subsetting to 20 random objects\n",
      "INFO:MPPData:Saving mpp data to /Users/hannah.spitzer/projects/pelkmans/software_new/campa/notebooks/example_data/184A1_unperturbed/I09 (keys: ['y', 'labels', 'obj_ids', 'mpp', 'x'])\n",
      "INFO:MPPData:Created new: MPPData for NascentRNA (14097457 mpps with shape (1, 1, 35) from 1025 objects). Data keys: ['x', 'y', 'obj_ids', 'mpp', 'labels'].\n",
      "INFO:MPPData:Loaded data from 184A1_unperturbed/I11.\n",
      "INFO:MPPData:Before subsetting: 1025 objects\n",
      "INFO:MPPData:Subsetting to 20 random objects\n",
      "INFO:MPPData:Saving mpp data to /Users/hannah.spitzer/projects/pelkmans/software_new/campa/notebooks/example_data/184A1_unperturbed/I11 (keys: ['y', 'labels', 'obj_ids', 'mpp', 'x'])\n",
      "INFO:MPPData:Created new: MPPData for NascentRNA (9629732 mpps with shape (1, 1, 35) from 556 objects). Data keys: ['x', 'y', 'obj_ids', 'mpp', 'labels'].\n",
      "INFO:MPPData:Loaded data from 184A1_meayamycin/I12.\n",
      "INFO:MPPData:Before subsetting: 556 objects\n",
      "INFO:MPPData:Subsetting to 20 random objects\n",
      "INFO:MPPData:Saving mpp data to /Users/hannah.spitzer/projects/pelkmans/software_new/campa/notebooks/example_data/184A1_meayamycin/I12 (keys: ['y', 'labels', 'obj_ids', 'mpp', 'x'])\n",
      "INFO:MPPData:Created new: MPPData for NascentRNA (11794428 mpps with shape (1, 1, 35) from 692 objects). Data keys: ['x', 'y', 'obj_ids', 'mpp', 'labels'].\n",
      "INFO:MPPData:Loaded data from 184A1_meayamycin/I20.\n",
      "INFO:MPPData:Before subsetting: 692 objects\n",
      "INFO:MPPData:Subsetting to 20 random objects\n",
      "INFO:MPPData:Saving mpp data to /Users/hannah.spitzer/projects/pelkmans/software_new/campa/notebooks/example_data/184A1_meayamycin/I20 (keys: ['y', 'labels', 'obj_ids', 'mpp', 'x'])\n"
     ]
    }
   ],
   "source": [
    "for data_dir in ['184A1_unperturbed/I09', '184A1_unperturbed/I11', '184A1_meayamycin/I12', '184A1_meayamycin/I20']:\n",
    "    mpp_data = MPPData.from_data_dir(data_dir, data_config='NascentRNA')\n",
    "    mpp_data.subset(num=20)\n",
    "    mpp_data.write(f'/Users/hannah.spitzer/projects/pelkmans/software_new/campa/notebooks/example_data/{data_dir}')"
   ]
  },
  {
   "cell_type": "code",
   "execution_count": 13,
   "metadata": {},
   "outputs": [
    {
     "data": {
      "text/plain": [
       "'/Users/hannah.spitzer/projects/pelkmans/software_new/campa/notebooks/example_data/channels_metadata.csv'"
      ]
     },
     "execution_count": 13,
     "metadata": {},
     "output_type": "execute_result"
    }
   ],
   "source": [
    "from campa.constants import BASE_DATA_DIR\n",
    "import shutil\n",
    "import os\n",
    "\n",
    "shutil.copy(os.path.join(BASE_DATA_DIR, 'NascentRNA_new', 'channels_metadata.csv'), \n",
    "os.path.join('/Users/hannah.spitzer/projects/pelkmans/software_new/campa/notebooks/example_data/', 'channels_metadata.csv'))\n"
   ]
  },
  {
   "cell_type": "code",
   "execution_count": 11,
   "metadata": {},
   "outputs": [
    {
     "name": "stderr",
     "output_type": "stream",
     "text": [
      "INFO:MPPData:Saving mpp data to /Users/hannah.spitzer/projects/pelkmans/software_new/campa/notebooks/example_data/184A1_unperturbed/I09 (keys: ['y', 'labels', 'obj_ids', 'mpp', 'x'])\n"
     ]
    }
   ],
   "source": [
    "\n"
   ]
  },
  {
   "cell_type": "code",
   "execution_count": null,
   "metadata": {},
   "outputs": [],
   "source": []
  }
 ],
 "metadata": {
  "interpreter": {
   "hash": "7c3012f799b3ef2382f56288364f3b4f8c7ccb2db3eb0b0379ff9e09fc414115"
  },
  "kernelspec": {
   "display_name": "Python 3.9.7 ('pelkmans-3.9')",
   "language": "python",
   "name": "python3"
  },
  "language_info": {
   "codemirror_mode": {
    "name": "ipython",
    "version": 3
   },
   "file_extension": ".py",
   "mimetype": "text/x-python",
   "name": "python",
   "nbconvert_exporter": "python",
   "pygments_lexer": "ipython3",
   "version": "3.9.7"
  },
  "orig_nbformat": 4
 },
 "nbformat": 4,
 "nbformat_minor": 2
}
