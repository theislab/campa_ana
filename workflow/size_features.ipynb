{
 "cells": [
  {
   "cell_type": "code",
   "execution_count": 15,
   "metadata": {},
   "outputs": [],
   "source": [
    "from campa.tl import Experiment, FeatureExtractor\n",
    "import os\n",
    "from campa.pl import plot_mean_intensity, zscore, get_intensity_change, plot_intensity_change, plot_mean_size, plot_size_change\n",
    "from campa.pl import plot_co_occurrence, plot_co_occurrence_grid\n",
    "import anndata as ad\n",
    "from campa.utils import init_logging\n",
    "import numpy as np\n",
    "import logging\n",
    "init_logging(level=logging.WARNING)"
   ]
  },
  {
   "cell_type": "code",
   "execution_count": 3,
   "metadata": {},
   "outputs": [],
   "source": [
    "exp = Experiment.from_dir('VAE_all/CondVAE_pert-CC')"
   ]
  },
  {
   "cell_type": "code",
   "execution_count": 7,
   "metadata": {},
   "outputs": [],
   "source": [
    "extr = FeatureExtractor.from_adata(os.path.join(exp.full_path, 'aggregated/full_data', exp.data_params['data_dirs'][0], 'features_annotation.h5ad'))\n",
    "\n"
   ]
  },
  {
   "cell_type": "code",
   "execution_count": 9,
   "metadata": {},
   "outputs": [
    {
     "data": {
      "text/plain": [
       "<miann.data._data.MPPData at 0x1767677f0>"
      ]
     },
     "execution_count": 9,
     "metadata": {},
     "output_type": "execute_result"
    }
   ],
   "source": [
    "extr.mpp_data"
   ]
  },
  {
   "cell_type": "code",
   "execution_count": 64,
   "metadata": {},
   "outputs": [],
   "source": [
    "from skimage.measure import label, regionprops\n",
    "import pandas as pd\n",
    "\n",
    "def extract_object_stats(self, area_threshold=0):\n",
    "    \"\"\"\n",
    "    Extract number and area of connected components per cluster for each cell.\n",
    "\n",
    "    Adds obsm object_area_mean, object_area_std, object_count, object_S1, object_S2, with\n",
    "\n",
    "    object_S1 = sum(area) \n",
    "    object_S2 = sum(area**2)\n",
    "\n",
    "    object_area_mean = object_S1 / object_count\n",
    "    object_area_std = sqrt(object_S2/object_count - (object_S1/object_count)**2)\n",
    "\n",
    "    Args:\n",
    "        area_threshold: all components smaller than this threshold are discarded\n",
    "    \"\"\"\n",
    "    if self.adata is None:\n",
    "        self.log.info('extract_object_stats: adata is None. Calculate it with extract_intensity_size before extracting object stats. Exiting.')\n",
    "        return\n",
    "    self.log.info(f\"calculating object stats with area threshold {area_threshold} for clustering {self.params['cluster_name']} (col: {self.params['cluster_col']})\")\n",
    "    cluster_names = {n: i for i,n in enumerate(self.clusters + [''])}\n",
    "    \n",
    "    counts = []\n",
    "    S1 = []\n",
    "    S2 = []\n",
    "    obj_ids = []\n",
    "    for obj_id in self.mpp_data.unique_obj_ids[:10]:\n",
    "        mpp_data = self.mpp_data.subset(obj_ids=[obj_id], copy=True)\n",
    "        img, (pad_x, pad_y) = mpp_data.get_object_img(obj_id, data=self.params['cluster_name'], annotation_kwargs={'annotation': self.annotation, 'to_col': self.params['cluster_col']})\n",
    "        # convert labels to numbers\n",
    "        img = np.vectorize(cluster_names.__getitem__)(img)\n",
    "        label_img = label(img, background=len(self.clusters))\n",
    "\n",
    "        # iterate over all regions in this image\n",
    "        obj_counts = np.zeros(len(self.clusters))\n",
    "        obj_S1 = np.zeros(len(self.clusters))\n",
    "        obj_S2 = np.zeros(len(self.clusters))\n",
    "        for region in regionprops(label_img, intensity_image=img):\n",
    "            if region.area > area_threshold:\n",
    "                assert region.min_intensity == region.max_intensity\n",
    "                obj_counts[region.min_intensity] += 1\n",
    "                obj_S1[region.min_intensity] += region.area\n",
    "                obj_S2[region.min_intensity] += region.area**2\n",
    "        counts.append(obj_counts)\n",
    "        S1.append(obj_S1)\n",
    "        S2.append(obj_S2)\n",
    "        obj_ids.append(obj_id)\n",
    "\n",
    "    # save to adata\n",
    "    for res, name in zip([counts, S1, S2], ['object_count', 'object_S1', 'object_S2']):\n",
    "        df = pd.DataFrame(np.array(res), index=obj_ids, columns=self.clusters)\n",
    "        df.index = df.index.astype(str)\n",
    "        # ensure obj_ids are in correct order\n",
    "        df = pd.merge(df, self.adata.obs, how='right', left_index=True, right_on='mapobject_id', suffixes=('','right'))[df.columns]\n",
    "        df = df.fillna(0)\n",
    "        # add to adata.obsm\n",
    "        self.adata.obsm[name] = df\n",
    "    # add mean and std of object size\n",
    "    self.adata.obsm['object_size_mean'] = self.adata.obsm['object_S1']/self.adata.obsm['object_count']\n",
    "    self.adata.obsm['object_size_std'] = np.sqrt(self.adata.obsm['object_S2'] / self.adata.obsm['object_count'] - self.adata.obsm['object_size_mean']**2)\n",
    "    self.adata.uns['object_stats_params'] = {'area_threshold': area_threshold}\n",
    "    # write adata\n",
    "    #self.adata.write(self.fname)"
   ]
  },
  {
   "cell_type": "code",
   "execution_count": 65,
   "metadata": {},
   "outputs": [],
   "source": [
    "extract_object_stats(extr, area_threshold=20)"
   ]
  },
  {
   "cell_type": "code",
   "execution_count": 66,
   "metadata": {},
   "outputs": [
    {
     "data": {
      "text/plain": [
       "AnnData object with n_obs × n_vars = 557 × 34\n",
       "    obs: 'mapobject_id', 'plate_name', 'well_name', 'well_pos_y', 'well_pos_x', 'tpoint', 'zplane', 'label', 'is_border', 'mapobject_id_cell', 'plate_name_cell', 'well_name_cell', 'well_pos_y_cell', 'well_pos_x_cell', 'tpoint_cell', 'zplane_cell', 'label_cell', 'is_border_cell', 'is_mitotic', 'is_mitotic_labels', 'is_polynuclei_HeLa', 'is_polynuclei_HeLa_labels', 'is_polynuclei_184A1', 'is_polynuclei_184A1_labels', 'is_SBF2_Sphase_labels', 'is_SBF2_Sphase', 'Heatmap-48', 'cell_cycle', 'description', 'dimensions', 'id', 'cell_type', 'EU', 'duration', 'perturbation', 'secondary_only', 'siRNA', 'perturbation_duration', 'LocalDensity_Nuclei_800', 'TR_factor', 'TR_norm', 'TR', 'TR_factor_DMSO-unperturbed', 'TR_norm_DMSO-unperturbed', 'obj_id_int'\n",
       "    uns: 'clusters', 'params', 'object_stats_params'\n",
       "    obsm: 'size', 'object_count', 'object_S1', 'object_S2', 'object_size_mean', 'object_size_std'\n",
       "    layers: 'intensity_Cajal bodies', 'intensity_Extra-nuclear', 'intensity_Nuclear periphery', 'intensity_Nuclear speckles', 'intensity_Nucleolus', 'intensity_Nucleoplasm', 'intensity_PML bodies'"
      ]
     },
     "execution_count": 66,
     "metadata": {},
     "output_type": "execute_result"
    }
   ],
   "source": [
    "extr.adata"
   ]
  },
  {
   "cell_type": "code",
   "execution_count": 57,
   "metadata": {},
   "outputs": [],
   "source": [
    "import pandas as pd\n",
    "for res, name in zip([counts, S1, S2], ['object_count', 'object_S1', 'object_S2']):\n",
    "    df = pd.DataFrame(np.array(res), index=obj_ids, columns=self.clusters)\n",
    "    df.index = df.index.astype(str)\n",
    "    # ensure obj_ids are in correct order\n",
    "    df = pd.merge(df, self.adata.obs, how='right', left_index=True, right_on='mapobject_id', suffixes=('','right'))[df.columns]\n",
    "    df = df.fillna(0)\n",
    "    # add to adata.obsm\n",
    "    self.adata.obsm[name] = df\n",
    "# add mean and std of object size\n",
    "self.adata.obsm['object_size_mean'] = self.adata.obsm['object_S1']/self.adata.obsm['object_count']\n",
    "self.adata.obsm['object_size_std'] = np.sqrt(self.adata.obsm['object_S2'] / self.adata.obsm['object_count'] - self.adata.obsm['object_size_mean']**2)\n"
   ]
  },
  {
   "cell_type": "code",
   "execution_count": 63,
   "metadata": {},
   "outputs": [
    {
     "data": {
      "text/html": [
       "<div>\n",
       "<style scoped>\n",
       "    .dataframe tbody tr th:only-of-type {\n",
       "        vertical-align: middle;\n",
       "    }\n",
       "\n",
       "    .dataframe tbody tr th {\n",
       "        vertical-align: top;\n",
       "    }\n",
       "\n",
       "    .dataframe thead th {\n",
       "        text-align: right;\n",
       "    }\n",
       "</style>\n",
       "<table border=\"1\" class=\"dataframe\">\n",
       "  <thead>\n",
       "    <tr style=\"text-align: right;\">\n",
       "      <th></th>\n",
       "      <th>Cajal bodies</th>\n",
       "      <th>Extra-nuclear</th>\n",
       "      <th>Nuclear periphery</th>\n",
       "      <th>Nuclear speckles</th>\n",
       "      <th>Nucleolus</th>\n",
       "      <th>Nucleoplasm</th>\n",
       "      <th>PML bodies</th>\n",
       "    </tr>\n",
       "  </thead>\n",
       "  <tbody>\n",
       "    <tr>\n",
       "      <th>0</th>\n",
       "      <td>NaN</td>\n",
       "      <td>499.000000</td>\n",
       "      <td>30.371039</td>\n",
       "      <td>107.852036</td>\n",
       "      <td>617.946240</td>\n",
       "      <td>0.0</td>\n",
       "      <td>35.384783</td>\n",
       "    </tr>\n",
       "    <tr>\n",
       "      <th>1</th>\n",
       "      <td>NaN</td>\n",
       "      <td>436.500000</td>\n",
       "      <td>35.036489</td>\n",
       "      <td>NaN</td>\n",
       "      <td>67.500000</td>\n",
       "      <td>0.0</td>\n",
       "      <td>9.299044</td>\n",
       "    </tr>\n",
       "    <tr>\n",
       "      <th>2</th>\n",
       "      <td>NaN</td>\n",
       "      <td>194.904489</td>\n",
       "      <td>63.842306</td>\n",
       "      <td>58.228939</td>\n",
       "      <td>134.000000</td>\n",
       "      <td>0.0</td>\n",
       "      <td>19.422210</td>\n",
       "    </tr>\n",
       "    <tr>\n",
       "      <th>3</th>\n",
       "      <td>NaN</td>\n",
       "      <td>571.426286</td>\n",
       "      <td>8.041559</td>\n",
       "      <td>76.678140</td>\n",
       "      <td>150.493263</td>\n",
       "      <td>2930.5</td>\n",
       "      <td>29.450523</td>\n",
       "    </tr>\n",
       "    <tr>\n",
       "      <th>4</th>\n",
       "      <td>NaN</td>\n",
       "      <td>365.842711</td>\n",
       "      <td>100.636412</td>\n",
       "      <td>88.951176</td>\n",
       "      <td>564.449191</td>\n",
       "      <td>0.0</td>\n",
       "      <td>18.431019</td>\n",
       "    </tr>\n",
       "    <tr>\n",
       "      <th>...</th>\n",
       "      <td>...</td>\n",
       "      <td>...</td>\n",
       "      <td>...</td>\n",
       "      <td>...</td>\n",
       "      <td>...</td>\n",
       "      <td>...</td>\n",
       "      <td>...</td>\n",
       "    </tr>\n",
       "    <tr>\n",
       "      <th>552</th>\n",
       "      <td>NaN</td>\n",
       "      <td>NaN</td>\n",
       "      <td>NaN</td>\n",
       "      <td>NaN</td>\n",
       "      <td>NaN</td>\n",
       "      <td>NaN</td>\n",
       "      <td>NaN</td>\n",
       "    </tr>\n",
       "    <tr>\n",
       "      <th>553</th>\n",
       "      <td>NaN</td>\n",
       "      <td>NaN</td>\n",
       "      <td>NaN</td>\n",
       "      <td>NaN</td>\n",
       "      <td>NaN</td>\n",
       "      <td>NaN</td>\n",
       "      <td>NaN</td>\n",
       "    </tr>\n",
       "    <tr>\n",
       "      <th>554</th>\n",
       "      <td>NaN</td>\n",
       "      <td>NaN</td>\n",
       "      <td>NaN</td>\n",
       "      <td>NaN</td>\n",
       "      <td>NaN</td>\n",
       "      <td>NaN</td>\n",
       "      <td>NaN</td>\n",
       "    </tr>\n",
       "    <tr>\n",
       "      <th>555</th>\n",
       "      <td>NaN</td>\n",
       "      <td>NaN</td>\n",
       "      <td>NaN</td>\n",
       "      <td>NaN</td>\n",
       "      <td>NaN</td>\n",
       "      <td>NaN</td>\n",
       "      <td>NaN</td>\n",
       "    </tr>\n",
       "    <tr>\n",
       "      <th>556</th>\n",
       "      <td>NaN</td>\n",
       "      <td>NaN</td>\n",
       "      <td>NaN</td>\n",
       "      <td>NaN</td>\n",
       "      <td>NaN</td>\n",
       "      <td>NaN</td>\n",
       "      <td>NaN</td>\n",
       "    </tr>\n",
       "  </tbody>\n",
       "</table>\n",
       "<p>557 rows × 7 columns</p>\n",
       "</div>"
      ],
      "text/plain": [
       "     Cajal bodies  Extra-nuclear  Nuclear periphery  Nuclear speckles  \\\n",
       "0             NaN     499.000000          30.371039        107.852036   \n",
       "1             NaN     436.500000          35.036489               NaN   \n",
       "2             NaN     194.904489          63.842306         58.228939   \n",
       "3             NaN     571.426286           8.041559         76.678140   \n",
       "4             NaN     365.842711         100.636412         88.951176   \n",
       "..            ...            ...                ...               ...   \n",
       "552           NaN            NaN                NaN               NaN   \n",
       "553           NaN            NaN                NaN               NaN   \n",
       "554           NaN            NaN                NaN               NaN   \n",
       "555           NaN            NaN                NaN               NaN   \n",
       "556           NaN            NaN                NaN               NaN   \n",
       "\n",
       "      Nucleolus  Nucleoplasm  PML bodies  \n",
       "0    617.946240          0.0   35.384783  \n",
       "1     67.500000          0.0    9.299044  \n",
       "2    134.000000          0.0   19.422210  \n",
       "3    150.493263       2930.5   29.450523  \n",
       "4    564.449191          0.0   18.431019  \n",
       "..          ...          ...         ...  \n",
       "552         NaN          NaN         NaN  \n",
       "553         NaN          NaN         NaN  \n",
       "554         NaN          NaN         NaN  \n",
       "555         NaN          NaN         NaN  \n",
       "556         NaN          NaN         NaN  \n",
       "\n",
       "[557 rows x 7 columns]"
      ]
     },
     "execution_count": 63,
     "metadata": {},
     "output_type": "execute_result"
    }
   ],
   "source": [
    "self.adata.obsm['object_size_std']"
   ]
  },
  {
   "cell_type": "code",
   "execution_count": 13,
   "metadata": {},
   "outputs": [],
   "source": [
    "obj_id = self.mpp_data.unique_obj_ids[0]"
   ]
  },
  {
   "cell_type": "code",
   "execution_count": 14,
   "metadata": {},
   "outputs": [],
   "source": [
    "mpp_data = self.mpp_data.subset(obj_ids=[obj_id], copy=True)"
   ]
  },
  {
   "cell_type": "code",
   "execution_count": 23,
   "metadata": {},
   "outputs": [],
   "source": [
    "cluster_names = {n: i for i,n in enumerate(self.clusters + [''])}\n",
    "img, (pad_x, pad_y) = mpp_data.get_object_img(obj_id, data=self.params['cluster_name'], annotation_kwargs={'annotation': self.annotation, 'to_col': self.params['cluster_col']})\n",
    "# convert labels to numbers\n",
    "img = np.vectorize(cluster_names.__getitem__)(img)"
   ]
  },
  {
   "cell_type": "code",
   "execution_count": 30,
   "metadata": {},
   "outputs": [],
   "source": []
  },
  {
   "cell_type": "code",
   "execution_count": 26,
   "metadata": {},
   "outputs": [],
   "source": [
    "res = label(img, background=len(self.clusters))"
   ]
  },
  {
   "cell_type": "code",
   "execution_count": 32,
   "metadata": {},
   "outputs": [],
   "source": [
    "props = regionprops(res, intensity_image=img)"
   ]
  },
  {
   "cell_type": "code",
   "execution_count": 42,
   "metadata": {},
   "outputs": [],
   "source": [
    "counts = np.zeros(len(self.clusters))\n",
    "S1 = np.zeros(len(self.clusters))\n",
    "S2 = np.zeros(len(self.clusters))\n",
    "\n",
    "for region in props:\n",
    "    if region.area > 20:\n",
    "        assert region.min_intensity == region.max_intensity\n",
    "        counts[region.min_intensity] += 1\n",
    "        S1[region.min_intensity] += region.area\n",
    "        S2[region.min_intensity] += region.area**2\n"
   ]
  },
  {
   "cell_type": "code",
   "execution_count": 43,
   "metadata": {},
   "outputs": [
    {
     "name": "stdout",
     "output_type": "stream",
     "text": [
      "['Cajal bodies', 'Extra-nuclear', 'Nuclear periphery', 'Nuclear speckles', 'Nucleolus', 'Nucleoplasm', 'PML bodies']\n",
      "[ 0.  2.  5. 18.  3.  1. 13.]\n",
      "mean area:  [          nan  547.           64.          125.22222222 1040.66666667\n",
      " 8287.           83.38461538]\n",
      "stdev:  [         nan 499.          30.37103884 107.85203627 617.94624002\n",
      "   0.          35.38478261]\n"
     ]
    },
    {
     "name": "stderr",
     "output_type": "stream",
     "text": [
      "/var/folders/s9/0d6yy20d44v60qd0nfkjlqdd541mvv/T/ipykernel_95245/641664394.py:3: RuntimeWarning: invalid value encountered in true_divide\n",
      "  print('mean area: ', S1/counts)\n",
      "/var/folders/s9/0d6yy20d44v60qd0nfkjlqdd541mvv/T/ipykernel_95245/641664394.py:4: RuntimeWarning: invalid value encountered in true_divide\n",
      "  print('stdev: ', np.sqrt(S2/counts - (S1/counts)**2))\n"
     ]
    }
   ],
   "source": [
    "print(self.clusters)\n",
    "print(counts)\n",
    "print('mean area: ', S1/counts)\n",
    "print('stdev: ', np.sqrt(S2/counts - (S1/counts)**2))"
   ]
  },
  {
   "cell_type": "code",
   "execution_count": 29,
   "metadata": {},
   "outputs": [
    {
     "data": {
      "text/plain": [
       "<matplotlib.image.AxesImage at 0x177f7ca90>"
      ]
     },
     "execution_count": 29,
     "metadata": {},
     "output_type": "execute_result"
    },
    {
     "data": {
      "image/png": "[encoded data removed]",
      "text/plain": [
       "<Figure size 432x288 with 1 Axes>"
      ]
     },
     "metadata": {
      "needs_background": "light"
     },
     "output_type": "display_data"
    }
   ],
   "source": [
    "plt.imshow(res)"
   ]
  },
  {
   "cell_type": "code",
   "execution_count": 18,
   "metadata": {},
   "outputs": [
    {
     "data": {
      "text/plain": [
       "<matplotlib.image.AxesImage at 0x176a102b0>"
      ]
     },
     "execution_count": 18,
     "metadata": {},
     "output_type": "execute_result"
    },
    {
     "data": {
      "image/png": "[encoded data removed]",
      "text/plain": [
       "<Figure size 432x288 with 1 Axes>"
      ]
     },
     "metadata": {
      "needs_background": "light"
     },
     "output_type": "display_data"
    }
   ],
   "source": [
    "import matplotlib.pyplot as plt\n",
    "plt.imshow(img)"
   ]
  },
  {
   "cell_type": "code",
   "execution_count": null,
   "metadata": {},
   "outputs": [],
   "source": [
    "# object_size_mean\n",
    "# object_size_std\n",
    "# object_S1\n",
    "# object_S2\n",
    "# object_count"
   ]
  },
  {
   "cell_type": "code",
   "execution_count": 45,
   "metadata": {},
   "outputs": [
    {
     "data": {
      "text/html": [
       "<div>\n",
       "<style scoped>\n",
       "    .dataframe tbody tr th:only-of-type {\n",
       "        vertical-align: middle;\n",
       "    }\n",
       "\n",
       "    .dataframe tbody tr th {\n",
       "        vertical-align: top;\n",
       "    }\n",
       "\n",
       "    .dataframe thead th {\n",
       "        text-align: right;\n",
       "    }\n",
       "</style>\n",
       "<table border=\"1\" class=\"dataframe\">\n",
       "  <thead>\n",
       "    <tr style=\"text-align: right;\">\n",
       "      <th></th>\n",
       "      <th>all</th>\n",
       "      <th>Cajal bodies</th>\n",
       "      <th>Extra-nuclear</th>\n",
       "      <th>Nuclear periphery</th>\n",
       "      <th>Nuclear speckles</th>\n",
       "      <th>Nucleolus</th>\n",
       "      <th>Nucleoplasm</th>\n",
       "      <th>PML bodies</th>\n",
       "    </tr>\n",
       "  </thead>\n",
       "  <tbody>\n",
       "    <tr>\n",
       "      <th>0</th>\n",
       "      <td>17008</td>\n",
       "      <td>171</td>\n",
       "      <td>1210</td>\n",
       "      <td>672</td>\n",
       "      <td>2352.0</td>\n",
       "      <td>3135</td>\n",
       "      <td>8344</td>\n",
       "      <td>1124</td>\n",
       "    </tr>\n",
       "    <tr>\n",
       "      <th>1</th>\n",
       "      <td>6936</td>\n",
       "      <td>44</td>\n",
       "      <td>1114</td>\n",
       "      <td>302</td>\n",
       "      <td>51.0</td>\n",
       "      <td>595</td>\n",
       "      <td>4603</td>\n",
       "      <td>227</td>\n",
       "    </tr>\n",
       "    <tr>\n",
       "      <th>2</th>\n",
       "      <td>11337</td>\n",
       "      <td>246</td>\n",
       "      <td>738</td>\n",
       "      <td>710</td>\n",
       "      <td>887.0</td>\n",
       "      <td>2075</td>\n",
       "      <td>6164</td>\n",
       "      <td>517</td>\n",
       "    </tr>\n",
       "    <tr>\n",
       "      <th>3</th>\n",
       "      <td>11693</td>\n",
       "      <td>70</td>\n",
       "      <td>1531</td>\n",
       "      <td>300</td>\n",
       "      <td>1280.0</td>\n",
       "      <td>2028</td>\n",
       "      <td>5951</td>\n",
       "      <td>533</td>\n",
       "    </tr>\n",
       "    <tr>\n",
       "      <th>4</th>\n",
       "      <td>15853</td>\n",
       "      <td>381</td>\n",
       "      <td>959</td>\n",
       "      <td>1138</td>\n",
       "      <td>2257.0</td>\n",
       "      <td>3026</td>\n",
       "      <td>7364</td>\n",
       "      <td>728</td>\n",
       "    </tr>\n",
       "    <tr>\n",
       "      <th>...</th>\n",
       "      <td>...</td>\n",
       "      <td>...</td>\n",
       "      <td>...</td>\n",
       "      <td>...</td>\n",
       "      <td>...</td>\n",
       "      <td>...</td>\n",
       "      <td>...</td>\n",
       "      <td>...</td>\n",
       "    </tr>\n",
       "    <tr>\n",
       "      <th>552</th>\n",
       "      <td>14497</td>\n",
       "      <td>115</td>\n",
       "      <td>1518</td>\n",
       "      <td>1958</td>\n",
       "      <td>1003.0</td>\n",
       "      <td>2702</td>\n",
       "      <td>6731</td>\n",
       "      <td>470</td>\n",
       "    </tr>\n",
       "    <tr>\n",
       "      <th>553</th>\n",
       "      <td>11101</td>\n",
       "      <td>95</td>\n",
       "      <td>854</td>\n",
       "      <td>1245</td>\n",
       "      <td>1019.0</td>\n",
       "      <td>2071</td>\n",
       "      <td>5249</td>\n",
       "      <td>568</td>\n",
       "    </tr>\n",
       "    <tr>\n",
       "      <th>554</th>\n",
       "      <td>10054</td>\n",
       "      <td>98</td>\n",
       "      <td>1152</td>\n",
       "      <td>1503</td>\n",
       "      <td>892.0</td>\n",
       "      <td>1607</td>\n",
       "      <td>4350</td>\n",
       "      <td>452</td>\n",
       "    </tr>\n",
       "    <tr>\n",
       "      <th>555</th>\n",
       "      <td>17130</td>\n",
       "      <td>87</td>\n",
       "      <td>1188</td>\n",
       "      <td>492</td>\n",
       "      <td>1592.0</td>\n",
       "      <td>2993</td>\n",
       "      <td>9988</td>\n",
       "      <td>790</td>\n",
       "    </tr>\n",
       "    <tr>\n",
       "      <th>556</th>\n",
       "      <td>11972</td>\n",
       "      <td>83</td>\n",
       "      <td>1551</td>\n",
       "      <td>1362</td>\n",
       "      <td>661.0</td>\n",
       "      <td>1701</td>\n",
       "      <td>5689</td>\n",
       "      <td>925</td>\n",
       "    </tr>\n",
       "  </tbody>\n",
       "</table>\n",
       "<p>557 rows × 8 columns</p>\n",
       "</div>"
      ],
      "text/plain": [
       "       all  Cajal bodies  Extra-nuclear  Nuclear periphery  Nuclear speckles  \\\n",
       "0    17008           171           1210                672            2352.0   \n",
       "1     6936            44           1114                302              51.0   \n",
       "2    11337           246            738                710             887.0   \n",
       "3    11693            70           1531                300            1280.0   \n",
       "4    15853           381            959               1138            2257.0   \n",
       "..     ...           ...            ...                ...               ...   \n",
       "552  14497           115           1518               1958            1003.0   \n",
       "553  11101            95            854               1245            1019.0   \n",
       "554  10054            98           1152               1503             892.0   \n",
       "555  17130            87           1188                492            1592.0   \n",
       "556  11972            83           1551               1362             661.0   \n",
       "\n",
       "     Nucleolus  Nucleoplasm  PML bodies  \n",
       "0         3135         8344        1124  \n",
       "1          595         4603         227  \n",
       "2         2075         6164         517  \n",
       "3         2028         5951         533  \n",
       "4         3026         7364         728  \n",
       "..         ...          ...         ...  \n",
       "552       2702         6731         470  \n",
       "553       2071         5249         568  \n",
       "554       1607         4350         452  \n",
       "555       2993         9988         790  \n",
       "556       1701         5689         925  \n",
       "\n",
       "[557 rows x 8 columns]"
      ]
     },
     "execution_count": 45,
     "metadata": {},
     "output_type": "execute_result"
    }
   ],
   "source": [
    "extr.adata.obsm['size']"
   ]
  },
  {
   "cell_type": "code",
   "execution_count": null,
   "metadata": {},
   "outputs": [],
   "source": []
  }
 ],
 "metadata": {
  "interpreter": {
   "hash": "7c3012f799b3ef2382f56288364f3b4f8c7ccb2db3eb0b0379ff9e09fc414115"
  },
  "kernelspec": {
   "display_name": "Python 3.9.7 64-bit ('pelkmans-3.9': conda)",
   "language": "python",
   "name": "python3"
  },
  "language_info": {
   "codemirror_mode": {
    "name": "ipython",
    "version": 3
   },
   "file_extension": ".py",
   "mimetype": "text/x-python",
   "name": "python",
   "nbconvert_exporter": "python",
   "pygments_lexer": "ipython3",
   "version": "3.9.7"
  },
  "orig_nbformat": 4
 },
 "nbformat": 4,
 "nbformat_minor": 2
}
