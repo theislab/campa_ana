{
 "cells": [
  {
   "cell_type": "markdown",
   "metadata": {},
   "source": [
    "# Download and prepare data\n",
    "This notebooks shows the original steps taken to download and prepare the data. Running this notebook again won't be necessary, as we provide the already prepared data here: TODO\n",
    "\n",
    "\n",
    "Download data from TissueMap instance on pelkmanslab server using Scotts mcu package.\n",
    "\n",
    "Install needed external packages:\n",
    "```\n",
    "# install MCU\n",
    "pip install git+https://github.com/scottberry/mcu.git\n",
    "# install TissueMaps dependencies\n",
    "conda install opencv # or pip install opencv-contrib-python\n",
    "pip install prettytable pyyaml scikit-image\n",
    "# install TissueMaps\n",
    "cd LIBS_DIR\n",
    "git clone https://github.com/TissueMAPS/TissueMAPS.git\n",
    "pip install -e ./TissueMaps/tmclient --no-deps\n",
    "```\n",
    "\n",
    "Requires well_names.csv and cell_cycle_classification.csv in DATA_DIR/metadata_raw"
   ]
  },
  {
   "cell_type": "code",
   "execution_count": 1,
   "metadata": {},
   "outputs": [
    {
     "name": "stdout",
     "output_type": "stream",
     "text": [
      "Reading config from [PosixPath('/Users/hannah.spitzer/.config/campa/campa.ini'), PosixPath('/Users/hannah.spitzer/projects/pelkmans/software_new/campa_ana/workflow/campa.ini'), PosixPath('/Users/hannah.spitzer/projects/pelkmans/software_new/campa/config.ini')]\n"
     ]
    }
   ],
   "source": [
    "#from campa_ana.tm_data import get_tm_client, download_channels_metadata, download_wells_metadata\n",
    "from campa_ana.constants import SOURCE_DIR\n",
    "from campa.constants import get_data_config\n",
    "from campa.data import MPPData\n",
    "import os, shutil\n",
    "import pandas as pd\n",
    "import glob\n",
    "from campa.utils import load_config"
   ]
  },
  {
   "cell_type": "markdown",
   "metadata": {},
   "source": [
    "## NascentRNA dataset"
   ]
  },
  {
   "cell_type": "code",
   "execution_count": 4,
   "metadata": {},
   "outputs": [],
   "source": [
    "params = load_config(os.path.join(SOURCE_DIR, \"params/download_params.py\"))\n",
    "DATA_CONFIG = get_data_config(\"NascentRNA\")\n",
    "DATA_DIR = DATA_CONFIG.DATA_DIR\n",
    "\n",
    "data_dirs = [os.path.join(DATA_DIR, '184A1_unperturbed', well) for well in ['I09', 'I11', 'J10', 'J12']] + \\\n",
    "            [os.path.join(DATA_DIR, '184A1_DMSO', well) for well in ['I14', 'J16']] + \\\n",
    "            [os.path.join(DATA_DIR, '184A1_AZD4573', well) for well in ['I13', 'I17', 'J14', 'J18', 'J21']] + \\\n",
    "            [os.path.join(DATA_DIR, '184A1_CX5461', well) for well in ['I18', 'J09', 'J22']] + \\\n",
    "            [os.path.join(DATA_DIR, '184A1_TSA', well) for well in ['I16', 'J13', 'J20']] + \\\n",
    "            [os.path.join(DATA_DIR, '184A1_triptolide', well) for well in ['I10', 'J15']] + \\\n",
    "            [os.path.join(DATA_DIR, '184A1_meayamycin', well) for well in ['I12', 'I20']] + \\\n",
    "            [os.path.join(DATA_DIR, '184A1_EU10', well) for well in ['H07', 'I08', 'J07']] + \\\n",
    "            [os.path.join(DATA_DIR, '184A1_SBF2', well) for well in ['K18', 'L19', 'M18']] + \\\n",
    "            [os.path.join(DATA_DIR, '184A1_scrambled', well) for well in ['K19', 'L18', 'M19']]"
   ]
  },
  {
   "cell_type": "markdown",
   "metadata": {},
   "source": [
    "### Downlad channels and wells metadata"
   ]
  },
  {
   "cell_type": "code",
   "execution_count": 3,
   "metadata": {},
   "outputs": [],
   "source": [
    "tm_client = get_tm_client(params.tm_credentials)\n",
    "# channels information\n",
    "download_channels_metadata(tm_client, os.path.join(DATA_DIR, 'channels_metadata.csv'))\n",
    "# wells information\n",
    "download_wells_metadata(tm_client, os.path.join(DATA_DIR, 'wells_metadata.csv'), data_dir=DATA_DIR)"
   ]
  },
  {
   "cell_type": "markdown",
   "metadata": {},
   "source": [
    "### Download mpp data\n",
    "Downloads mpp data to individual per-well folders with individual metadata.csv files\n",
    "\n",
    "`scripts/download_mpp.sh`"
   ]
  },
  {
   "cell_type": "code",
   "execution_count": 6,
   "metadata": {},
   "outputs": [
    {
     "name": "stdout",
     "output_type": "stream",
     "text": [
      "/Users/hannah.spitzer/projects/pelkmans/local_data/NascentRNA_new/184A1_unperturbed/I09 did not find mapobject_ids.npy\n",
      "/Users/hannah.spitzer/projects/pelkmans/local_data/NascentRNA_new/184A1_unperturbed/I11 did not find mapobject_ids.npy\n",
      "/Users/hannah.spitzer/projects/pelkmans/local_data/NascentRNA_new/184A1_unperturbed/J10 did not find mapobject_ids.npy\n",
      "/Users/hannah.spitzer/projects/pelkmans/local_data/NascentRNA_new/184A1_unperturbed/J12 did not find mapobject_ids.npy\n",
      "/Users/hannah.spitzer/projects/pelkmans/local_data/NascentRNA_new/184A1_DMSO/I14 did not find mapobject_ids.npy\n",
      "/Users/hannah.spitzer/projects/pelkmans/local_data/NascentRNA_new/184A1_DMSO/J16 did not find mapobject_ids.npy\n",
      "/Users/hannah.spitzer/projects/pelkmans/local_data/NascentRNA_new/184A1_AZD4573/I13 did not find mapobject_ids.npy\n",
      "/Users/hannah.spitzer/projects/pelkmans/local_data/NascentRNA_new/184A1_AZD4573/I17 did not find mapobject_ids.npy\n",
      "/Users/hannah.spitzer/projects/pelkmans/local_data/NascentRNA_new/184A1_AZD4573/J14 did not find mapobject_ids.npy\n",
      "/Users/hannah.spitzer/projects/pelkmans/local_data/NascentRNA_new/184A1_AZD4573/J18 did not find mapobject_ids.npy\n",
      "/Users/hannah.spitzer/projects/pelkmans/local_data/NascentRNA_new/184A1_AZD4573/J21 did not find mapobject_ids.npy\n",
      "/Users/hannah.spitzer/projects/pelkmans/local_data/NascentRNA_new/184A1_CX5461/I18 did not find mapobject_ids.npy\n",
      "/Users/hannah.spitzer/projects/pelkmans/local_data/NascentRNA_new/184A1_CX5461/J09 did not find mapobject_ids.npy\n",
      "/Users/hannah.spitzer/projects/pelkmans/local_data/NascentRNA_new/184A1_CX5461/J22 did not find mapobject_ids.npy\n",
      "/Users/hannah.spitzer/projects/pelkmans/local_data/NascentRNA_new/184A1_TSA/I16 did not find mapobject_ids.npy\n",
      "/Users/hannah.spitzer/projects/pelkmans/local_data/NascentRNA_new/184A1_TSA/J13 did not find mapobject_ids.npy\n",
      "/Users/hannah.spitzer/projects/pelkmans/local_data/NascentRNA_new/184A1_TSA/J20 did not find mapobject_ids.npy\n",
      "/Users/hannah.spitzer/projects/pelkmans/local_data/NascentRNA_new/184A1_triptolide/I10 did not find mapobject_ids.npy\n",
      "/Users/hannah.spitzer/projects/pelkmans/local_data/NascentRNA_new/184A1_triptolide/J15 did not find mapobject_ids.npy\n",
      "/Users/hannah.spitzer/projects/pelkmans/local_data/NascentRNA_new/184A1_meayamycin/I12 did not find mapobject_ids.npy\n",
      "/Users/hannah.spitzer/projects/pelkmans/local_data/NascentRNA_new/184A1_meayamycin/I20 did not find mapobject_ids.npy\n",
      "/Users/hannah.spitzer/projects/pelkmans/local_data/NascentRNA_new/184A1_EU10/H07 did not find mapobject_ids.npy\n",
      "/Users/hannah.spitzer/projects/pelkmans/local_data/NascentRNA_new/184A1_EU10/I08 did not find mapobject_ids.npy\n",
      "/Users/hannah.spitzer/projects/pelkmans/local_data/NascentRNA_new/184A1_EU10/J07 did not find mapobject_ids.npy\n",
      "/Users/hannah.spitzer/projects/pelkmans/local_data/NascentRNA_new/184A1_SBF2/K18 did not find mapobject_ids.npy\n",
      "/Users/hannah.spitzer/projects/pelkmans/local_data/NascentRNA_new/184A1_SBF2/L19 did not find mapobject_ids.npy\n",
      "/Users/hannah.spitzer/projects/pelkmans/local_data/NascentRNA_new/184A1_SBF2/M18 did not find mapobject_ids.npy\n",
      "/Users/hannah.spitzer/projects/pelkmans/local_data/NascentRNA_new/184A1_scrambled/K19 did not find mapobject_ids.npy\n",
      "/Users/hannah.spitzer/projects/pelkmans/local_data/NascentRNA_new/184A1_scrambled/L18 did not find mapobject_ids.npy\n",
      "/Users/hannah.spitzer/projects/pelkmans/local_data/NascentRNA_new/184A1_scrambled/M19 did not find mapobject_ids.npy\n"
     ]
    }
   ],
   "source": [
    "# move mapobject_ids.npy to obj_ids.npy\n",
    "for data_dir in data_dirs:\n",
    "    try:\n",
    "        shutil.move(os.path.join(data_dir, 'mapobject_ids.npy'), os.path.join(data_dir, \"obj_ids.npy\"))\n",
    "    except FileNotFoundError as e:\n",
    "        print(f\"{data_dir} did not find mapobject_ids.npy\")"
   ]
  },
  {
   "cell_type": "markdown",
   "metadata": {},
   "source": [
    "### Merge metadata.csv with wells metadata and cell cycle classification"
   ]
  },
  {
   "cell_type": "code",
   "execution_count": 3,
   "metadata": {},
   "outputs": [],
   "source": [
    "cell_cycle = pd.read_csv(os.path.join(DATA_DIR, 'metadata_raw/selected_cells_no_extreme_dapi_cell_cycle_classification.csv'))\n",
    "wells = pd.read_csv(os.path.join(DATA_DIR, \"wells_metadata.csv\"), index_col=0)\n",
    "\n",
    "def merge_metadata(metadata_file):\n",
    "    metadata = pd.read_csv(metadata_file, index_col=0)\n",
    "    # ensure that actually updates cell_cycle values \n",
    "    if 'cell_cycle' in metadata.columns:\n",
    "        metadata = metadata.drop(columns=['cell_cycle'])\n",
    "    df = metadata.merge(cell_cycle, left_on='mapobject_id_cell', right_on='mapobject_id', how='left', suffixes=('','_cc'))\n",
    "    # remove duplicate columns\n",
    "    df = df.drop(columns=[c for c in df.columns if c.endswith('_cc')])\n",
    "    df = df.merge(wells, left_on='well_name', right_on='well_name', how='left', suffixes=('', '_well'))\n",
    "    df = df.drop(columns=[c for c in df.columns if c.endswith('_well')])\n",
    "\n",
    "    df.to_csv(metadata_file)\n"
   ]
  },
  {
   "cell_type": "code",
   "execution_count": 4,
   "metadata": {},
   "outputs": [
    {
     "name": "stdout",
     "output_type": "stream",
     "text": [
      "/Users/hannah.spitzer/projects/pelkmans/local_data/NascentRNA_new/184A1_unperturbed/I09 updated metadata\n",
      "/Users/hannah.spitzer/projects/pelkmans/local_data/NascentRNA_new/184A1_unperturbed/I11 updated metadata\n",
      "/Users/hannah.spitzer/projects/pelkmans/local_data/NascentRNA_new/184A1_unperturbed/J10 updated metadata\n",
      "/Users/hannah.spitzer/projects/pelkmans/local_data/NascentRNA_new/184A1_unperturbed/J12 updated metadata\n",
      "/Users/hannah.spitzer/projects/pelkmans/local_data/NascentRNA_new/184A1_DMSO/I14 updated metadata\n",
      "/Users/hannah.spitzer/projects/pelkmans/local_data/NascentRNA_new/184A1_DMSO/J16 updated metadata\n",
      "/Users/hannah.spitzer/projects/pelkmans/local_data/NascentRNA_new/184A1_AZD4573/I13 updated metadata\n",
      "/Users/hannah.spitzer/projects/pelkmans/local_data/NascentRNA_new/184A1_AZD4573/I17 updated metadata\n",
      "/Users/hannah.spitzer/projects/pelkmans/local_data/NascentRNA_new/184A1_AZD4573/J14 updated metadata\n",
      "/Users/hannah.spitzer/projects/pelkmans/local_data/NascentRNA_new/184A1_AZD4573/J18 updated metadata\n",
      "/Users/hannah.spitzer/projects/pelkmans/local_data/NascentRNA_new/184A1_AZD4573/J21 updated metadata\n",
      "/Users/hannah.spitzer/projects/pelkmans/local_data/NascentRNA_new/184A1_CX5461/I18 updated metadata\n",
      "/Users/hannah.spitzer/projects/pelkmans/local_data/NascentRNA_new/184A1_CX5461/J09 updated metadata\n",
      "/Users/hannah.spitzer/projects/pelkmans/local_data/NascentRNA_new/184A1_CX5461/J22 updated metadata\n",
      "/Users/hannah.spitzer/projects/pelkmans/local_data/NascentRNA_new/184A1_TSA/I16 updated metadata\n",
      "/Users/hannah.spitzer/projects/pelkmans/local_data/NascentRNA_new/184A1_TSA/J13 updated metadata\n",
      "/Users/hannah.spitzer/projects/pelkmans/local_data/NascentRNA_new/184A1_TSA/J20 updated metadata\n",
      "/Users/hannah.spitzer/projects/pelkmans/local_data/NascentRNA_new/184A1_triptolide/I10 updated metadata\n",
      "/Users/hannah.spitzer/projects/pelkmans/local_data/NascentRNA_new/184A1_triptolide/J15 updated metadata\n",
      "/Users/hannah.spitzer/projects/pelkmans/local_data/NascentRNA_new/184A1_meayamycin/I12 updated metadata\n",
      "/Users/hannah.spitzer/projects/pelkmans/local_data/NascentRNA_new/184A1_meayamycin/I20 updated metadata\n",
      "/Users/hannah.spitzer/projects/pelkmans/local_data/NascentRNA_new/184A1_EU10/H07 updated metadata\n",
      "/Users/hannah.spitzer/projects/pelkmans/local_data/NascentRNA_new/184A1_EU10/I08 updated metadata\n",
      "/Users/hannah.spitzer/projects/pelkmans/local_data/NascentRNA_new/184A1_EU10/J07 updated metadata\n",
      "/Users/hannah.spitzer/projects/pelkmans/local_data/NascentRNA_new/184A1_SBF2/K18 updated metadata\n",
      "/Users/hannah.spitzer/projects/pelkmans/local_data/NascentRNA_new/184A1_SBF2/L19 updated metadata\n",
      "/Users/hannah.spitzer/projects/pelkmans/local_data/NascentRNA_new/184A1_SBF2/M18 updated metadata\n",
      "/Users/hannah.spitzer/projects/pelkmans/local_data/NascentRNA_new/184A1_scrambled/K19 updated metadata\n",
      "/Users/hannah.spitzer/projects/pelkmans/local_data/NascentRNA_new/184A1_scrambled/L18 updated metadata\n",
      "/Users/hannah.spitzer/projects/pelkmans/local_data/NascentRNA_new/184A1_scrambled/M19 updated metadata\n"
     ]
    }
   ],
   "source": [
    "for data_dir in data_dirs:\n",
    "    try:\n",
    "        merge_metadata(os.path.join(data_dir, 'metadata.csv'))\n",
    "        print(f\"{data_dir} updated metadata\")\n",
    "    except FileNotFoundError as e:\n",
    "        print(f\"{data_dir} does not exist\")\n"
   ]
  },
  {
   "cell_type": "markdown",
   "metadata": {
    "jp-MarkdownHeadingCollapsed": true,
    "tags": []
   },
   "source": [
    "### Add cell crowding feature to metadata\n",
    "values are in _CellAggregate folder"
   ]
  },
  {
   "cell_type": "code",
   "execution_count": 5,
   "metadata": {},
   "outputs": [],
   "source": [
    "# read all cellcrowding features\n",
    "cell_crowding_path = os.path.join(DATA_DIR, 'metadata_raw/NascentRNA_CellAggregate/201908-NascentRNA-4i/POPCON/201908-NascentRNA-4i_plate01_*_Cells_popcon.csv')\n",
    "cell_crowding = []\n",
    "for f in glob.glob(cell_crowding_path):\n",
    "    cell_crowding.append(pd.read_csv(f))\n",
    "cell_crowding = pd.concat(cell_crowding, axis='index')\n",
    "\n",
    "columns_to_add = ['LocalDensity_Nuclei_800']\n",
    "\n",
    "def add_cell_crowding(metadata_file):\n",
    "    metadata = pd.read_csv(metadata_file, index_col=0)\n",
    "    # remove previous values from metadata\n",
    "    metadata = metadata.drop(columns=[c for c in metadata.columns if c in columns_to_add])\n",
    "    metadata = metadata.merge(cell_crowding[['mapobject_id']+columns_to_add], how='left', left_on='mapobject_id_cell', right_on='mapobject_id', suffixes=('', '_y'))\n",
    "    # remove mapobject_id added with cell_crowding\n",
    "    metadata = metadata.drop(columns=['mapobject_id_y'])\n",
    "    # save metadata\n",
    "    metadata.to_csv(metadata_file)\n"
   ]
  },
  {
   "cell_type": "code",
   "execution_count": 6,
   "metadata": {},
   "outputs": [
    {
     "name": "stdout",
     "output_type": "stream",
     "text": [
      "/Users/hannah.spitzer/projects/pelkmans/local_data/NascentRNA_new/184A1_unperturbed/I09 added cell crowding\n",
      "/Users/hannah.spitzer/projects/pelkmans/local_data/NascentRNA_new/184A1_unperturbed/I11 added cell crowding\n",
      "/Users/hannah.spitzer/projects/pelkmans/local_data/NascentRNA_new/184A1_unperturbed/J10 added cell crowding\n",
      "/Users/hannah.spitzer/projects/pelkmans/local_data/NascentRNA_new/184A1_unperturbed/J12 added cell crowding\n",
      "/Users/hannah.spitzer/projects/pelkmans/local_data/NascentRNA_new/184A1_DMSO/I14 added cell crowding\n",
      "/Users/hannah.spitzer/projects/pelkmans/local_data/NascentRNA_new/184A1_DMSO/J16 added cell crowding\n",
      "/Users/hannah.spitzer/projects/pelkmans/local_data/NascentRNA_new/184A1_AZD4573/I13 added cell crowding\n",
      "/Users/hannah.spitzer/projects/pelkmans/local_data/NascentRNA_new/184A1_AZD4573/I17 added cell crowding\n",
      "/Users/hannah.spitzer/projects/pelkmans/local_data/NascentRNA_new/184A1_AZD4573/J14 added cell crowding\n",
      "/Users/hannah.spitzer/projects/pelkmans/local_data/NascentRNA_new/184A1_AZD4573/J18 added cell crowding\n",
      "/Users/hannah.spitzer/projects/pelkmans/local_data/NascentRNA_new/184A1_AZD4573/J21 added cell crowding\n",
      "/Users/hannah.spitzer/projects/pelkmans/local_data/NascentRNA_new/184A1_CX5461/I18 added cell crowding\n",
      "/Users/hannah.spitzer/projects/pelkmans/local_data/NascentRNA_new/184A1_CX5461/J09 added cell crowding\n",
      "/Users/hannah.spitzer/projects/pelkmans/local_data/NascentRNA_new/184A1_CX5461/J22 added cell crowding\n",
      "/Users/hannah.spitzer/projects/pelkmans/local_data/NascentRNA_new/184A1_TSA/I16 added cell crowding\n",
      "/Users/hannah.spitzer/projects/pelkmans/local_data/NascentRNA_new/184A1_TSA/J13 added cell crowding\n",
      "/Users/hannah.spitzer/projects/pelkmans/local_data/NascentRNA_new/184A1_TSA/J20 added cell crowding\n",
      "/Users/hannah.spitzer/projects/pelkmans/local_data/NascentRNA_new/184A1_triptolide/I10 added cell crowding\n",
      "/Users/hannah.spitzer/projects/pelkmans/local_data/NascentRNA_new/184A1_triptolide/J15 added cell crowding\n",
      "/Users/hannah.spitzer/projects/pelkmans/local_data/NascentRNA_new/184A1_meayamycin/I12 added cell crowding\n",
      "/Users/hannah.spitzer/projects/pelkmans/local_data/NascentRNA_new/184A1_meayamycin/I20 added cell crowding\n",
      "/Users/hannah.spitzer/projects/pelkmans/local_data/NascentRNA_new/184A1_EU10/H07 added cell crowding\n",
      "/Users/hannah.spitzer/projects/pelkmans/local_data/NascentRNA_new/184A1_EU10/I08 added cell crowding\n",
      "/Users/hannah.spitzer/projects/pelkmans/local_data/NascentRNA_new/184A1_EU10/J07 added cell crowding\n",
      "/Users/hannah.spitzer/projects/pelkmans/local_data/NascentRNA_new/184A1_SBF2/K18 added cell crowding\n",
      "/Users/hannah.spitzer/projects/pelkmans/local_data/NascentRNA_new/184A1_SBF2/L19 added cell crowding\n",
      "/Users/hannah.spitzer/projects/pelkmans/local_data/NascentRNA_new/184A1_SBF2/M18 added cell crowding\n",
      "/Users/hannah.spitzer/projects/pelkmans/local_data/NascentRNA_new/184A1_scrambled/K19 added cell crowding\n",
      "/Users/hannah.spitzer/projects/pelkmans/local_data/NascentRNA_new/184A1_scrambled/L18 added cell crowding\n",
      "/Users/hannah.spitzer/projects/pelkmans/local_data/NascentRNA_new/184A1_scrambled/M19 added cell crowding\n"
     ]
    }
   ],
   "source": [
    "for data_dir in data_dirs:\n",
    "    try:\n",
    "        add_cell_crowding(os.path.join(data_dir, 'metadata.csv'))\n",
    "        print(f\"{data_dir} added cell crowding\")\n",
    "    except FileNotFoundError as e:\n",
    "        print(f\"{data_dir} does not exist\")"
   ]
  },
  {
   "cell_type": "code",
   "execution_count": 39,
   "metadata": {},
   "outputs": [
    {
     "data": {
      "text/plain": [
       "<module 'miann.data._data' from '/Users/hannah.spitzer/projects/pelkmans/software_new/miann/miann/data/_data.py'>"
      ]
     },
     "execution_count": 39,
     "metadata": {},
     "output_type": "execute_result"
    }
   ],
   "source": [
    "#from campa.data import MPPData\n",
    "#import importlib\n",
    "#import campa.data\n",
    "#importlib.reload(campa)\n",
    "#import campa\n",
    "#importlib.reload(campa.data._data)\n",
    "\n",
    "#import campa.utils\n",
    "#campa.utils.init_logging()"
   ]
  },
  {
   "cell_type": "markdown",
   "metadata": {},
   "source": [
    "### Add TR value to metadata \n",
    "Compute TR as mean 00_EU value per cell. For replicate wells, compute per-well median TR and overall median TR to normalise per-well TR values:\n",
    "\n",
    "```\n",
    "TR_factor = median_TR / per_well_median_TR\n",
    "TR_norm = TR * TR_factor\n",
    "```"
   ]
  },
  {
   "cell_type": "code",
   "execution_count": 11,
   "metadata": {},
   "outputs": [],
   "source": [
    "OBJ_ID = DATA_CONFIG.OBJ_ID\n",
    "def calculate_TR(data_dirs, normalise=False):\n",
    "    mpp_data = MPPData.concat([MPPData.from_data_dir(d) for d in data_dirs])\n",
    "    TR = mpp_data.center_mpp[:, list(mpp_data.channels.name).index('00_EU')]\n",
    "\n",
    "    # calculate per-well TR mean (using overall obj_id TRs -- disregarding cell size!)\n",
    "    df = pd.DataFrame({'TR': TR, OBJ_ID: mpp_data.obj_ids})\n",
    "    df_mean_obj = df.groupby(OBJ_ID).mean()\n",
    "    df_mean_obj = df_mean_obj.merge(mpp_data.metadata[[OBJ_ID, 'well_name']], left_index=True, right_on=OBJ_ID, how='left')\n",
    "    if normalise:\n",
    "        # calculate normed TR\n",
    "        df_median_well = df_mean_obj.groupby('well_name')['TR'].median()\n",
    "        factors = df_mean_obj['TR'].median() / df_median_well\n",
    "        # project per-well mean back to obj_id\n",
    "        df_mean_obj = df_mean_obj.merge(factors, left_on='well_name', right_index=True, how='left', suffixes=('', '_factor'))\n",
    "        df_mean_obj['TR_norm'] = df_mean_obj['TR'] * df_mean_obj['TR_factor']\n",
    "    return df_mean_obj\n",
    "\n",
    "def update_metadata_with_TR(data_dirs, df_mean_obj, normalise=False, normalise_suffix=''):\n",
    "    # write TR, TR_factor, and TR_norm to metadata.csv\n",
    "    cols = [OBJ_ID, 'TR']\n",
    "    if normalise:\n",
    "        cols.extend(['TR_factor'+normalise_suffix, 'TR_norm'+normalise_suffix])\n",
    "    for d in data_dirs:\n",
    "        metadata = pd.read_csv(os.path.join(d, 'metadata.csv'), index_col=0)\n",
    "        metadata = metadata.merge(df_mean_obj[cols], on=OBJ_ID, how='left', suffixes=('_OLD', ''))\n",
    "        # remove previous TR values\n",
    "        metadata = metadata.drop(columns=[c for c in metadata.columns if c.endswith('_OLD')])\n",
    "        metadata.to_csv(os.path.join(d, 'metadata.csv'))"
   ]
  },
  {
   "cell_type": "markdown",
   "metadata": {
    "tags": []
   },
   "source": [
    "\n",
    "#### EU10 wells\n",
    "TR_norm can be used in models trained on only EU10 wells"
   ]
  },
  {
   "cell_type": "code",
   "execution_count": 10,
   "metadata": {},
   "outputs": [
    {
     "data": {
      "text/plain": [
       "well_name\n",
       "H07    0.978401\n",
       "I08    1.029819\n",
       "J07    0.992759\n",
       "Name: TR_factor, dtype: float64"
      ]
     },
     "metadata": {},
     "output_type": "display_data"
    },
    {
     "data": {
      "image/png": "[encoded data removed]",
      "text/plain": [
       "<Figure size 432x288 with 4 Axes>"
      ]
     },
     "metadata": {
      "needs_background": "light"
     },
     "output_type": "display_data"
    },
    {
     "data": {
      "image/png": "[encoded data removed]",
      "text/plain": [
       "<Figure size 432x288 with 4 Axes>"
      ]
     },
     "metadata": {
      "needs_background": "light"
     },
     "output_type": "display_data"
    }
   ],
   "source": [
    "data_dirs = [os.path.join(DATA_DIR, '184A1_EU10', well) for well in ['H07', 'I08', 'J07']]\n",
    "\n",
    "df = calculate_TR(data_dirs, normalise=True)\n",
    "update_metadata_with_TR(data_dirs, df, normalise=True)\n",
    "\n",
    "# show results\n",
    "display(df.groupby('well_name')['TR_factor'].first())\n",
    "_ = df['TR'].hist(by=df['well_name'], sharex=True)\n",
    "_ = df['TR_norm'].hist(by=df['well_name'], sharex=True)"
   ]
  },
  {
   "cell_type": "markdown",
   "metadata": {
    "jp-MarkdownHeadingCollapsed": true,
    "tags": []
   },
   "source": [
    "#### Unperturbed wells\n",
    "TR_norm can be used in models trained on only unperturbed wells"
   ]
  },
  {
   "cell_type": "code",
   "execution_count": 12,
   "metadata": {},
   "outputs": [
    {
     "data": {
      "text/plain": [
       "well_name\n",
       "I09    0.974852\n",
       "I11    0.996274\n",
       "J10    0.996179\n",
       "J12    1.030196\n",
       "Name: TR_factor, dtype: float64"
      ]
     },
     "metadata": {},
     "output_type": "display_data"
    },
    {
     "data": {
      "image/png": "[encoded data removed]",
      "text/plain": [
       "<Figure size 432x288 with 4 Axes>"
      ]
     },
     "metadata": {
      "needs_background": "light"
     },
     "output_type": "display_data"
    },
    {
     "data": {
      "image/png": "[encoded data removed]",
      "text/plain": [
       "<Figure size 432x288 with 4 Axes>"
      ]
     },
     "metadata": {
      "needs_background": "light"
     },
     "output_type": "display_data"
    }
   ],
   "source": [
    "data_dirs = [os.path.join(DATA_DIR, '184A1_unperturbed', well) for well in ['I09', 'I11', 'J10', 'J12']]\n",
    "\n",
    "df = calculate_TR(data_dirs, normalise=True)\n",
    "update_metadata_with_TR(data_dirs, df, normalise=True)\n",
    "\n",
    "# show results\n",
    "display(df.groupby('well_name')['TR_factor'].first())\n",
    "_ = df['TR'].hist(by=df['well_name'], sharex=True)\n",
    "_ = df['TR_norm'].hist(by=df['well_name'], sharex=True)"
   ]
  },
  {
   "cell_type": "markdown",
   "metadata": {
    "jp-MarkdownHeadingCollapsed": true,
    "tags": []
   },
   "source": [
    "#### SBF2 wells\n",
    "TR_norm can be used in models trained on only SBF2 wells\n",
    "\n",
    "TODO: these values differ from before. Possible reason: before used nuclei only, now use entire cells for TR calculation. Need to find a way to subset to nuclei for SBF2 wells"
   ]
  },
  {
   "cell_type": "code",
   "execution_count": 13,
   "metadata": {},
   "outputs": [
    {
     "data": {
      "text/plain": [
       "well_name\n",
       "K18    1.236372\n",
       "K19    0.960502\n",
       "L18    0.969554\n",
       "L19    1.147594\n",
       "M18    1.157559\n",
       "M19    0.917991\n",
       "Name: TR_factor, dtype: float64"
      ]
     },
     "metadata": {},
     "output_type": "display_data"
    },
    {
     "data": {
      "image/png": "[encoded data removed]",
      "text/plain": [
       "<Figure size 432x288 with 6 Axes>"
      ]
     },
     "metadata": {
      "needs_background": "light"
     },
     "output_type": "display_data"
    },
    {
     "data": {
      "image/png": "[encoded data removed]",
      "text/plain": [
       "<Figure size 432x288 with 6 Axes>"
      ]
     },
     "metadata": {
      "needs_background": "light"
     },
     "output_type": "display_data"
    }
   ],
   "source": [
    "data_dirs =  [os.path.join(DATA_DIR, 'HeLa_SBF2', well) for well in ['K18', 'L19', 'M18']] + \\\n",
    "              [os.path.join(DATA_DIR, 'HeLa_scrambled', well) for well in ['K19', 'L18', 'M19']]\n",
    "\n",
    "df = calculate_TR(data_dirs, normalise=True)\n",
    "update_metadata_with_TR(data_dirs, df, normalise=True)\n",
    "\n",
    "# show results\n",
    "display(df.groupby('well_name')['TR_factor'].first())\n",
    "_ = df['TR'].hist(by=df['well_name'], sharex=True)\n",
    "_ = df['TR_norm'].hist(by=df['well_name'], sharex=True)"
   ]
  },
  {
   "cell_type": "markdown",
   "metadata": {
    "tags": []
   },
   "source": [
    "#### Perturbation wells\n",
    "only write TR"
   ]
  },
  {
   "cell_type": "code",
   "execution_count": 14,
   "metadata": {},
   "outputs": [
    {
     "data": {
      "image/png": "[encoded data removed]",
      "text/plain": [
       "<Figure size 720x720 with 20 Axes>"
      ]
     },
     "metadata": {
      "needs_background": "light"
     },
     "output_type": "display_data"
    }
   ],
   "source": [
    "data_dirs = [os.path.join(DATA_DIR, '184A1_DMSO', well) for well in ['I14', 'J16']] + \\\n",
    "            [os.path.join(DATA_DIR, '184A1_AZD4573', well) for well in ['I13', 'I17', 'J14', 'J18', 'J21']] + \\\n",
    "            [os.path.join(DATA_DIR, '184A1_CX5461', well) for well in ['I18', 'J09', 'J22']] + \\\n",
    "            [os.path.join(DATA_DIR, '184A1_TSA', well) for well in ['I16', 'J13', 'J20']] + \\\n",
    "            [os.path.join(DATA_DIR, '184A1_triptolide', well) for well in ['I10', 'J15']] + \\\n",
    "            [os.path.join(DATA_DIR, '184A1_meayamycin', well) for well in ['I12', 'I20']]\n",
    "\n",
    "df = calculate_TR(data_dirs, normalise=False)\n",
    "update_metadata_with_TR(data_dirs, df, normalise=False)\n",
    "\n",
    "# show results\n",
    "_ = df['TR'].hist(by=df['well_name'], sharex=True, figsize=(10,10))"
   ]
  },
  {
   "cell_type": "markdown",
   "metadata": {},
   "source": [
    "#### DMSO + Unperturbed wells together (TR_norm_DMSO-unperturbed)"
   ]
  },
  {
   "cell_type": "code",
   "execution_count": 14,
   "metadata": {},
   "outputs": [
    {
     "data": {
      "text/plain": [
       "well_name\n",
       "I09    0.974852\n",
       "I11    0.996274\n",
       "I14    0.984474\n",
       "J10    0.996179\n",
       "J12    1.030196\n",
       "J16    1.010853\n",
       "Name: TR_factor_DMSO-unperturbed, dtype: float64"
      ]
     },
     "metadata": {},
     "output_type": "display_data"
    },
    {
     "data": {
      "image/png": "[encoded data removed]",
      "text/plain": [
       "<Figure size 432x288 with 6 Axes>"
      ]
     },
     "metadata": {
      "needs_background": "light"
     },
     "output_type": "display_data"
    },
    {
     "data": {
      "image/png": "[encoded data removed]",
      "text/plain": [
       "<Figure size 432x288 with 6 Axes>"
      ]
     },
     "metadata": {
      "needs_background": "light"
     },
     "output_type": "display_data"
    }
   ],
   "source": [
    "data_dirs = [os.path.join(DATA_DIR, '184A1_unperturbed', well) for well in ['I09', 'I11', 'J10', 'J12']] + \\\n",
    "            [os.path.join(DATA_DIR, '184A1_DMSO', well) for well in ['I14', 'J16']]\n",
    "\n",
    "df = calculate_TR(data_dirs, normalise=True)\n",
    "df = df.rename(columns={'TR_norm': 'TR_norm_DMSO-unperturbed', 'TR_factor': 'TR_factor_DMSO-unperturbed'})\n",
    "update_metadata_with_TR(data_dirs, df, normalise=True, normalise_suffix='_DMSO-unperturbed')\n",
    "\n",
    "# show results\n",
    "display(df.groupby('well_name')['TR_factor_DMSO-unperturbed'].first())\n",
    "_ = df['TR'].hist(by=df['well_name'], sharex=True)\n",
    "_ = df['TR_norm_DMSO-unperturbed'].hist(by=df['well_name'], sharex=True)"
   ]
  },
  {
   "cell_type": "markdown",
   "metadata": {},
   "source": [
    "### Add mean_background to channels_metadata\n",
    "Read from secondary_only_relative_normalisation, containing background values obtained from empty wells"
   ]
  },
  {
   "cell_type": "code",
   "execution_count": 16,
   "metadata": {},
   "outputs": [
    {
     "data": {
      "text/html": [
       "<div>\n",
       "<style scoped>\n",
       "    .dataframe tbody tr th:only-of-type {\n",
       "        vertical-align: middle;\n",
       "    }\n",
       "\n",
       "    .dataframe tbody tr th {\n",
       "        vertical-align: top;\n",
       "    }\n",
       "\n",
       "    .dataframe thead th {\n",
       "        text-align: right;\n",
       "    }\n",
       "</style>\n",
       "<table border=\"1\" class=\"dataframe\">\n",
       "  <thead>\n",
       "    <tr style=\"text-align: right;\">\n",
       "      <th></th>\n",
       "      <th>id</th>\n",
       "      <th>name</th>\n",
       "      <th>max_intensity</th>\n",
       "      <th>min_intensity</th>\n",
       "      <th>mean_background</th>\n",
       "    </tr>\n",
       "  </thead>\n",
       "  <tbody>\n",
       "    <tr>\n",
       "      <th>0</th>\n",
       "      <td>3</td>\n",
       "      <td>00_BG488</td>\n",
       "      <td>351</td>\n",
       "      <td>96</td>\n",
       "      <td>109.266166</td>\n",
       "    </tr>\n",
       "    <tr>\n",
       "      <th>1</th>\n",
       "      <td>2</td>\n",
       "      <td>00_BG568</td>\n",
       "      <td>349</td>\n",
       "      <td>94</td>\n",
       "      <td>106.990196</td>\n",
       "    </tr>\n",
       "    <tr>\n",
       "      <th>2</th>\n",
       "      <td>1</td>\n",
       "      <td>00_DAPI</td>\n",
       "      <td>350</td>\n",
       "      <td>95</td>\n",
       "      <td>107.700000</td>\n",
       "    </tr>\n",
       "    <tr>\n",
       "      <th>3</th>\n",
       "      <td>7</td>\n",
       "      <td>00_EU</td>\n",
       "      <td>748</td>\n",
       "      <td>97</td>\n",
       "      <td>NaN</td>\n",
       "    </tr>\n",
       "    <tr>\n",
       "      <th>4</th>\n",
       "      <td>8</td>\n",
       "      <td>01_CDK9_pT186</td>\n",
       "      <td>349</td>\n",
       "      <td>94</td>\n",
       "      <td>107.110922</td>\n",
       "    </tr>\n",
       "    <tr>\n",
       "      <th>...</th>\n",
       "      <td>...</td>\n",
       "      <td>...</td>\n",
       "      <td>...</td>\n",
       "      <td>...</td>\n",
       "      <td>...</td>\n",
       "    </tr>\n",
       "    <tr>\n",
       "      <th>78</th>\n",
       "      <td>79</td>\n",
       "      <td>22_DDX6</td>\n",
       "      <td>853</td>\n",
       "      <td>95</td>\n",
       "      <td>106.578549</td>\n",
       "    </tr>\n",
       "    <tr>\n",
       "      <th>79</th>\n",
       "      <td>80</td>\n",
       "      <td>22_DDX6_ILASTIK</td>\n",
       "      <td>63242</td>\n",
       "      <td>0</td>\n",
       "      <td>NaN</td>\n",
       "    </tr>\n",
       "    <tr>\n",
       "      <th>80</th>\n",
       "      <td>83</td>\n",
       "      <td>22_H2B</td>\n",
       "      <td>351</td>\n",
       "      <td>96</td>\n",
       "      <td>NaN</td>\n",
       "    </tr>\n",
       "    <tr>\n",
       "      <th>81</th>\n",
       "      <td>82</td>\n",
       "      <td>22_NPM1</td>\n",
       "      <td>350</td>\n",
       "      <td>95</td>\n",
       "      <td>107.906872</td>\n",
       "    </tr>\n",
       "    <tr>\n",
       "      <th>82</th>\n",
       "      <td>81</td>\n",
       "      <td>22_SE</td>\n",
       "      <td>422</td>\n",
       "      <td>100</td>\n",
       "      <td>NaN</td>\n",
       "    </tr>\n",
       "  </tbody>\n",
       "</table>\n",
       "<p>83 rows × 5 columns</p>\n",
       "</div>"
      ],
      "text/plain": [
       "    id             name  max_intensity  min_intensity  mean_background\n",
       "0    3         00_BG488            351             96       109.266166\n",
       "1    2         00_BG568            349             94       106.990196\n",
       "2    1          00_DAPI            350             95       107.700000\n",
       "3    7            00_EU            748             97              NaN\n",
       "4    8    01_CDK9_pT186            349             94       107.110922\n",
       "..  ..              ...            ...            ...              ...\n",
       "78  79          22_DDX6            853             95       106.578549\n",
       "79  80  22_DDX6_ILASTIK          63242              0              NaN\n",
       "80  83           22_H2B            351             96              NaN\n",
       "81  82          22_NPM1            350             95       107.906872\n",
       "82  81            22_SE            422            100              NaN\n",
       "\n",
       "[83 rows x 5 columns]"
      ]
     },
     "execution_count": 16,
     "metadata": {},
     "output_type": "execute_result"
    }
   ],
   "source": [
    "channels_metadata = pd.read_csv(os.path.join(DATA_DIR, 'channels_metadata.csv'), index_col=0)\n",
    "bkgrd = pd.read_csv(os.path.join(DATA_DIR, 'metadata_raw', 'secondary_only_relative_normalisation.csv'))\n",
    "\n",
    "# use non-cell background measurements from HeLa wells as background values per channel\n",
    "bkgrd = bkgrd.loc[bkgrd['measurement_type'] == \"non-cell\"].loc[bkgrd['cell_line']== \"HeLa\"]\n",
    "bkgrd = bkgrd[['channel','mean_background']].reset_index(drop=True)\n",
    "\n",
    "# merge bkgrd to channels_metadata\n",
    "channels_metadata = channels_metadata.merge(bkgrd, how='left', left_on='name', right_on='channel', suffixes=('_OLD', '')).drop(columns=['channel'])\n",
    "channels_metadata = channels_metadata.drop(columns=[c for c in channels_metadata.columns if c.endswith('_OLD')])\n",
    "channels_metadata.to_csv(os.path.join(DATA_DIR, 'channels_metadata.csv'))\n",
    "\n",
    "channels_metadata"
   ]
  },
  {
   "cell_type": "markdown",
   "metadata": {},
   "source": [
    "# Download Ilastik channels\n",
    "Using `download_params_ilastik.py` we can download Ilastik channels with segmentation of different organelles.\n",
    "These are downloaded in `DATA_DIR/ilastik` and need to be moved to the main data dir."
   ]
  },
  {
   "cell_type": "code",
   "execution_count": 6,
   "metadata": {},
   "outputs": [],
   "source": [
    "params = load_config(os.path.join(SOURCE_DIR, \"params/download_params_ilastik.py\"))\n",
    "DATA_CONFIG = get_data_config(\"NascentRNA\")\n",
    "DATA_DIR = DATA_CONFIG.DATA_DIR\n",
    "\n",
    "data_dirs = [os.path.join(DATA_DIR, '184A1_unperturbed', well) for well in ['I09', 'I11', 'J10', 'J12']] + \\\n",
    "            [os.path.join(DATA_DIR, '184A1_DMSO', well) for well in ['I14', 'J16']] + \\\n",
    "            [os.path.join(DATA_DIR, '184A1_AZD4573', well) for well in ['I13', 'I17', 'J14', 'J18', 'J21']] + \\\n",
    "            [os.path.join(DATA_DIR, '184A1_CX5461', well) for well in ['I18', 'J09', 'J22']] + \\\n",
    "            [os.path.join(DATA_DIR, '184A1_TSA', well) for well in ['I16', 'J13', 'J20']] + \\\n",
    "            [os.path.join(DATA_DIR, '184A1_triptolide', well) for well in ['I10', 'J15']] + \\\n",
    "            [os.path.join(DATA_DIR, '184A1_meayamycin', well) for well in ['I12', 'I20']] + \\\n",
    "            [os.path.join(DATA_DIR, '184A1_EU10', well) for well in ['H07', 'I08', 'J07']]\n",
    "\n",
    "data_dirs_ilastik = [os.path.join(DATA_DIR, 'ilastik', '184A1_unperturbed', well) for well in ['I09', 'I11', 'J10', 'J12']] + \\\n",
    "            [os.path.join(DATA_DIR, 'ilastik', '184A1_DMSO', well) for well in ['I14', 'J16']] + \\\n",
    "            [os.path.join(DATA_DIR, 'ilastik', '184A1_AZD4573', well) for well in ['I13', 'I17', 'J14', 'J18', 'J21']] + \\\n",
    "            [os.path.join(DATA_DIR, 'ilastik', '184A1_CX5461', well) for well in ['I18', 'J09', 'J22']] + \\\n",
    "            [os.path.join(DATA_DIR, 'ilastik', '184A1_TSA', well) for well in ['I16', 'J13', 'J20']] + \\\n",
    "            [os.path.join(DATA_DIR, 'ilastik', '184A1_triptolide', well) for well in ['I10', 'J15']] + \\\n",
    "            [os.path.join(DATA_DIR, 'ilastik', '184A1_meayamycin', well) for well in ['I12', 'I20']] + \\\n",
    "            [os.path.join(DATA_DIR, 'ilastik', '184A1_EU10', well) for well in ['H07', 'I08', 'J07']]\n",
    "\n",
    "# move mapobject_ids.npy to obj_ids.npy\n",
    "for data_dir in data_dirs_ilastik:\n",
    "    try:\n",
    "        shutil.move(os.path.join(data_dir, 'mapobject_ids.npy'), os.path.join(data_dir, \"obj_ids.npy\"))\n",
    "    except FileNotFoundError as e:\n",
    "        print(f\"{data_dir} did not find mapobject_ids.npy\")"
   ]
  },
  {
   "cell_type": "code",
   "execution_count": 21,
   "metadata": {},
   "outputs": [],
   "source": [
    "# copy mpp.npy from ilastik data to mpp_ilastik.npy\n",
    "for data_dir, data_dir_ilastik in zip(data_dirs, data_dirs_ilastik):\n",
    "    mpp_data = MPPData.from_data_dir(data_dir)\n",
    "    ilastik_data = MPPData.from_data_dir(data_dir_ilastik)\n",
    "    \n",
    "    # check that have same obj_ids before copying\n",
    "    assert (ilastik_data.obj_ids == mpp_data.obj_ids).all()\n",
    "\n",
    "    shutil.copy(os.path.join(data_dir_ilastik, 'mpp.npy'), os.path.join(data_dir, 'mpp_ilastik.npy'))"
   ]
  },
  {
   "cell_type": "code",
   "execution_count": 25,
   "metadata": {},
   "outputs": [],
   "source": [
    "# ensure that data has copied and is accessible through MPPData\n",
    "for data_dir, data_dir_ilastik in zip(data_dirs, data_dirs_ilastik):\n",
    "    mpp_data = MPPData.from_data_dir(data_dir, optional_keys=['mpp', 'mpp_ilastik'])\n",
    "    ilastik_data = MPPData.from_data_dir(data_dir_ilastik)\n",
    "    \n",
    "    assert (mpp_data.data('mpp_ilastik') == ilastik_data.center_mpp).all()"
   ]
  },
  {
   "cell_type": "code",
   "execution_count": null,
   "metadata": {},
   "outputs": [],
   "source": []
  }
 ],
 "metadata": {
  "interpreter": {
   "hash": "7c3012f799b3ef2382f56288364f3b4f8c7ccb2db3eb0b0379ff9e09fc414115"
  },
  "kernelspec": {
   "display_name": "Python 3 (ipykernel)",
   "language": "python",
   "name": "python3"
  },
  "language_info": {
   "codemirror_mode": {
    "name": "ipython",
    "version": 3
   },
   "file_extension": ".py",
   "mimetype": "text/x-python",
   "name": "python",
   "nbconvert_exporter": "python",
   "pygments_lexer": "ipython3",
   "version": "3.9.7"
  }
 },
 "nbformat": 4,
 "nbformat_minor": 4
}
