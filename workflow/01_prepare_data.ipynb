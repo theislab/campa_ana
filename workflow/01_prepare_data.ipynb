{
 "cells": [
  {
   "cell_type": "markdown",
   "metadata": {},
   "source": [
    "# Download and prepare data\n",
    "Download data from TissueMap instance on pelkmanslab server using Scotts mcu package.\n",
    "\n",
    "Install needed external packages:\n",
    "```\n",
    "pip install git+https://github.com/scottberry/mcu.git\n",
    "conda install opencv\n",
    "cd LIBS_DIR\n",
    "git clone https://github.com/TissueMAPS/TissueMAPS.git\n",
    "pip install -e --no-deps TissueMaps/tmclient\n",
    "```\n",
    "\n",
    "Requires well_names.csv and cell_cycle_classification.csv in DATA_DIR/metadata_raw"
   ]
  },
  {
   "cell_type": "code",
   "execution_count": 1,
   "metadata": {},
   "outputs": [],
   "source": [
    "from miann_ana.tm_data import get_tm_client, download_channels_metadata, download_wells_metadata\n",
    "from miann_ana.constants import SOURCE_DIR\n",
    "from miann.constants import get_data_config\n",
    "from miann.data import MPPData\n",
    "import os, shutil\n",
    "import pandas as pd\n",
    "from miann.utils import load_config"
   ]
  },
  {
   "cell_type": "markdown",
   "metadata": {},
   "source": [
    "## NascentRNA dataset"
   ]
  },
  {
   "cell_type": "code",
   "execution_count": 2,
   "metadata": {},
   "outputs": [],
   "source": [
    "params = load_config(os.path.join(SOURCE_DIR, \"scripts/params/download_params.py\"))\n",
    "DATA_CONFIG = get_data_config(\"NascentRNA\")\n",
    "DATA_DIR = DATA_CONFIG.DATA_DIR\n",
    "\n",
    "data_dirs = [os.path.join(DATA_DIR, '184A1_unperturbed', well) for well in ['I09', 'I11', 'J10', 'J12']] + \\\n",
    "            [os.path.join(DATA_DIR, '184A1_DMSO', well) for well in ['I14', 'J16']] + \\\n",
    "            [os.path.join(DATA_DIR, '184A1_AZD4573', well) for well in ['I13', 'I17', 'J14', 'J18', 'J21']] + \\\n",
    "            [os.path.join(DATA_DIR, '184A1_CX5461', well) for well in ['I18', 'J09', 'J22']] + \\\n",
    "            [os.path.join(DATA_DIR, '184A1_TSA', well) for well in ['I16', 'J13', 'J20']] + \\\n",
    "            [os.path.join(DATA_DIR, '184A1_triptolide', well) for well in ['I10', 'J15']] + \\\n",
    "            [os.path.join(DATA_DIR, '184A1_meayamycin', well) for well in ['I12', 'I20']] + \\\n",
    "            [os.path.join(DATA_DIR, '184A1_EU10', well) for well in ['H07', 'I08', 'J07']] + \\\n",
    "            [os.path.join(DATA_DIR, '184A1_SBF2', well) for well in ['K18', 'L19', 'M18']] + \\\n",
    "            [os.path.join(DATA_DIR, '184A1_scrambled', well) for well in ['K19', 'L18', 'M19']]"
   ]
  },
  {
   "cell_type": "markdown",
   "metadata": {},
   "source": [
    "### Downlad channels and wells metadata"
   ]
  },
  {
   "cell_type": "code",
   "execution_count": 3,
   "metadata": {},
   "outputs": [],
   "source": [
    "tm_client = get_tm_client(params.tm_credentials)\n",
    "# channels information\n",
    "download_channels_metadata(tm_client, os.path.join(DATA_DIR, 'channels_metadata.csv'))\n",
    "# wells information\n",
    "download_wells_metadata(tm_client, os.path.join(DATA_DIR, 'wells_metadata.csv'), data_dir=DATA_DIR)"
   ]
  },
  {
   "cell_type": "markdown",
   "metadata": {},
   "source": [
    "### Download mpp data\n",
    "Downloads mpp data to individual per-well folders with individual metadata.csv files\n",
    "\n",
    "`scripts/download_mpp.sh`"
   ]
  },
  {
   "cell_type": "code",
   "execution_count": 4,
   "metadata": {},
   "outputs": [
    {
     "name": "stdout",
     "output_type": "stream",
     "text": [
      "/Users/hannah.spitzer/projects/pelkmans/local_data/NascentRNA_new/184A1_unperturbed/I09 did not find mapobject_ids.npy\n",
      "/Users/hannah.spitzer/projects/pelkmans/local_data/NascentRNA_new/184A1_unperturbed/J10 did not find mapobject_ids.npy\n",
      "/Users/hannah.spitzer/projects/pelkmans/local_data/NascentRNA_new/184A1_unperturbed/J12 did not find mapobject_ids.npy\n",
      "/Users/hannah.spitzer/projects/pelkmans/local_data/NascentRNA_new/184A1_DMSO/I14 did not find mapobject_ids.npy\n",
      "/Users/hannah.spitzer/projects/pelkmans/local_data/NascentRNA_new/184A1_DMSO/J16 did not find mapobject_ids.npy\n",
      "/Users/hannah.spitzer/projects/pelkmans/local_data/NascentRNA_new/184A1_AZD4573/I13 did not find mapobject_ids.npy\n",
      "/Users/hannah.spitzer/projects/pelkmans/local_data/NascentRNA_new/184A1_AZD4573/I17 did not find mapobject_ids.npy\n",
      "/Users/hannah.spitzer/projects/pelkmans/local_data/NascentRNA_new/184A1_AZD4573/J14 did not find mapobject_ids.npy\n",
      "/Users/hannah.spitzer/projects/pelkmans/local_data/NascentRNA_new/184A1_AZD4573/J18 did not find mapobject_ids.npy\n",
      "/Users/hannah.spitzer/projects/pelkmans/local_data/NascentRNA_new/184A1_AZD4573/J21 did not find mapobject_ids.npy\n",
      "/Users/hannah.spitzer/projects/pelkmans/local_data/NascentRNA_new/184A1_CX5461/I18 did not find mapobject_ids.npy\n",
      "/Users/hannah.spitzer/projects/pelkmans/local_data/NascentRNA_new/184A1_CX5461/J09 did not find mapobject_ids.npy\n",
      "/Users/hannah.spitzer/projects/pelkmans/local_data/NascentRNA_new/184A1_CX5461/J22 did not find mapobject_ids.npy\n",
      "/Users/hannah.spitzer/projects/pelkmans/local_data/NascentRNA_new/184A1_TSA/I16 did not find mapobject_ids.npy\n",
      "/Users/hannah.spitzer/projects/pelkmans/local_data/NascentRNA_new/184A1_TSA/J13 did not find mapobject_ids.npy\n",
      "/Users/hannah.spitzer/projects/pelkmans/local_data/NascentRNA_new/184A1_TSA/J20 did not find mapobject_ids.npy\n",
      "/Users/hannah.spitzer/projects/pelkmans/local_data/NascentRNA_new/184A1_triptolide/I10 did not find mapobject_ids.npy\n",
      "/Users/hannah.spitzer/projects/pelkmans/local_data/NascentRNA_new/184A1_triptolide/J15 did not find mapobject_ids.npy\n",
      "/Users/hannah.spitzer/projects/pelkmans/local_data/NascentRNA_new/184A1_meayamycin/I12 did not find mapobject_ids.npy\n",
      "/Users/hannah.spitzer/projects/pelkmans/local_data/NascentRNA_new/184A1_meayamycin/I20 did not find mapobject_ids.npy\n",
      "/Users/hannah.spitzer/projects/pelkmans/local_data/NascentRNA_new/184A1_EU10/H07 did not find mapobject_ids.npy\n",
      "/Users/hannah.spitzer/projects/pelkmans/local_data/NascentRNA_new/184A1_EU10/I08 did not find mapobject_ids.npy\n",
      "/Users/hannah.spitzer/projects/pelkmans/local_data/NascentRNA_new/184A1_EU10/J07 did not find mapobject_ids.npy\n",
      "/Users/hannah.spitzer/projects/pelkmans/local_data/NascentRNA_new/184A1_SBF2/K18 did not find mapobject_ids.npy\n",
      "/Users/hannah.spitzer/projects/pelkmans/local_data/NascentRNA_new/184A1_SBF2/L19 did not find mapobject_ids.npy\n",
      "/Users/hannah.spitzer/projects/pelkmans/local_data/NascentRNA_new/184A1_SBF2/M18 did not find mapobject_ids.npy\n",
      "/Users/hannah.spitzer/projects/pelkmans/local_data/NascentRNA_new/184A1_scrambled/K19 did not find mapobject_ids.npy\n",
      "/Users/hannah.spitzer/projects/pelkmans/local_data/NascentRNA_new/184A1_scrambled/L18 did not find mapobject_ids.npy\n",
      "/Users/hannah.spitzer/projects/pelkmans/local_data/NascentRNA_new/184A1_scrambled/M19 did not find mapobject_ids.npy\n"
     ]
    }
   ],
   "source": [
    "# move mapobject_ids.npy to obj_ids.npy\n",
    "for data_dir in data_dirs:\n",
    "    try:\n",
    "        shutil.move(os.path.join(data_dir, 'mapobject_ids.npy'), os.path.join(data_dir, \"obj_ids.npy\"))\n",
    "    except FileNotFoundError as e:\n",
    "        print(f\"{data_dir} did not find mapobject_ids.npy\")"
   ]
  },
  {
   "cell_type": "markdown",
   "metadata": {},
   "source": [
    "### Merge metadata.csv with wells metadata and cell cycle classification"
   ]
  },
  {
   "cell_type": "code",
   "execution_count": 11,
   "metadata": {},
   "outputs": [],
   "source": [
    "cell_cycle = pd.read_csv(os.path.join(DATA_DIR, 'metadata_raw/selected_cells_no_extreme_dapi_cell_cycle_classification.csv'))\n",
    "wells = pd.read_csv(os.path.join(DATA_DIR, \"wells_metadata.csv\"), index_col=0)\n",
    "\n",
    "def merge_metadata(metadata_file):\n",
    "    metadata = pd.read_csv(metadata_file, index_col=0)\n",
    "    # ensure that actually updates cell_cycle values \n",
    "    if 'cell_cycle' in metadata.columns:\n",
    "        metadata = metadata.drop(columns=['cell_cycle'])\n",
    "    df = metadata.merge(cell_cycle, left_on='mapobject_id_cell', right_on='mapobject_id', how='left', suffixes=('','_cc'))\n",
    "    #df.cell_cycle = df.cell_cycle.fillna(\"M\")\n",
    "    df = df.drop(columns=[c for c in df.columns if c.endswith('_cc')])\n",
    "    df = df.merge(wells, left_on='well_name', right_on='well_name', how='left', suffixes=('', '_well'))\n",
    "    df = df.drop(columns=[c for c in df.columns if c.endswith('_well')])\n",
    "\n",
    "    df.to_csv(metadata_file)\n"
   ]
  },
  {
   "cell_type": "code",
   "execution_count": 12,
   "metadata": {},
   "outputs": [
    {
     "name": "stdout",
     "output_type": "stream",
     "text": [
      "/Users/hannah.spitzer/projects/pelkmans/local_data/NascentRNA_new/184A1_unperturbed/I09 updated metadata\n",
      "/Users/hannah.spitzer/projects/pelkmans/local_data/NascentRNA_new/184A1_unperturbed/I11 updated metadata\n",
      "/Users/hannah.spitzer/projects/pelkmans/local_data/NascentRNA_new/184A1_unperturbed/J10 does not exist\n",
      "/Users/hannah.spitzer/projects/pelkmans/local_data/NascentRNA_new/184A1_unperturbed/J12 does not exist\n",
      "/Users/hannah.spitzer/projects/pelkmans/local_data/NascentRNA_new/184A1_DMSO/I14 does not exist\n",
      "/Users/hannah.spitzer/projects/pelkmans/local_data/NascentRNA_new/184A1_DMSO/J16 does not exist\n",
      "/Users/hannah.spitzer/projects/pelkmans/local_data/NascentRNA_new/184A1_AZD4573/I13 does not exist\n",
      "/Users/hannah.spitzer/projects/pelkmans/local_data/NascentRNA_new/184A1_AZD4573/I17 does not exist\n",
      "/Users/hannah.spitzer/projects/pelkmans/local_data/NascentRNA_new/184A1_AZD4573/J14 does not exist\n",
      "/Users/hannah.spitzer/projects/pelkmans/local_data/NascentRNA_new/184A1_AZD4573/J18 does not exist\n",
      "/Users/hannah.spitzer/projects/pelkmans/local_data/NascentRNA_new/184A1_AZD4573/J21 does not exist\n",
      "/Users/hannah.spitzer/projects/pelkmans/local_data/NascentRNA_new/184A1_CX5461/I18 does not exist\n",
      "/Users/hannah.spitzer/projects/pelkmans/local_data/NascentRNA_new/184A1_CX5461/J09 does not exist\n",
      "/Users/hannah.spitzer/projects/pelkmans/local_data/NascentRNA_new/184A1_CX5461/J22 does not exist\n",
      "/Users/hannah.spitzer/projects/pelkmans/local_data/NascentRNA_new/184A1_TSA/I16 does not exist\n",
      "/Users/hannah.spitzer/projects/pelkmans/local_data/NascentRNA_new/184A1_TSA/J13 does not exist\n",
      "/Users/hannah.spitzer/projects/pelkmans/local_data/NascentRNA_new/184A1_TSA/J20 does not exist\n",
      "/Users/hannah.spitzer/projects/pelkmans/local_data/NascentRNA_new/184A1_triptolide/I10 does not exist\n",
      "/Users/hannah.spitzer/projects/pelkmans/local_data/NascentRNA_new/184A1_triptolide/J15 does not exist\n",
      "/Users/hannah.spitzer/projects/pelkmans/local_data/NascentRNA_new/184A1_meayamycin/I12 does not exist\n",
      "/Users/hannah.spitzer/projects/pelkmans/local_data/NascentRNA_new/184A1_meayamycin/I20 does not exist\n",
      "/Users/hannah.spitzer/projects/pelkmans/local_data/NascentRNA_new/184A1_EU10/H07 does not exist\n",
      "/Users/hannah.spitzer/projects/pelkmans/local_data/NascentRNA_new/184A1_EU10/I08 does not exist\n",
      "/Users/hannah.spitzer/projects/pelkmans/local_data/NascentRNA_new/184A1_EU10/J07 does not exist\n",
      "/Users/hannah.spitzer/projects/pelkmans/local_data/NascentRNA_new/184A1_SBF2/K18 does not exist\n",
      "/Users/hannah.spitzer/projects/pelkmans/local_data/NascentRNA_new/184A1_SBF2/L19 does not exist\n",
      "/Users/hannah.spitzer/projects/pelkmans/local_data/NascentRNA_new/184A1_SBF2/M18 does not exist\n",
      "/Users/hannah.spitzer/projects/pelkmans/local_data/NascentRNA_new/184A1_scrambled/K19 does not exist\n",
      "/Users/hannah.spitzer/projects/pelkmans/local_data/NascentRNA_new/184A1_scrambled/L18 does not exist\n",
      "/Users/hannah.spitzer/projects/pelkmans/local_data/NascentRNA_new/184A1_scrambled/M19 does not exist\n"
     ]
    }
   ],
   "source": [
    "for data_dir in data_dirs:\n",
    "    try:\n",
    "        merge_metadata(os.path.join(data_dir, 'metadata.csv'))\n",
    "        print(f\"{data_dir} updated metadata\")\n",
    "    except FileNotFoundError as e:\n",
    "        print(f\"{data_dir} does not exist\")\n"
   ]
  },
  {
   "cell_type": "markdown",
   "metadata": {},
   "source": [
    "### Add cell crowding feature to metadata\n",
    "TODO: values are in _CellAggregate folder"
   ]
  },
  {
   "cell_type": "code",
   "execution_count": 39,
   "metadata": {},
   "outputs": [
    {
     "data": {
      "text/plain": [
       "<module 'miann.data._data' from '/Users/hannah.spitzer/projects/pelkmans/software_new/miann/miann/data/_data.py'>"
      ]
     },
     "execution_count": 39,
     "metadata": {},
     "output_type": "execute_result"
    }
   ],
   "source": [
    "#from miann.data import MPPData\n",
    "#import importlib\n",
    "#import miann.data\n",
    "#importlib.reload(miann)\n",
    "#import miann\n",
    "#importlib.reload(miann.data._data)\n",
    "\n",
    "#import miann.utils\n",
    "#miann.utils.init_logging()"
   ]
  },
  {
   "cell_type": "markdown",
   "metadata": {},
   "source": [
    "### Add TR value to metadata \n",
    "TODO execute once have all data\n",
    "Compute TR as mean 00_EU value per cell. For replicate wells, compute per-well median TR and overall median TR to normalise per-well TR values:\n",
    "\n",
    "TR_factor = median_TR / per_well_median_TR\n",
    "TR_norm = TR * TR_factor"
   ]
  },
  {
   "cell_type": "code",
   "execution_count": 8,
   "metadata": {},
   "outputs": [],
   "source": [
    "OBJ_ID = DATA_CONFIG.OBJ_ID\n",
    "def calculate_TR(data_dirs, normalise=False):\n",
    "    mpp_data = MPPData.concat([MPPData.from_data_dir(d) for d in data_dirs])\n",
    "    TR = mpp_data.center_mpp[:, list(mpp_data.channels.name).index('00_EU')]\n",
    "\n",
    "    # calculate per-well TR mean (using overall obj_id TRs -- disregarding cell size!)\n",
    "    df = pd.DataFrame({'TR': TR, OBJ_ID: mpp_data.obj_ids})\n",
    "    df_mean_obj = df.groupby(OBJ_ID).mean()\n",
    "    df_mean_obj = df_mean_obj.merge(mpp_data.metadata[[OBJ_ID, 'well_name']], left_index=True, right_on=OBJ_ID, how='left')\n",
    "    if normalise:\n",
    "        # calculate normed TR\n",
    "        df_median_well = df_mean_obj.groupby('well_name')['TR'].median()\n",
    "        factors = df_mean_obj['TR'].median() / df_median_well\n",
    "        # project per-well mean back to obj_id\n",
    "        df_mean_obj = df_mean_obj.merge(factors, left_on='well_name', right_index=True, how='left', suffixes=('', '_factor'))\n",
    "        df_mean_obj['TR_norm'] = df_mean_obj['TR'] * df_mean_obj['TR_factor']\n",
    "    return df_mean_obj\n",
    "\n",
    "def update_metadata_with_TR(data_dirs, df_mean_obj, normalise=False):\n",
    "    # write TR, TR_factor, and TR_norm to metadata.csv\n",
    "    cols = [OBJ_ID, 'TR']\n",
    "    if normalise:\n",
    "        cols.extend(['TR_factor', 'TR_norm'])\n",
    "    for d in data_dirs:\n",
    "        metadata = pd.read_csv(os.path.join(d, 'metadata.csv'), index_col=0)\n",
    "        metadata = metadata.merge(df_mean_obj[cols], on=OBJ_ID, how='left', suffixes=('_OLD', ''))\n",
    "        # remove previous TR values\n",
    "        metadata = metadata.drop(columns=[c for c in metadata.columns if c.endswith('_OLD')])\n",
    "        metadata.to_csv(os.path.join(d, 'metadata.csv'))"
   ]
  },
  {
   "cell_type": "markdown",
   "metadata": {},
   "source": [
    "\n",
    "#### EU10 wells\n",
    "TR_norm can be used in models trained on only EU10 wells"
   ]
  },
  {
   "cell_type": "code",
   "execution_count": 73,
   "metadata": {},
   "outputs": [
    {
     "ename": "FileNotFoundError",
     "evalue": "[Errno 2] No such file or directory: '/Users/hannah.spitzer/projects/pelkmans/local_data/NascentRNA_new/184A1_hannah_EU10/H07/metadata.csv'",
     "output_type": "error",
     "traceback": [
      "\u001b[0;31m---------------------------------------------------------------------------\u001b[0m",
      "\u001b[0;31mFileNotFoundError\u001b[0m                         Traceback (most recent call last)",
      "\u001b[0;32m/var/folders/s9/0d6yy20d44v60qd0nfkjlqdd541mvv/T/ipykernel_23711/3777143086.py\u001b[0m in \u001b[0;36m<module>\u001b[0;34m\u001b[0m\n\u001b[1;32m      1\u001b[0m \u001b[0mdata_dirs\u001b[0m \u001b[0;34m=\u001b[0m \u001b[0;34m[\u001b[0m\u001b[0mos\u001b[0m\u001b[0;34m.\u001b[0m\u001b[0mpath\u001b[0m\u001b[0;34m.\u001b[0m\u001b[0mjoin\u001b[0m\u001b[0;34m(\u001b[0m\u001b[0mDATA_DIR\u001b[0m\u001b[0;34m,\u001b[0m \u001b[0;34m'184A1_hannah_EU10'\u001b[0m\u001b[0;34m,\u001b[0m \u001b[0mwell\u001b[0m\u001b[0;34m)\u001b[0m \u001b[0;32mfor\u001b[0m \u001b[0mwell\u001b[0m \u001b[0;32min\u001b[0m \u001b[0;34m[\u001b[0m\u001b[0;34m'H07'\u001b[0m\u001b[0;34m,\u001b[0m \u001b[0;34m'I08'\u001b[0m\u001b[0;34m,\u001b[0m \u001b[0;34m'J07'\u001b[0m\u001b[0;34m]\u001b[0m\u001b[0;34m]\u001b[0m\u001b[0;34m\u001b[0m\u001b[0;34m\u001b[0m\u001b[0m\n\u001b[0;32m----> 2\u001b[0;31m \u001b[0mmpp_data\u001b[0m \u001b[0;34m=\u001b[0m \u001b[0mMPPData\u001b[0m\u001b[0;34m.\u001b[0m\u001b[0mconcat\u001b[0m\u001b[0;34m(\u001b[0m\u001b[0;34m[\u001b[0m\u001b[0mMPPData\u001b[0m\u001b[0;34m.\u001b[0m\u001b[0mfrom_data_dir\u001b[0m\u001b[0;34m(\u001b[0m\u001b[0md\u001b[0m\u001b[0;34m)\u001b[0m \u001b[0;32mfor\u001b[0m \u001b[0md\u001b[0m \u001b[0;32min\u001b[0m \u001b[0mdata_dirs\u001b[0m\u001b[0;34m]\u001b[0m\u001b[0;34m)\u001b[0m\u001b[0;34m\u001b[0m\u001b[0;34m\u001b[0m\u001b[0m\n\u001b[0m",
      "\u001b[0;32m/var/folders/s9/0d6yy20d44v60qd0nfkjlqdd541mvv/T/ipykernel_23711/3777143086.py\u001b[0m in \u001b[0;36m<listcomp>\u001b[0;34m(.0)\u001b[0m\n\u001b[1;32m      1\u001b[0m \u001b[0mdata_dirs\u001b[0m \u001b[0;34m=\u001b[0m \u001b[0;34m[\u001b[0m\u001b[0mos\u001b[0m\u001b[0;34m.\u001b[0m\u001b[0mpath\u001b[0m\u001b[0;34m.\u001b[0m\u001b[0mjoin\u001b[0m\u001b[0;34m(\u001b[0m\u001b[0mDATA_DIR\u001b[0m\u001b[0;34m,\u001b[0m \u001b[0;34m'184A1_hannah_EU10'\u001b[0m\u001b[0;34m,\u001b[0m \u001b[0mwell\u001b[0m\u001b[0;34m)\u001b[0m \u001b[0;32mfor\u001b[0m \u001b[0mwell\u001b[0m \u001b[0;32min\u001b[0m \u001b[0;34m[\u001b[0m\u001b[0;34m'H07'\u001b[0m\u001b[0;34m,\u001b[0m \u001b[0;34m'I08'\u001b[0m\u001b[0;34m,\u001b[0m \u001b[0;34m'J07'\u001b[0m\u001b[0;34m]\u001b[0m\u001b[0;34m]\u001b[0m\u001b[0;34m\u001b[0m\u001b[0;34m\u001b[0m\u001b[0m\n\u001b[0;32m----> 2\u001b[0;31m \u001b[0mmpp_data\u001b[0m \u001b[0;34m=\u001b[0m \u001b[0mMPPData\u001b[0m\u001b[0;34m.\u001b[0m\u001b[0mconcat\u001b[0m\u001b[0;34m(\u001b[0m\u001b[0;34m[\u001b[0m\u001b[0mMPPData\u001b[0m\u001b[0;34m.\u001b[0m\u001b[0mfrom_data_dir\u001b[0m\u001b[0;34m(\u001b[0m\u001b[0md\u001b[0m\u001b[0;34m)\u001b[0m \u001b[0;32mfor\u001b[0m \u001b[0md\u001b[0m \u001b[0;32min\u001b[0m \u001b[0mdata_dirs\u001b[0m\u001b[0;34m]\u001b[0m\u001b[0;34m)\u001b[0m\u001b[0;34m\u001b[0m\u001b[0;34m\u001b[0m\u001b[0m\n\u001b[0m",
      "\u001b[0;32m~/projects/pelkmans/software_new/miann/miann/data/_data.py\u001b[0m in \u001b[0;36mfrom_data_dir\u001b[0;34m(cls, data_dir, mode, **kwargs)\u001b[0m\n\u001b[1;32m    119\u001b[0m         \"\"\"\n\u001b[1;32m    120\u001b[0m         \u001b[0;31m# read all data from data_dir\u001b[0m\u001b[0;34m\u001b[0m\u001b[0;34m\u001b[0m\u001b[0m\n\u001b[0;32m--> 121\u001b[0;31m         \u001b[0mmetadata\u001b[0m \u001b[0;34m=\u001b[0m \u001b[0mpd\u001b[0m\u001b[0;34m.\u001b[0m\u001b[0mread_csv\u001b[0m\u001b[0;34m(\u001b[0m\u001b[0mos\u001b[0m\u001b[0;34m.\u001b[0m\u001b[0mpath\u001b[0m\u001b[0;34m.\u001b[0m\u001b[0mjoin\u001b[0m\u001b[0;34m(\u001b[0m\u001b[0mdata_dir\u001b[0m\u001b[0;34m,\u001b[0m \u001b[0;34m'metadata.csv'\u001b[0m\u001b[0;34m)\u001b[0m\u001b[0;34m,\u001b[0m \u001b[0mindex_col\u001b[0m\u001b[0;34m=\u001b[0m\u001b[0;36m0\u001b[0m\u001b[0;34m)\u001b[0m\u001b[0;34m.\u001b[0m\u001b[0mreset_index\u001b[0m\u001b[0;34m(\u001b[0m\u001b[0mdrop\u001b[0m\u001b[0;34m=\u001b[0m\u001b[0;32mTrue\u001b[0m\u001b[0;34m)\u001b[0m\u001b[0;34m\u001b[0m\u001b[0;34m\u001b[0m\u001b[0m\n\u001b[0m\u001b[1;32m    122\u001b[0m         \u001b[0mchannels\u001b[0m \u001b[0;34m=\u001b[0m \u001b[0mpd\u001b[0m\u001b[0;34m.\u001b[0m\u001b[0mread_csv\u001b[0m\u001b[0;34m(\u001b[0m\u001b[0mos\u001b[0m\u001b[0;34m.\u001b[0m\u001b[0mpath\u001b[0m\u001b[0;34m.\u001b[0m\u001b[0mjoin\u001b[0m\u001b[0;34m(\u001b[0m\u001b[0mdata_dir\u001b[0m\u001b[0;34m,\u001b[0m \u001b[0;34m'channels.csv'\u001b[0m\u001b[0;34m)\u001b[0m\u001b[0;34m,\u001b[0m \u001b[0mnames\u001b[0m\u001b[0;34m=\u001b[0m\u001b[0;34m[\u001b[0m\u001b[0;34m'index'\u001b[0m\u001b[0;34m,\u001b[0m \u001b[0;34m'name'\u001b[0m\u001b[0;34m]\u001b[0m\u001b[0;34m,\u001b[0m \u001b[0mindex_col\u001b[0m\u001b[0;34m=\u001b[0m\u001b[0;36m0\u001b[0m\u001b[0;34m)\u001b[0m\u001b[0;34m.\u001b[0m\u001b[0mreset_index\u001b[0m\u001b[0;34m(\u001b[0m\u001b[0mdrop\u001b[0m\u001b[0;34m=\u001b[0m\u001b[0;32mTrue\u001b[0m\u001b[0;34m)\u001b[0m\u001b[0;34m\u001b[0m\u001b[0;34m\u001b[0m\u001b[0m\n\u001b[1;32m    123\u001b[0m         \u001b[0;31m# read npy data\u001b[0m\u001b[0;34m\u001b[0m\u001b[0;34m\u001b[0m\u001b[0m\n",
      "\u001b[0;32m~/opt/miniconda3/envs/pelkmans-3.9/lib/python3.9/site-packages/pandas/util/_decorators.py\u001b[0m in \u001b[0;36mwrapper\u001b[0;34m(*args, **kwargs)\u001b[0m\n\u001b[1;32m    309\u001b[0m                     \u001b[0mstacklevel\u001b[0m\u001b[0;34m=\u001b[0m\u001b[0mstacklevel\u001b[0m\u001b[0;34m,\u001b[0m\u001b[0;34m\u001b[0m\u001b[0;34m\u001b[0m\u001b[0m\n\u001b[1;32m    310\u001b[0m                 )\n\u001b[0;32m--> 311\u001b[0;31m             \u001b[0;32mreturn\u001b[0m \u001b[0mfunc\u001b[0m\u001b[0;34m(\u001b[0m\u001b[0;34m*\u001b[0m\u001b[0margs\u001b[0m\u001b[0;34m,\u001b[0m \u001b[0;34m**\u001b[0m\u001b[0mkwargs\u001b[0m\u001b[0;34m)\u001b[0m\u001b[0;34m\u001b[0m\u001b[0;34m\u001b[0m\u001b[0m\n\u001b[0m\u001b[1;32m    312\u001b[0m \u001b[0;34m\u001b[0m\u001b[0m\n\u001b[1;32m    313\u001b[0m         \u001b[0;32mreturn\u001b[0m \u001b[0mwrapper\u001b[0m\u001b[0;34m\u001b[0m\u001b[0;34m\u001b[0m\u001b[0m\n",
      "\u001b[0;32m~/opt/miniconda3/envs/pelkmans-3.9/lib/python3.9/site-packages/pandas/io/parsers/readers.py\u001b[0m in \u001b[0;36mread_csv\u001b[0;34m(filepath_or_buffer, sep, delimiter, header, names, index_col, usecols, squeeze, prefix, mangle_dupe_cols, dtype, engine, converters, true_values, false_values, skipinitialspace, skiprows, skipfooter, nrows, na_values, keep_default_na, na_filter, verbose, skip_blank_lines, parse_dates, infer_datetime_format, keep_date_col, date_parser, dayfirst, cache_dates, iterator, chunksize, compression, thousands, decimal, lineterminator, quotechar, quoting, doublequote, escapechar, comment, encoding, encoding_errors, dialect, error_bad_lines, warn_bad_lines, on_bad_lines, delim_whitespace, low_memory, memory_map, float_precision, storage_options)\u001b[0m\n\u001b[1;32m    584\u001b[0m     \u001b[0mkwds\u001b[0m\u001b[0;34m.\u001b[0m\u001b[0mupdate\u001b[0m\u001b[0;34m(\u001b[0m\u001b[0mkwds_defaults\u001b[0m\u001b[0;34m)\u001b[0m\u001b[0;34m\u001b[0m\u001b[0;34m\u001b[0m\u001b[0m\n\u001b[1;32m    585\u001b[0m \u001b[0;34m\u001b[0m\u001b[0m\n\u001b[0;32m--> 586\u001b[0;31m     \u001b[0;32mreturn\u001b[0m \u001b[0m_read\u001b[0m\u001b[0;34m(\u001b[0m\u001b[0mfilepath_or_buffer\u001b[0m\u001b[0;34m,\u001b[0m \u001b[0mkwds\u001b[0m\u001b[0;34m)\u001b[0m\u001b[0;34m\u001b[0m\u001b[0;34m\u001b[0m\u001b[0m\n\u001b[0m\u001b[1;32m    587\u001b[0m \u001b[0;34m\u001b[0m\u001b[0m\n\u001b[1;32m    588\u001b[0m \u001b[0;34m\u001b[0m\u001b[0m\n",
      "\u001b[0;32m~/opt/miniconda3/envs/pelkmans-3.9/lib/python3.9/site-packages/pandas/io/parsers/readers.py\u001b[0m in \u001b[0;36m_read\u001b[0;34m(filepath_or_buffer, kwds)\u001b[0m\n\u001b[1;32m    480\u001b[0m \u001b[0;34m\u001b[0m\u001b[0m\n\u001b[1;32m    481\u001b[0m     \u001b[0;31m# Create the parser.\u001b[0m\u001b[0;34m\u001b[0m\u001b[0;34m\u001b[0m\u001b[0m\n\u001b[0;32m--> 482\u001b[0;31m     \u001b[0mparser\u001b[0m \u001b[0;34m=\u001b[0m \u001b[0mTextFileReader\u001b[0m\u001b[0;34m(\u001b[0m\u001b[0mfilepath_or_buffer\u001b[0m\u001b[0;34m,\u001b[0m \u001b[0;34m**\u001b[0m\u001b[0mkwds\u001b[0m\u001b[0;34m)\u001b[0m\u001b[0;34m\u001b[0m\u001b[0;34m\u001b[0m\u001b[0m\n\u001b[0m\u001b[1;32m    483\u001b[0m \u001b[0;34m\u001b[0m\u001b[0m\n\u001b[1;32m    484\u001b[0m     \u001b[0;32mif\u001b[0m \u001b[0mchunksize\u001b[0m \u001b[0;32mor\u001b[0m \u001b[0miterator\u001b[0m\u001b[0;34m:\u001b[0m\u001b[0;34m\u001b[0m\u001b[0;34m\u001b[0m\u001b[0m\n",
      "\u001b[0;32m~/opt/miniconda3/envs/pelkmans-3.9/lib/python3.9/site-packages/pandas/io/parsers/readers.py\u001b[0m in \u001b[0;36m__init__\u001b[0;34m(self, f, engine, **kwds)\u001b[0m\n\u001b[1;32m    809\u001b[0m             \u001b[0mself\u001b[0m\u001b[0;34m.\u001b[0m\u001b[0moptions\u001b[0m\u001b[0;34m[\u001b[0m\u001b[0;34m\"has_index_names\"\u001b[0m\u001b[0;34m]\u001b[0m \u001b[0;34m=\u001b[0m \u001b[0mkwds\u001b[0m\u001b[0;34m[\u001b[0m\u001b[0;34m\"has_index_names\"\u001b[0m\u001b[0;34m]\u001b[0m\u001b[0;34m\u001b[0m\u001b[0;34m\u001b[0m\u001b[0m\n\u001b[1;32m    810\u001b[0m \u001b[0;34m\u001b[0m\u001b[0m\n\u001b[0;32m--> 811\u001b[0;31m         \u001b[0mself\u001b[0m\u001b[0;34m.\u001b[0m\u001b[0m_engine\u001b[0m \u001b[0;34m=\u001b[0m \u001b[0mself\u001b[0m\u001b[0;34m.\u001b[0m\u001b[0m_make_engine\u001b[0m\u001b[0;34m(\u001b[0m\u001b[0mself\u001b[0m\u001b[0;34m.\u001b[0m\u001b[0mengine\u001b[0m\u001b[0;34m)\u001b[0m\u001b[0;34m\u001b[0m\u001b[0;34m\u001b[0m\u001b[0m\n\u001b[0m\u001b[1;32m    812\u001b[0m \u001b[0;34m\u001b[0m\u001b[0m\n\u001b[1;32m    813\u001b[0m     \u001b[0;32mdef\u001b[0m \u001b[0mclose\u001b[0m\u001b[0;34m(\u001b[0m\u001b[0mself\u001b[0m\u001b[0;34m)\u001b[0m\u001b[0;34m:\u001b[0m\u001b[0;34m\u001b[0m\u001b[0;34m\u001b[0m\u001b[0m\n",
      "\u001b[0;32m~/opt/miniconda3/envs/pelkmans-3.9/lib/python3.9/site-packages/pandas/io/parsers/readers.py\u001b[0m in \u001b[0;36m_make_engine\u001b[0;34m(self, engine)\u001b[0m\n\u001b[1;32m   1038\u001b[0m             )\n\u001b[1;32m   1039\u001b[0m         \u001b[0;31m# error: Too many arguments for \"ParserBase\"\u001b[0m\u001b[0;34m\u001b[0m\u001b[0;34m\u001b[0m\u001b[0m\n\u001b[0;32m-> 1040\u001b[0;31m         \u001b[0;32mreturn\u001b[0m \u001b[0mmapping\u001b[0m\u001b[0;34m[\u001b[0m\u001b[0mengine\u001b[0m\u001b[0;34m]\u001b[0m\u001b[0;34m(\u001b[0m\u001b[0mself\u001b[0m\u001b[0;34m.\u001b[0m\u001b[0mf\u001b[0m\u001b[0;34m,\u001b[0m \u001b[0;34m**\u001b[0m\u001b[0mself\u001b[0m\u001b[0;34m.\u001b[0m\u001b[0moptions\u001b[0m\u001b[0;34m)\u001b[0m  \u001b[0;31m# type: ignore[call-arg]\u001b[0m\u001b[0;34m\u001b[0m\u001b[0;34m\u001b[0m\u001b[0m\n\u001b[0m\u001b[1;32m   1041\u001b[0m \u001b[0;34m\u001b[0m\u001b[0m\n\u001b[1;32m   1042\u001b[0m     \u001b[0;32mdef\u001b[0m \u001b[0m_failover_to_python\u001b[0m\u001b[0;34m(\u001b[0m\u001b[0mself\u001b[0m\u001b[0;34m)\u001b[0m\u001b[0;34m:\u001b[0m\u001b[0;34m\u001b[0m\u001b[0;34m\u001b[0m\u001b[0m\n",
      "\u001b[0;32m~/opt/miniconda3/envs/pelkmans-3.9/lib/python3.9/site-packages/pandas/io/parsers/c_parser_wrapper.py\u001b[0m in \u001b[0;36m__init__\u001b[0;34m(self, src, **kwds)\u001b[0m\n\u001b[1;32m     49\u001b[0m \u001b[0;34m\u001b[0m\u001b[0m\n\u001b[1;32m     50\u001b[0m         \u001b[0;31m# open handles\u001b[0m\u001b[0;34m\u001b[0m\u001b[0;34m\u001b[0m\u001b[0m\n\u001b[0;32m---> 51\u001b[0;31m         \u001b[0mself\u001b[0m\u001b[0;34m.\u001b[0m\u001b[0m_open_handles\u001b[0m\u001b[0;34m(\u001b[0m\u001b[0msrc\u001b[0m\u001b[0;34m,\u001b[0m \u001b[0mkwds\u001b[0m\u001b[0;34m)\u001b[0m\u001b[0;34m\u001b[0m\u001b[0;34m\u001b[0m\u001b[0m\n\u001b[0m\u001b[1;32m     52\u001b[0m         \u001b[0;32massert\u001b[0m \u001b[0mself\u001b[0m\u001b[0;34m.\u001b[0m\u001b[0mhandles\u001b[0m \u001b[0;32mis\u001b[0m \u001b[0;32mnot\u001b[0m \u001b[0;32mNone\u001b[0m\u001b[0;34m\u001b[0m\u001b[0;34m\u001b[0m\u001b[0m\n\u001b[1;32m     53\u001b[0m \u001b[0;34m\u001b[0m\u001b[0m\n",
      "\u001b[0;32m~/opt/miniconda3/envs/pelkmans-3.9/lib/python3.9/site-packages/pandas/io/parsers/base_parser.py\u001b[0m in \u001b[0;36m_open_handles\u001b[0;34m(self, src, kwds)\u001b[0m\n\u001b[1;32m    220\u001b[0m         \u001b[0mLet\u001b[0m \u001b[0mthe\u001b[0m \u001b[0mreaders\u001b[0m \u001b[0mopen\u001b[0m \u001b[0mIOHandles\u001b[0m \u001b[0mafter\u001b[0m \u001b[0mthey\u001b[0m \u001b[0mare\u001b[0m \u001b[0mdone\u001b[0m \u001b[0;32mwith\u001b[0m \u001b[0mtheir\u001b[0m \u001b[0mpotential\u001b[0m \u001b[0mraises\u001b[0m\u001b[0;34m.\u001b[0m\u001b[0;34m\u001b[0m\u001b[0;34m\u001b[0m\u001b[0m\n\u001b[1;32m    221\u001b[0m         \"\"\"\n\u001b[0;32m--> 222\u001b[0;31m         self.handles = get_handle(\n\u001b[0m\u001b[1;32m    223\u001b[0m             \u001b[0msrc\u001b[0m\u001b[0;34m,\u001b[0m\u001b[0;34m\u001b[0m\u001b[0;34m\u001b[0m\u001b[0m\n\u001b[1;32m    224\u001b[0m             \u001b[0;34m\"r\"\u001b[0m\u001b[0;34m,\u001b[0m\u001b[0;34m\u001b[0m\u001b[0;34m\u001b[0m\u001b[0m\n",
      "\u001b[0;32m~/opt/miniconda3/envs/pelkmans-3.9/lib/python3.9/site-packages/pandas/io/common.py\u001b[0m in \u001b[0;36mget_handle\u001b[0;34m(path_or_buf, mode, encoding, compression, memory_map, is_text, errors, storage_options)\u001b[0m\n\u001b[1;32m    700\u001b[0m         \u001b[0;32mif\u001b[0m \u001b[0mioargs\u001b[0m\u001b[0;34m.\u001b[0m\u001b[0mencoding\u001b[0m \u001b[0;32mand\u001b[0m \u001b[0;34m\"b\"\u001b[0m \u001b[0;32mnot\u001b[0m \u001b[0;32min\u001b[0m \u001b[0mioargs\u001b[0m\u001b[0;34m.\u001b[0m\u001b[0mmode\u001b[0m\u001b[0;34m:\u001b[0m\u001b[0;34m\u001b[0m\u001b[0;34m\u001b[0m\u001b[0m\n\u001b[1;32m    701\u001b[0m             \u001b[0;31m# Encoding\u001b[0m\u001b[0;34m\u001b[0m\u001b[0;34m\u001b[0m\u001b[0m\n\u001b[0;32m--> 702\u001b[0;31m             handle = open(\n\u001b[0m\u001b[1;32m    703\u001b[0m                 \u001b[0mhandle\u001b[0m\u001b[0;34m,\u001b[0m\u001b[0;34m\u001b[0m\u001b[0;34m\u001b[0m\u001b[0m\n\u001b[1;32m    704\u001b[0m                 \u001b[0mioargs\u001b[0m\u001b[0;34m.\u001b[0m\u001b[0mmode\u001b[0m\u001b[0;34m,\u001b[0m\u001b[0;34m\u001b[0m\u001b[0;34m\u001b[0m\u001b[0m\n",
      "\u001b[0;31mFileNotFoundError\u001b[0m: [Errno 2] No such file or directory: '/Users/hannah.spitzer/projects/pelkmans/local_data/NascentRNA_new/184A1_hannah_EU10/H07/metadata.csv'"
     ]
    }
   ],
   "source": [
    "data_dirs = [os.path.join(DATA_DIR, '184A1_EU10', well) for well in ['H07', 'I08', 'J07']]\n",
    "\n",
    "df = calculate_TR(data_dirs, normalise=True)\n",
    "update_metadata_with_TR(data_dirs, df, normalise=True)\n",
    "\n",
    "# show results\n",
    "display(df.groupby('well_name')['TR_factor'].first())\n",
    "_ = df['TR'].hist(by=df['well_name'], sharex=True)\n",
    "_ = df['TR_norm'].hist(by=df['well_name'], sharex=True)"
   ]
  },
  {
   "cell_type": "markdown",
   "metadata": {},
   "source": [
    "#### Unperturbed wells\n",
    "TR_norm can be used in models trained on only unperturbed wells"
   ]
  },
  {
   "cell_type": "code",
   "execution_count": 9,
   "metadata": {},
   "outputs": [
    {
     "name": "stdout",
     "output_type": "stream",
     "text": [
      "WARNING: reading legacy mapobject idsnpy\n",
      "WARNING: reading legacy mapobject idsnpy\n"
     ]
    },
    {
     "data": {
      "text/plain": [
       "well_name\n",
       "I09    0.986330\n",
       "I11    1.008004\n",
       "Name: TR_factor, dtype: float64"
      ]
     },
     "metadata": {},
     "output_type": "display_data"
    },
    {
     "data": {
      "image/png": "[encoded data removed]",
      "text/plain": [
       "<Figure size 432x288 with 2 Axes>"
      ]
     },
     "metadata": {
      "needs_background": "light"
     },
     "output_type": "display_data"
    },
    {
     "data": {
      "image/png": "[encoded data removed]",
      "text/plain": [
       "<Figure size 432x288 with 2 Axes>"
      ]
     },
     "metadata": {
      "needs_background": "light"
     },
     "output_type": "display_data"
    }
   ],
   "source": [
    "data_dirs = [os.path.join(DATA_DIR, '184A1_unperturbed', well) for well in ['I09', 'I11']] # ['I09', 'I11', 'J10', 'J12']\n",
    "\n",
    "df = calculate_TR(data_dirs, normalise=True)\n",
    "update_metadata_with_TR(data_dirs, df, normalise=True)\n",
    "\n",
    "# show results\n",
    "display(df.groupby('well_name')['TR_factor'].first())\n",
    "_ = df['TR'].hist(by=df['well_name'], sharex=True)\n",
    "_ = df['TR_norm'].hist(by=df['well_name'], sharex=True)"
   ]
  },
  {
   "cell_type": "markdown",
   "metadata": {},
   "source": [
    "#### SBF2 wells\n",
    "TR_norm can be used in models trained on only SBF2 wells"
   ]
  },
  {
   "cell_type": "code",
   "execution_count": null,
   "metadata": {},
   "outputs": [],
   "source": [
    "data_dirs =  [os.path.join(DATA_DIR, '184A1_SBF2', well) for well in ['K18', 'L19', 'M18']] + \\\n",
    "              [os.path.join(DATA_DIR, '184A1_scrambled', well) for well in ['K19', 'L18', 'M19']]\n",
    "\n",
    "df = calculate_TR(data_dirs, normalise=True)\n",
    "update_metadata_with_TR(data_dirs, df, normalise=True)\n",
    "\n",
    "# show results\n",
    "display(df.groupby('well_name')['TR_factor'].first())\n",
    "_ = df['TR'].hist(by=df['well_name'], sharex=True)\n",
    "_ = df['TR_norm'].hist(by=df['well_name'], sharex=True)"
   ]
  },
  {
   "cell_type": "markdown",
   "metadata": {},
   "source": [
    "#### Perturbation wells\n",
    "only write TR"
   ]
  },
  {
   "cell_type": "code",
   "execution_count": 91,
   "metadata": {},
   "outputs": [
    {
     "data": {
      "text/plain": [
       "well_name\n",
       "I09    0.986330\n",
       "I11    1.008004\n",
       "Name: TR_factor, dtype: float64"
      ]
     },
     "metadata": {},
     "output_type": "display_data"
    },
    {
     "data": {
      "text/plain": [
       "array([<AxesSubplot:title={'center':'I09'}>,\n",
       "       <AxesSubplot:title={'center':'I11'}>], dtype=object)"
      ]
     },
     "execution_count": 91,
     "metadata": {},
     "output_type": "execute_result"
    },
    {
     "data": {
      "image/png": "[encoded data removed]",
      "text/plain": [
       "<Figure size 432x288 with 2 Axes>"
      ]
     },
     "metadata": {
      "needs_background": "light"
     },
     "output_type": "display_data"
    },
    {
     "data": {
      "image/png": "[encoded data removed]",
      "text/plain": [
       "<Figure size 432x288 with 2 Axes>"
      ]
     },
     "metadata": {
      "needs_background": "light"
     },
     "output_type": "display_data"
    }
   ],
   "source": [
    "data_dirs = [os.path.join(DATA_DIR, '184A1_DMSO', well) for well in ['I14', 'J16']] + \\\n",
    "            [os.path.join(DATA_DIR, '184A1_AZD4573', well) for well in ['I13', 'I17', 'J14', 'J18', 'J21']] + \\\n",
    "            [os.path.join(DATA_DIR, '184A1_CX5461', well) for well in ['I18', 'J09', 'J22']] + \\\n",
    "            [os.path.join(DATA_DIR, '184A1_TSA', well) for well in ['I16', 'J13', 'J20']] + \\\n",
    "            [os.path.join(DATA_DIR, '184A1_triptolide', well) for well in ['I10', 'J15']] + \\\n",
    "            [os.path.join(DATA_DIR, '184A1_meayamycin', well) for well in ['I12', 'I20']]\n",
    "\n",
    "df = calculate_TR(data_dirs, normalise=False)\n",
    "update_metadata_with_TR(data_dirs, df, normalise=False)\n",
    "\n",
    "# show results\n",
    "_ = df['TR'].hist(by=df['well_name'], sharex=True, figsize=(10,10))"
   ]
  },
  {
   "cell_type": "markdown",
   "metadata": {},
   "source": [
    "### Add mean_background to channels_metadata\n",
    "Read from secondary_only_relative_normalisation, containing background values obtained from empty wells"
   ]
  },
  {
   "cell_type": "code",
   "execution_count": 16,
   "metadata": {},
   "outputs": [
    {
     "data": {
      "text/html": [
       "<div>\n",
       "<style scoped>\n",
       "    .dataframe tbody tr th:only-of-type {\n",
       "        vertical-align: middle;\n",
       "    }\n",
       "\n",
       "    .dataframe tbody tr th {\n",
       "        vertical-align: top;\n",
       "    }\n",
       "\n",
       "    .dataframe thead th {\n",
       "        text-align: right;\n",
       "    }\n",
       "</style>\n",
       "<table border=\"1\" class=\"dataframe\">\n",
       "  <thead>\n",
       "    <tr style=\"text-align: right;\">\n",
       "      <th></th>\n",
       "      <th>id</th>\n",
       "      <th>name</th>\n",
       "      <th>max_intensity</th>\n",
       "      <th>min_intensity</th>\n",
       "      <th>mean_background</th>\n",
       "    </tr>\n",
       "  </thead>\n",
       "  <tbody>\n",
       "    <tr>\n",
       "      <th>0</th>\n",
       "      <td>3</td>\n",
       "      <td>00_BG488</td>\n",
       "      <td>351</td>\n",
       "      <td>96</td>\n",
       "      <td>109.266166</td>\n",
       "    </tr>\n",
       "    <tr>\n",
       "      <th>1</th>\n",
       "      <td>2</td>\n",
       "      <td>00_BG568</td>\n",
       "      <td>349</td>\n",
       "      <td>94</td>\n",
       "      <td>106.990196</td>\n",
       "    </tr>\n",
       "    <tr>\n",
       "      <th>2</th>\n",
       "      <td>1</td>\n",
       "      <td>00_DAPI</td>\n",
       "      <td>350</td>\n",
       "      <td>95</td>\n",
       "      <td>107.700000</td>\n",
       "    </tr>\n",
       "    <tr>\n",
       "      <th>3</th>\n",
       "      <td>7</td>\n",
       "      <td>00_EU</td>\n",
       "      <td>748</td>\n",
       "      <td>97</td>\n",
       "      <td>NaN</td>\n",
       "    </tr>\n",
       "    <tr>\n",
       "      <th>4</th>\n",
       "      <td>8</td>\n",
       "      <td>01_CDK9_pT186</td>\n",
       "      <td>349</td>\n",
       "      <td>94</td>\n",
       "      <td>107.110922</td>\n",
       "    </tr>\n",
       "    <tr>\n",
       "      <th>...</th>\n",
       "      <td>...</td>\n",
       "      <td>...</td>\n",
       "      <td>...</td>\n",
       "      <td>...</td>\n",
       "      <td>...</td>\n",
       "    </tr>\n",
       "    <tr>\n",
       "      <th>78</th>\n",
       "      <td>79</td>\n",
       "      <td>22_DDX6</td>\n",
       "      <td>853</td>\n",
       "      <td>95</td>\n",
       "      <td>106.578549</td>\n",
       "    </tr>\n",
       "    <tr>\n",
       "      <th>79</th>\n",
       "      <td>80</td>\n",
       "      <td>22_DDX6_ILASTIK</td>\n",
       "      <td>63242</td>\n",
       "      <td>0</td>\n",
       "      <td>NaN</td>\n",
       "    </tr>\n",
       "    <tr>\n",
       "      <th>80</th>\n",
       "      <td>83</td>\n",
       "      <td>22_H2B</td>\n",
       "      <td>351</td>\n",
       "      <td>96</td>\n",
       "      <td>NaN</td>\n",
       "    </tr>\n",
       "    <tr>\n",
       "      <th>81</th>\n",
       "      <td>82</td>\n",
       "      <td>22_NPM1</td>\n",
       "      <td>350</td>\n",
       "      <td>95</td>\n",
       "      <td>107.906872</td>\n",
       "    </tr>\n",
       "    <tr>\n",
       "      <th>82</th>\n",
       "      <td>81</td>\n",
       "      <td>22_SE</td>\n",
       "      <td>422</td>\n",
       "      <td>100</td>\n",
       "      <td>NaN</td>\n",
       "    </tr>\n",
       "  </tbody>\n",
       "</table>\n",
       "<p>83 rows × 5 columns</p>\n",
       "</div>"
      ],
      "text/plain": [
       "    id             name  max_intensity  min_intensity  mean_background\n",
       "0    3         00_BG488            351             96       109.266166\n",
       "1    2         00_BG568            349             94       106.990196\n",
       "2    1          00_DAPI            350             95       107.700000\n",
       "3    7            00_EU            748             97              NaN\n",
       "4    8    01_CDK9_pT186            349             94       107.110922\n",
       "..  ..              ...            ...            ...              ...\n",
       "78  79          22_DDX6            853             95       106.578549\n",
       "79  80  22_DDX6_ILASTIK          63242              0              NaN\n",
       "80  83           22_H2B            351             96              NaN\n",
       "81  82          22_NPM1            350             95       107.906872\n",
       "82  81            22_SE            422            100              NaN\n",
       "\n",
       "[83 rows x 5 columns]"
      ]
     },
     "execution_count": 16,
     "metadata": {},
     "output_type": "execute_result"
    }
   ],
   "source": [
    "channels_metadata = pd.read_csv(os.path.join(DATA_DIR, 'channels_metadata.csv'), index_col=0)\n",
    "bkgrd = pd.read_csv(os.path.join(DATA_DIR, 'metadata_raw', 'secondary_only_relative_normalisation.csv'))\n",
    "\n",
    "# use non-cell background measurements from HeLa wells as background values per channel\n",
    "bkgrd = bkgrd.loc[bkgrd['measurement_type'] == \"non-cell\"].loc[bkgrd['cell_line']== \"HeLa\"]\n",
    "bkgrd = bkgrd[['channel','mean_background']].reset_index(drop=True)\n",
    "\n",
    "# merge bkgrd to channels_metadata\n",
    "channels_metadata = channels_metadata.merge(bkgrd, how='left', left_on='name', right_on='channel', suffixes=('_OLD', '')).drop(columns=['channel'])\n",
    "channels_metadata = channels_metadata.drop(columns=[c for c in channels_metadata.columns if c.endswith('_OLD')])\n",
    "channels_metadata.to_csv(os.path.join(DATA_DIR, 'channels_metadata.csv'))\n",
    "\n",
    "channels_metadata"
   ]
  },
  {
   "cell_type": "code",
   "execution_count": 17,
   "metadata": {},
   "outputs": [
    {
     "name": "stdout",
     "output_type": "stream",
     "text": [
      "WARNING: reading legacy mapobject idsnpy\n"
     ]
    }
   ],
   "source": [
    "mpp_data = MPPData.from_data_dir('184A1_unperturbed/I09', data_config='NascentRNA')"
   ]
  },
  {
   "cell_type": "code",
   "execution_count": 27,
   "metadata": {},
   "outputs": [],
   "source": [
    "channels = pd.read_csv(os.path.join(mpp_data.data_config.DATA_DIR, mpp_data.data_dir, 'channels.csv'), index_col=0, \n",
    "names=['channel_id', 'name'])"
   ]
  },
  {
   "cell_type": "code",
   "execution_count": 39,
   "metadata": {},
   "outputs": [
    {
     "data": {
      "text/plain": [
       "Int64Index([0], dtype='int64', name='channel_id')"
      ]
     },
     "execution_count": 39,
     "metadata": {},
     "output_type": "execute_result"
    }
   ],
   "source": [
    "channels[channels['name'].isin(['00_EU'])].index"
   ]
  },
  {
   "cell_type": "code",
   "execution_count": null,
   "metadata": {},
   "outputs": [],
   "source": []
  }
 ],
 "metadata": {
  "interpreter": {
   "hash": "7c3012f799b3ef2382f56288364f3b4f8c7ccb2db3eb0b0379ff9e09fc414115"
  },
  "kernelspec": {
   "display_name": "Python 3.9.7 64-bit ('pelkmans-3.9': conda)",
   "name": "python3"
  },
  "language_info": {
   "codemirror_mode": {
    "name": "ipython",
    "version": 3
   },
   "file_extension": ".py",
   "mimetype": "text/x-python",
   "name": "python",
   "nbconvert_exporter": "python",
   "pygments_lexer": "ipython3",
   "version": "3.9.7"
  },
  "orig_nbformat": 4
 },
 "nbformat": 4,
 "nbformat_minor": 2
}
