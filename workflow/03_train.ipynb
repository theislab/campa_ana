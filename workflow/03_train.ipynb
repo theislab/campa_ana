{
 "cells": [
  {
   "cell_type": "markdown",
   "metadata": {},
   "source": [
    "# Train and evaluate models\n",
    "Training, evaluation, and creation of comparison plots is done with:\n",
    "`scripts/train.sh`\n",
    "\n",
    "This creates X sets of experiments:\n",
    "- VAE_all: VAE and CondVAE_pert-CC models trained on all perturbations (using dataset *184A1_all_frac0005_neigh3_cond_pert-CC*) from `experiment_params_all.py`\n",
    "- VAE_SBF2: VAE and CondVAE_siRNA-CC models trained on siRNA wells (using dataset *184A1_SBF2_frac0005_neigh3_cond_siRNA-CC*) from `experiment_params_SBF2.py`"
   ]
  },
  {
   "cell_type": "code",
   "execution_count": null,
   "metadata": {},
   "outputs": [],
   "source": [
    "from IPython.display import Image, display\n",
    "from miann.constants import EXPERIMENT_DIR\n",
    "import os"
   ]
  },
  {
   "cell_type": "markdown",
   "metadata": {
    "tags": []
   },
   "source": [
    "## Compare results of VAE_all experiment on val split"
   ]
  },
  {
   "cell_type": "code",
   "execution_count": null,
   "metadata": {},
   "outputs": [],
   "source": [
    "exp_name = 'VAE_all'"
   ]
  },
  {
   "cell_type": "code",
   "execution_count": null,
   "metadata": {},
   "outputs": [],
   "source": [
    "display(Image(os.path.join(EXPERIMENT_DIR, exp_name, 'history.png'), width=500))\n",
    "display(Image(os.path.join(EXPERIMENT_DIR, exp_name, 'per_channel_mse.png'), width=750))"
   ]
  },
  {
   "cell_type": "code",
   "execution_count": null,
   "metadata": {},
   "outputs": [],
   "source": [
    "display(Image(os.path.join(EXPERIMENT_DIR, exp_name, 'cluster_images.png'), width=500))"
   ]
  },
  {
   "cell_type": "code",
   "execution_count": null,
   "metadata": {},
   "outputs": [],
   "source": [
    "display(Image(os.path.join(EXPERIMENT_DIR, exp_name, 'predicted_images_0.png'), width=1000))\n",
    "display(Image(os.path.join(EXPERIMENT_DIR, exp_name, 'predicted_images_1.png'), width=1000))\n",
    "#display(Image(os.path.join(EXPERIMENT_DIR, exp_name, 'predicted_images_2.png'), width=2500))\n",
    "#display(Image(os.path.join(EXPERIMENT_DIR, exp_name, 'predicted_images_3.png'), width=2500))"
   ]
  },
  {
   "cell_type": "code",
   "execution_count": null,
   "metadata": {},
   "outputs": [],
   "source": [
    "display(Image(os.path.join(EXPERIMENT_DIR, exp_name, 'umap_MPPleiden.png'), width=1300))\n",
    "display(Image(os.path.join(EXPERIMENT_DIR, exp_name, 'umap_VAE.png'), width=1300))\n",
    "display(Image(os.path.join(EXPERIMENT_DIR, exp_name, 'umap_CondVAE_pert-CC.png'), width=1300))"
   ]
  },
  {
   "cell_type": "markdown",
   "metadata": {},
   "source": [
    "## Compare results of VAE_SBF2 on val split"
   ]
  },
  {
   "cell_type": "code",
   "execution_count": null,
   "metadata": {},
   "outputs": [],
   "source": [
    "exp_name = 'VAE_SBF2'"
   ]
  },
  {
   "cell_type": "code",
   "execution_count": null,
   "metadata": {},
   "outputs": [],
   "source": [
    "display(Image(os.path.join(EXPERIMENT_DIR, exp_name, 'history.png'), width=500))\n",
    "display(Image(os.path.join(EXPERIMENT_DIR, exp_name, 'per_channel_mse.png'), width=750))"
   ]
  },
  {
   "cell_type": "code",
   "execution_count": null,
   "metadata": {},
   "outputs": [],
   "source": [
    "display(Image(os.path.join(EXPERIMENT_DIR, exp_name, 'cluster_images.png'), width=500))"
   ]
  },
  {
   "cell_type": "code",
   "execution_count": null,
   "metadata": {},
   "outputs": [],
   "source": [
    "display(Image(os.path.join(EXPERIMENT_DIR, exp_name, 'predicted_images_0.png'), width=1000))\n",
    "display(Image(os.path.join(EXPERIMENT_DIR, exp_name, 'predicted_images_1.png'), width=1000))\n",
    "#display(Image(os.path.join(EXPERIMENT_DIR, exp_name, 'predicted_images_2.png'), width=2500))\n",
    "#display(Image(os.path.join(EXPERIMENT_DIR, exp_name, 'predicted_images_3.png'), width=2500))"
   ]
  },
  {
   "cell_type": "code",
   "execution_count": null,
   "metadata": {},
   "outputs": [],
   "source": [
    "display(Image(os.path.join(EXPERIMENT_DIR, exp_name, 'umap_MPPleiden.png'), width=1000))\n",
    "display(Image(os.path.join(EXPERIMENT_DIR, exp_name, 'umap_VAE.png'), width=1000))\n",
    "display(Image(os.path.join(EXPERIMENT_DIR, exp_name, 'umap_CondVAE_siRNA-CC.png'), width=1000))"
   ]
  },
  {
   "cell_type": "code",
   "execution_count": null,
   "metadata": {},
   "outputs": [],
   "source": []
  },
  {
   "cell_type": "code",
   "execution_count": null,
   "metadata": {},
   "outputs": [],
   "source": []
  }
 ],
 "metadata": {
  "interpreter": {
   "hash": "baed5587bdf2857a91ba4c9908eee94561fb076fde1a6fb06e1e66a839f3dc76"
  },
  "kernelspec": {
   "display_name": "Python 3 (ipykernel)",
   "language": "python",
   "name": "python3"
  },
  "language_info": {
   "codemirror_mode": {
    "name": "ipython",
    "version": 3
   },
   "file_extension": ".py",
   "mimetype": "text/x-python",
   "name": "python",
   "nbconvert_exporter": "python",
   "pygments_lexer": "ipython3",
   "version": "3.9.7"
  }
 },
 "nbformat": 4,
 "nbformat_minor": 4
}
