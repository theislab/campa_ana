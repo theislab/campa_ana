{
 "cells": [
  {
   "cell_type": "markdown",
   "metadata": {},
   "source": [
    "# Train and evaluate models\n",
    "Training, evaluation, and creation of comparison plots is done with:\n",
    "`scripts/train.sh`\n",
    "\n",
    "This creates X sets of experiments:\n",
    "- VAE_all: VAE and CondVAE_pert-CC models trained on all perturbations (using dataset *184A1_all_frac0005_neigh3_cond_pert-CC*) from `experiment_params_all.py`\n",
    "- VAE_SBF2: VAE and CondVAE_siRNA-CC models trained on siRNA wells (using dataset *184A1_SBF2_frac0005_neigh3_cond_siRNA-CC*) from `experiment_params_SBF2.py`"
   ]
  },
  {
   "cell_type": "markdown",
   "metadata": {},
   "source": [
    "#TODO load and show example plots after training"
   ]
  }
 ],
 "metadata": {
  "language_info": {
   "name": "python"
  },
  "orig_nbformat": 4
 },
 "nbformat": 4,
 "nbformat_minor": 2
}
