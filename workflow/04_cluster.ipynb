{
 "cells": [
  {
   "cell_type": "markdown",
   "id": "876cb4f6-3858-46f9-9837-f2d26d173fb4",
   "metadata": {},
   "source": [
    "# Cluster latent space and project clusters to all data\n",
    "\n",
    "## Prepare clustering\n",
    "prepare subsampled data for clustering and full data for projecting clusters to with:\n",
    "`scripts/cluster_prepare.sh`\n",
    "\n",
    "This creates the `./aggregated/sub-XXX` and `./aggregated/full_data` folders. \n",
    "\n",
    "## Cluster and annotate\n",
    "interactive clustering and annotation.\n",
    "\n",
    "- For VAE_SBF2/CondVAE_siRNA-CC look at [this notebook](04_cluster_SBF2_CondVAE-siRNA-CC.ipynb)\n",
    "- For VAE_all/CondVAE_pert-CC look at [this notebook](04_cluster_all_CondVAE-pert-CC.ipynb)\n"
   ]
  },
  {
   "cell_type": "code",
   "execution_count": null,
   "id": "f25a8c70-1339-4b20-b9f5-0d806d302404",
   "metadata": {},
   "outputs": [],
   "source": []
  }
 ],
 "metadata": {
  "kernelspec": {
   "display_name": "Python 3 (ipykernel)",
   "language": "python",
   "name": "python3"
  },
  "language_info": {
   "codemirror_mode": {
    "name": "ipython",
    "version": 3
   },
   "file_extension": ".py",
   "mimetype": "text/x-python",
   "name": "python",
   "nbconvert_exporter": "python",
   "pygments_lexer": "ipython3",
   "version": "3.9.7"
  }
 },
 "nbformat": 4,
 "nbformat_minor": 5
}
