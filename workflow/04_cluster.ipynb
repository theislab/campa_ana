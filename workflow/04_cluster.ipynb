{
 "cells": [
  {
   "cell_type": "markdown",
   "id": "876cb4f6-3858-46f9-9837-f2d26d173fb4",
   "metadata": {},
   "source": [
    "# Cluster latent space and project clusters to all data\n",
    "\n",
    "Note that reclustering the data might result in slightly different clusters, due to stochasticity in the Leiden algorithm. If you would like to reprocude exact results, download our provided pretrained and clustered models (as described in [00_setup_and_download_data](00_setup_and_download_data.ipynb)) and directly continue with [Project clustering](#project-clustering).\n",
    "\n",
    "## Prepare clustering\n",
    "Prepare subsampled data for clustering and full data for projecting clusters to with:\n",
    "`scripts/cluster_prepare.sh`\n",
    "\n",
    "This creates the `./aggregated/sub-XXX` and `./aggregated/full_data` folders. \n",
    "\n",
    "## Cluster and annotate\n",
    "interactive clustering and annotation.\n",
    "\n",
    "- For VAE_SBF2/CondVAE_siRNA-CC look at [this notebook](04_cluster_SBF2_CondVAE-siRNA-CC.ipynb)\n",
    "- For VAE_all/CondVAE_pert-CC look at [this notebook](04_cluster_all_CondVAE-pert-CC.ipynb)\n",
    "\n",
    "Ablation studies:\n",
    "- For VAE_all/MPPleiden look at [this notebook](04_cluster_all_MPPleiden.ipynb)\n",
    "- For VAE_all/VAE look at [this notebook](04_cluster_all_VAE.ipynb)\n",
    "- For neighborhood size experiments VAE_all/CondVAE-pert-CC_noneigh, VAE_all/CondVAE-pert-CC_neigh5, VAE_all/CondVAE-pert-CC_neigh7 look at [this notebook](04_cluster_all_CondVAE-pert-CC_neighbors.ipynb) \n"
   ]
  },
  {
   "cell_type": "markdown",
   "id": "8523398e-8c81-4307-9246-bb8af4968521",
   "metadata": {},
   "source": [
    "## Project clustering\n",
    "\n",
    "After annotation, project clustering to full data with: `scripts/cluster_project.sh`"
   ]
  },
  {
   "cell_type": "markdown",
   "id": "3299b39e",
   "metadata": {},
   "source": []
  }
 ],
 "metadata": {
  "kernelspec": {
   "display_name": "Python 3.9.7 ('pelkmans-3.9')",
   "language": "python",
   "name": "python3"
  },
  "language_info": {
   "codemirror_mode": {
    "name": "ipython",
    "version": 3
   },
   "file_extension": ".py",
   "mimetype": "text/x-python",
   "name": "python",
   "nbconvert_exporter": "python",
   "pygments_lexer": "ipython3",
   "version": "3.9.7"
  },
  "vscode": {
   "interpreter": {
    "hash": "baed5587bdf2857a91ba4c9908eee94561fb076fde1a6fb06e1e66a839f3dc76"
   }
  }
 },
 "nbformat": 4,
 "nbformat_minor": 5
}
