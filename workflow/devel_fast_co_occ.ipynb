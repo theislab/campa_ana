{
 "cells": [
  {
   "cell_type": "markdown",
   "id": "920aec7a-ecb2-4edd-88cc-5a766c865ac2",
   "metadata": {},
   "source": [
    "# Efficient co-occ scores"
   ]
  },
  {
   "cell_type": "code",
   "execution_count": 10,
   "id": "1861ad3f-cfc0-4b6e-9e83-40793dbb1001",
   "metadata": {},
   "outputs": [],
   "source": [
    "from campa.tl import Experiment, FeatureExtractor\n",
    "import os\n",
    "from campa.pl import plot_mean_intensity, get_intensity_change, plot_intensity_change, plot_mean_size\n",
    "import anndata as ad\n",
    "from campa.pl import plot_co_occurrence, plot_co_occurrence_grid\n",
    "import numpy as np\n",
    "import squidpy as sq\n",
    "from campa.tl._cluster import annotate_clustering\n",
    "from campa.utils import init_logging\n",
    "init_logging()"
   ]
  },
  {
   "cell_type": "code",
   "execution_count": 4,
   "id": "2deb3724-2091-4aa5-9fd0-22fd86e1c5c9",
   "metadata": {
    "tags": []
   },
   "outputs": [
    {
     "name": "stderr",
     "output_type": "stream",
     "text": [
      "INFO:Experiment:Setting up experiment VAE_all/CondVAE_pert-CC\n",
      "INFO:Experiment:Initialised from existing experiment in VAE_all/CondVAE_pert-CC\n",
      "INFO:Experiment:Setting up experiment VAE_all/CondVAE_pert-CC\n",
      "INFO:Experiment:Initialised from existing experiment in VAE_all/CondVAE_pert-CC\n",
      "INFO:Experiment:Cluster annotation: using cluster data in aggregated/sub-0.001\n"
     ]
    }
   ],
   "source": [
    "exp = Experiment.from_dir('VAE_all/CondVAE_pert-CC')\n",
    "# just use one dir here, for extracting all features, run the script\n",
    "data_dir = exp.data_params['data_dirs'][0]\n",
    "#extr = FeatureExtractor(exp, data_dir=data_dir, cluster_name='clustering_res0.9_sub-0.33_seed1', \n",
    "#                        cluster_dir='aggregated/sub-0.005_sub-0.33')\n",
    "#extr = FeatureExtractor(exp, data_dir=data_dir, cluster_name='clustering_res0.5', cluster_col='annotation')\n",
    "extr = FeatureExtractor.from_adata(os.path.join(exp.full_path, 'aggregated/full_data', data_dir, 'features_annotation.h5ad'))\n",
    "\n",
    "interval = np.logspace(np.log2(2),np.log2(80),10, base=2).astype(np.float32)"
   ]
  },
  {
   "cell_type": "code",
   "execution_count": 5,
   "id": "521ade20-8e9c-4d67-8b5c-7f11d2d8bdd6",
   "metadata": {},
   "outputs": [
    {
     "data": {
      "text/plain": [
       "{'data_dir': '184A1_unperturbed/I09',\n",
       " 'cluster_name': 'clustering_res0.5',\n",
       " 'cluster_dir': None,\n",
       " 'cluster_col': 'annotation',\n",
       " 'exp_name': 'VAE_all/CondVAE_pert-CC'}"
      ]
     },
     "execution_count": 5,
     "metadata": {},
     "output_type": "execute_result"
    }
   ],
   "source": [
    "extr.params"
   ]
  },
  {
   "cell_type": "markdown",
   "id": "416f050a-63bf-48ea-92fb-b0824f733ffe",
   "metadata": {
    "tags": []
   },
   "source": [
    "## Manually test implementations"
   ]
  },
  {
   "cell_type": "code",
   "execution_count": 7,
   "id": "2fc71319-530f-4399-b69e-98d75eb1d1c3",
   "metadata": {},
   "outputs": [],
   "source": [
    "def _prepare_co_occ(interval):\n",
    "    \"\"\"\n",
    "    return lists of coordinates to consider for each interval. Coordinates are relative to [0,0].\n",
    "    \"\"\"\n",
    "    arr = np.zeros((int(interval[-1])*2+1, int(interval[-1])*2+1))\n",
    "    # calc distances for interval range (assuming c as center px)\n",
    "    c = int(interval[-1])+1\n",
    "    c = np.array([c,c]).T\n",
    "    xx, yy = np.meshgrid(np.arange(len(arr)), np.arange(len(arr)))\n",
    "    coords = np.array([xx.flatten(), yy.flatten()]).T\n",
    "    dists = np.sqrt(np.sum((coords - c)**2, axis=-1))\n",
    "    dists = dists.reshape(int(interval[-1])*2+1, -1)\n",
    "    # calc coords for each thresh interval\n",
    "    coord_lists = []\n",
    "    for thres_min, thres_max in zip(interval[:-1], interval[1:]):\n",
    "        xy = np.where((dists <= thres_max) & (dists > thres_min))\n",
    "        coord_lists.append(xy - c[:,np.newaxis])\n",
    "\n",
    "    return coord_lists\n",
    "\n",
    "coord_lists = _prepare_co_occ(interval)\n"
   ]
  },
  {
   "cell_type": "code",
   "execution_count": 11,
   "id": "67bf2aa3-ed32-4699-a4ba-e7c17a261895",
   "metadata": {
    "tags": []
   },
   "outputs": [],
   "source": [
    "def squidpy_co_occ(extr, interval):\n",
    "    self = extr\n",
    "    obj_id = extr.mpp_data.unique_obj_ids[0]\n",
    "\n",
    "    cluster_names = {n: i for i,n in enumerate(self.clusters)}\n",
    "    \n",
    "    adata = self.mpp_data.subset(obj_ids=[obj_id], copy=True).get_adata(obs=[self.params['cluster_name']])\n",
    "    # ensure that cluster annotation is present in adata\n",
    "    if self.params['cluster_name'] != self.params['cluster_col']:\n",
    "        adata.obs[self.params['cluster_col']] = annotate_clustering(adata.obs[self.params['cluster_name']], self.annotation, \n",
    "            self.params['cluster_name'], self.params['cluster_col'])\n",
    "    adata.obs[self.params['cluster_col']] = adata.obs[self.params['cluster_col']].astype('category')\n",
    "    self.log.info(f'co-occurrence for {obj_id}, with shape {adata.shape}')\n",
    "    cur_co_occ, _ = sq.gr.co_occurrence(\n",
    "        adata,\n",
    "        cluster_key=self.params['cluster_col'],\n",
    "        spatial_key='spatial',\n",
    "        interval=interval,\n",
    "        copy=True, show_progress_bar=False,\n",
    "        n_splits=1\n",
    "    )\n",
    "    # ensure that co_occ has correct format incase of missing clusters\n",
    "    co_occ = np.zeros((len(self.clusters),len(self.clusters),len(interval)-1))\n",
    "    cur_clusters = np.vectorize(cluster_names.__getitem__)(np.array(adata.obs[self.params['cluster_col']].cat.categories))\n",
    "    grid = np.meshgrid(cur_clusters, cur_clusters)\n",
    "    co_occ[grid[0].flat, grid[1].flat] = cur_co_occ.reshape(-1, len(interval)-1)\n",
    "    \n",
    "    return co_occ\n",
    "\n",
    "\n",
    "from numba import njit, jit\n",
    "import numba.types as nt\n",
    "ft = nt.float32\n",
    "it = nt.int64\n",
    "import time\n",
    "\n",
    "@jit(ft[:,:](it[:],it[:],it), fastmath=True)\n",
    "def _count_co_occ(clus1:np.ndarray, clus2:np.ndarray, num_clusters:int) -> np.ndarray:\n",
    "    co_occur = np.zeros((num_clusters, num_clusters), dtype=np.float32)\n",
    "    for i, j in zip(clus1, clus2):\n",
    "        co_occur[i, j] += 1\n",
    "    return co_occur\n",
    "\n",
    "def _co_occ_opt(coords1: np.ndarray, # int64\n",
    "               coords2_list: np.ndarray, # int64\n",
    "               clusters1: np.ndarray, # int64\n",
    "               img: np.ndarray, # int64\n",
    "               num_clusters: int\n",
    "              ) -> np.ndarray:\n",
    "\n",
    "    out = np.zeros((num_clusters, num_clusters, len(coords2_list)), dtype=np.float32)\n",
    "    for idx, coords2 in enumerate(coords2_list):\n",
    "        #t1 = time.time()\n",
    "        \n",
    "        #co_occur = np.zeros((num_clusters, num_clusters), dtype=np.float32)\n",
    "        probs_con = np.zeros((num_clusters, num_clusters), dtype=np.float32)\n",
    "\n",
    "        # get img coords to consider for this interval (len(interval_coords), num obs)\n",
    "        cur_coords = np.expand_dims(coords2, 2) + np.expand_dims(coords1, 1)\n",
    "\n",
    "        # get cluster of center pixel + repeat for len(interval_coords)\n",
    "        clus1 = np.tile(clusters1, [cur_coords.shape[1], 1])\n",
    "        # reshape to (2, xxx)\n",
    "        cur_coords = cur_coords.reshape((2,-1))\n",
    "        clus1 = clus1.reshape([-1])\n",
    "\n",
    "        # filter cur_coords that are outside image\n",
    "        shape = np.expand_dims(np.array([img.shape[1],img.shape[0]]), 1)\n",
    "        mask = np.all((cur_coords >= 0) & (cur_coords < shape), axis=0)\n",
    "        cur_coords = cur_coords[:,mask]\n",
    "        clus1 = clus1[mask]\n",
    "\n",
    "        # get cluster of cur_coords\n",
    "        clus2 = img[cur_coords[1], cur_coords[0]].flatten()\n",
    "\n",
    "        # remove those pairs where clus2 is outside of this image (cluster id is not a valid id)\n",
    "        mask = clus2 < num_clusters\n",
    "        #assert (clus1 < num_clusters).all()\n",
    "        clus1 = clus1[mask]\n",
    "        clus2 = clus2[mask]\n",
    "\n",
    "        co_occur = _count_co_occ(clus1, clus2, num_clusters)\n",
    "\n",
    "        probs_matrix = co_occur / np.sum(co_occur)\n",
    "        probs = np.sum(probs_matrix, axis=1)\n",
    "\n",
    "        for c in np.unique(img):\n",
    "            # do not consider background value in img\n",
    "            if c >= num_clusters:\n",
    "                continue\n",
    "            probs_conditional = co_occur[c] / np.sum(co_occur[c])\n",
    "            probs_con[c, :] = probs_conditional / probs\n",
    "\n",
    "        out[:, :, idx] = probs_con\n",
    "        #t2 = time.time()\n",
    "        #print(idx, coords2.shape, t1-t2, (t1-t2)/coords2.shape[1])\n",
    "    return out\n",
    "\n",
    "def opt_co_occ(extr, interval):\n",
    "    self = extr\n",
    "    obj_id = extr.mpp_data.unique_obj_ids[0]\n",
    "    \n",
    "    cluster_names = {n: i for i,n in enumerate(self.clusters + [''])}\n",
    "    coords2_list = _prepare_co_occ(interval)\n",
    "    \n",
    "    mpp_data = self.mpp_data.subset(obj_ids=[obj_id], copy=True)\n",
    "    img, (pad_x, pad_y) = mpp_data.get_object_img(obj_id, data=self.params['cluster_name'], annotation_kwargs={'annotation': self.annotation, 'to_col': self.params['cluster_col']})\n",
    "    # convert labels to numbers\n",
    "    img = np.vectorize(cluster_names.__getitem__)(img)\n",
    "    clusters1 = np.vectorize(cluster_names.__getitem__)(annotate_clustering(mpp_data.data(self.params['cluster_name']), self.annotation, self.params['cluster_name'], self.params['cluster_col']))\n",
    "    # shift coords according to image padding, st coords correspond to img coords\n",
    "    coords1 = (np.array([mpp_data.x, mpp_data.y]) - np.array([pad_x, pad_y])[:,np.newaxis]).astype(np.int64)\n",
    "    self.log.info(f'co-occurrence for {obj_id}, with {len(mpp_data.x)} elements')\n",
    "    co_occ = _co_occ_opt(coords1, coords2_list, clusters1, img, num_clusters=len(self.clusters))\n",
    "    \n",
    "    return co_occ\n",
    "    \n",
    "    "
   ]
  },
  {
   "cell_type": "code",
   "execution_count": 12,
   "id": "468abfbf-ff4a-4c18-bfbd-1b2b1c27e37e",
   "metadata": {
    "tags": []
   },
   "outputs": [
    {
     "name": "stderr",
     "output_type": "stream",
     "text": [
      "INFO:MPPData:Before subsetting: 557 objects\n",
      "INFO:MPPData:Subsetting to 1 objects\n",
      "INFO:MPPData:Created new: MPPData for NascentRNA (17008 mpps with shape (1, 1, 34) from 1 objects). Data keys: ['x', 'y', 'obj_ids', 'mpp', 'labels', 'clustering_res0.5', 'latent', 'conditions'].\n",
      "INFO:FeatureExtractor:co-occurrence for 199632, with shape (17008, 34)\n"
     ]
    },
    {
     "name": "stdout",
     "output_type": "stream",
     "text": [
      "CPU times: user 29.8 s, sys: 3.07 s, total: 32.9 s\n",
      "Wall time: 33 s\n"
     ]
    }
   ],
   "source": [
    "%%time\n",
    "# squidpy co occ\n",
    "sq_co_occ = squidpy_co_occ(extr, interval)"
   ]
  },
  {
   "cell_type": "code",
   "execution_count": 8,
   "id": "a9e75028-75e6-4e44-9289-6aef1979fb0d",
   "metadata": {
    "jupyter": {
     "source_hidden": true
    },
    "tags": []
   },
   "outputs": [],
   "source": [
    "@jit(\n",
    "    ft[:,:](it[:,:], it[:,:], it[:], it[:,:], it),\n",
    "    fastmath=True\n",
    ")\n",
    "def co_occ_numba_loop(coords1: np.ndarray, # int64\n",
    "               coords2: np.ndarray, # int64\n",
    "               clusters1: np.ndarray, # int64\n",
    "               img: np.ndarray, # int64\n",
    "               num_clusters: int\n",
    "              ) -> np.ndarray:\n",
    "               \n",
    "    co_occur = np.zeros((num_clusters, num_clusters), np.float32)\n",
    "    probs_con = np.zeros((num_clusters, num_clusters), np.float32)\n",
    "\n",
    "    for c1,clus1 in zip(coords1.T,clusters1):\n",
    "        for c2_ in coords2.T:\n",
    "            c2 = c2_ + c1\n",
    "            # is invalid?\n",
    "            if c2[0] < 0 or c2[1] < 0 or c2[0] >= img.shape[1] or c2[1] >= img.shape[0]:\n",
    "                continue\n",
    "            clus2 = img[c2[1], c2[0]]\n",
    "            # is outside of cell?\n",
    "            if clus2 >= num_clusters:\n",
    "                continue\n",
    "            co_occur[clus1, clus2] += 1\n",
    "\n",
    "    probs_matrix = co_occur / np.sum(co_occur)\n",
    "    probs = np.sum(probs_matrix, axis=1)\n",
    "\n",
    "    for c in np.unique(img):\n",
    "        # do not consider background value in img\n",
    "        if c >= num_clusters:\n",
    "            continue\n",
    "        probs_conditional = co_occur[c] / np.sum(co_occur[c])\n",
    "        probs_con[c, :] = probs_conditional / probs\n",
    "    return probs_con\n",
    "\n"
   ]
  },
  {
   "cell_type": "code",
   "execution_count": 13,
   "id": "26c61191-06c6-4c98-80b8-51213376f4a6",
   "metadata": {},
   "outputs": [
    {
     "name": "stderr",
     "output_type": "stream",
     "text": [
      "INFO:MPPData:Before subsetting: 557 objects\n",
      "INFO:MPPData:Subsetting to 1 objects\n",
      "INFO:MPPData:Created new: MPPData for NascentRNA (17008 mpps with shape (1, 1, 34) from 1 objects). Data keys: ['x', 'y', 'obj_ids', 'mpp', 'labels', 'clustering_res0.5', 'latent', 'conditions'].\n",
      "INFO:FeatureExtractor:co-occurrence for 199632, with 17008 elements\n"
     ]
    },
    {
     "name": "stdout",
     "output_type": "stream",
     "text": [
      "CPU times: user 30.5 s, sys: 6.68 s, total: 37.2 s\n",
      "Wall time: 37.3 s\n"
     ]
    }
   ],
   "source": [
    "%%time\n",
    "# OPT with numpy\n",
    "op_co_occ = opt_co_occ(extr, interval)"
   ]
  },
  {
   "cell_type": "code",
   "execution_count": null,
   "id": "ffee6f6a-9920-4bee-968f-74b412f3e7e4",
   "metadata": {
    "jupyter": {
     "source_hidden": true
    },
    "tags": []
   },
   "outputs": [],
   "source": [
    "%%time\n",
    "# OPT with numba\n",
    "\n",
    "# TODO might do some cluster annotation here\n",
    "#df = pd.DataFrame(mpp_data.data(extr.params['cluster_name']), index=zip(mpp_data.x, mpp_data.y))\n",
    "\n",
    "obj_id = extr.mpp_data.unique_obj_ids[0]\n",
    "\n",
    "num_clusters = len(extr.clusters)\n",
    "cluster_names = {n: i for i,n in enumerate(list(extr.clusters)+[''])}\n",
    "\n",
    "mpp_data = extr.mpp_data.subset(obj_ids=[obj_id], copy=True)\n",
    "img, (pad_x, pad_y) = mpp_data.get_object_img(obj_id, data=extr.params['cluster_name'])\n",
    "# convert labels to numbers\n",
    "img = np.vectorize(cluster_names.__getitem__)(img)\n",
    "cluster = np.vectorize(cluster_names.__getitem__)(mpp_data.data(extr.params['cluster_name']))\n",
    "\n",
    "# shift coords according to image padding, st coords correspond to img coords\n",
    "coords1 = (np.array([mpp_data.x, mpp_data.y]) - np.array([pad_x, pad_y])[:,np.newaxis]).astype(np.int64)\n",
    "\n",
    "\n",
    "out = np.zeros((num_clusters, num_clusters, len(coord_lists)), dtype=np.float32)\n",
    "for idx, coords2 in enumerate(coord_lists):\n",
    "    out[:,:,idx] = co_occ_numba_loop(coords1, coords2, cluster, img[:,:,0], num_clusters)"
   ]
  },
  {
   "cell_type": "code",
   "execution_count": 21,
   "id": "3850cd94-fb6e-443e-ae27-14e4164a84a6",
   "metadata": {},
   "outputs": [
    {
     "data": {
      "text/plain": [
       "array([[6.31509495e+00, 0.00000000e+00, 6.78164721e-01, 9.90489542e-01,\n",
       "        3.87033410e-02, 1.36381984e+00, 1.24141657e+00],\n",
       "       [0.00000000e+00, 1.24514322e+01, 1.10505450e+00, 2.39536981e-03,\n",
       "        2.51594037e-02, 5.21539032e-01, 1.70420744e-02],\n",
       "       [6.78164780e-01, 1.10505450e+00, 6.64635038e+00, 1.32795736e-01,\n",
       "        3.26998711e-01, 1.15143716e+00, 1.76081493e-01],\n",
       "       [9.90489662e-01, 2.39536981e-03, 1.32795736e-01, 4.88185644e+00,\n",
       "        7.99145028e-02, 4.83710438e-01, 5.57625473e-01],\n",
       "       [3.87033410e-02, 2.51594037e-02, 3.26998681e-01, 7.99145028e-02,\n",
       "        4.71955538e+00, 1.56706184e-01, 6.83024451e-02],\n",
       "       [1.36381984e+00, 5.21539092e-01, 1.15143716e+00, 4.83710408e-01,\n",
       "        1.56706184e-01, 1.57430923e+00, 4.76014942e-01],\n",
       "       [1.24141645e+00, 1.70420744e-02, 1.76081479e-01, 5.57625353e-01,\n",
       "        6.83024451e-02, 4.76014912e-01, 9.61888409e+00]])"
      ]
     },
     "execution_count": 21,
     "metadata": {},
     "output_type": "execute_result"
    }
   ],
   "source": [
    "sq_co_occ[:,:,0]"
   ]
  },
  {
   "cell_type": "code",
   "execution_count": 22,
   "id": "402a7929-8d8a-4897-a43d-f19cf868d2a8",
   "metadata": {},
   "outputs": [
    {
     "data": {
      "text/plain": [
       "array([[6.3150949e+00, 0.0000000e+00, 6.7816484e-01, 9.9048966e-01,\n",
       "        3.8703345e-02, 1.3638198e+00, 1.2414167e+00],\n",
       "       [0.0000000e+00, 1.2451433e+01, 1.1050546e+00, 2.3953700e-03,\n",
       "        2.5159407e-02, 5.2153909e-01, 1.7042076e-02],\n",
       "       [6.7816472e-01, 1.1050545e+00, 6.6463513e+00, 1.3279574e-01,\n",
       "        3.2699874e-01, 1.1514372e+00, 1.7608149e-01],\n",
       "       [9.9048954e-01, 2.3953698e-03, 1.3279575e-01, 4.8818569e+00,\n",
       "        7.9914503e-02, 4.8371044e-01, 5.5762547e-01],\n",
       "       [3.8703341e-02, 2.5159404e-02, 3.2699874e-01, 7.9914503e-02,\n",
       "        4.7195563e+00, 1.5670618e-01, 6.8302453e-02],\n",
       "       [1.3638198e+00, 5.2153909e-01, 1.1514373e+00, 4.8371044e-01,\n",
       "        1.5670618e-01, 1.5743092e+00, 4.7601497e-01],\n",
       "       [1.2414166e+00, 1.7042074e-02, 1.7608151e-01, 5.5762547e-01,\n",
       "        6.8302453e-02, 4.7601494e-01, 9.6188850e+00]], dtype=float32)"
      ]
     },
     "execution_count": 22,
     "metadata": {},
     "output_type": "execute_result"
    }
   ],
   "source": [
    "op_co_occ[:,:,0]"
   ]
  },
  {
   "cell_type": "code",
   "execution_count": 23,
   "id": "7854f41b-0354-4767-bed5-e045536b7e5d",
   "metadata": {
    "tags": []
   },
   "outputs": [
    {
     "data": {
      "text/plain": [
       "True"
      ]
     },
     "execution_count": 23,
     "metadata": {},
     "output_type": "execute_result"
    }
   ],
   "source": [
    "np.isclose(sq_co_occ,op_co_occ, rtol=1e-03).all()"
   ]
  },
  {
   "cell_type": "markdown",
   "id": "c4a2508d-2231-4e5e-8043-2df8270dae58",
   "metadata": {},
   "source": [
    "## test implementation in code"
   ]
  },
  {
   "cell_type": "code",
   "execution_count": null,
   "id": "05aa05c9-0350-4ab6-bfee-d1d9974ca532",
   "metadata": {},
   "outputs": [],
   "source": []
  }
 ],
 "metadata": {
  "kernelspec": {
   "display_name": "Python 3 (ipykernel)",
   "language": "python",
   "name": "python3"
  },
  "language_info": {
   "codemirror_mode": {
    "name": "ipython",
    "version": 3
   },
   "file_extension": ".py",
   "mimetype": "text/x-python",
   "name": "python",
   "nbconvert_exporter": "python",
   "pygments_lexer": "ipython3",
   "version": "3.9.7"
  }
 },
 "nbformat": 4,
 "nbformat_minor": 5
}
