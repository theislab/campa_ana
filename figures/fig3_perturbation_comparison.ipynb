{
 "cells": [
  {
   "cell_type": "markdown",
   "metadata": {},
   "source": [
    "# Comparison of all perturbations\n",
    "Use extracted features to build per-cell representations and analyse similarity of perturbations with them"
   ]
  },
  {
   "cell_type": "code",
   "execution_count": 5,
   "metadata": {},
   "outputs": [],
   "source": [
    "from miann.constants import EXPERIMENT_DIR\n",
    "from miann.data import MPPData\n",
    "from miann.tl import Experiment\n",
    "from miann.tl import Cluster, FeatureExtractor\n",
    "from miann.tl._cluster import add_clustering_to_adata\n",
    "from miann.pl import annotate_img\n",
    "from miann.utils import init_logging\n",
    "import os\n",
    "import numpy as np\n",
    "import scanpy as sc\n",
    "import seaborn as sns\n",
    "import pandas as pd\n",
    "import json\n",
    "import matplotlib.pyplot as plt\n",
    "import matplotlib as mpl\n",
    "mpl.rcParams['axes.facecolor'] = 'white'\n",
    "mpl.rcParams['figure.facecolor'] = 'white'\n",
    "init_logging()"
   ]
  },
  {
   "cell_type": "code",
   "execution_count": 3,
   "metadata": {},
   "outputs": [],
   "source": [
    "def add_perturbation_plot(adata):\n",
    "    # create perturbation_plot column from perturbation_duration column\n",
    "    p = np.array(adata.obs['perturbation_duration'])\n",
    "    p[p == 'AZD4573-120'] = 'AZD4573 (2h)'\n",
    "    p[p == 'AZD4573-30'] = 'AZD4573 (0.5h)'\n",
    "    p[p == 'CX5461-120'] = 'CX5461 (2h)'\n",
    "    p[p == 'Meayamycin-720'] = 'Meayamycin (12h)'\n",
    "    p[p == 'TSA-30'] = 'TSA (0.5h)'\n",
    "    p[p == 'Triptolide-120'] = 'Triptolide (2h)'\n",
    "    p[np.in1d(p, ['DMSO-120', 'DMSO-720', 'normal'])] = 'unperturbed'\n",
    "    adata.obs['perturbation_plot'] = p\n",
    "    adata.obs['perturbation_plot'] = adata.obs['perturbation_plot'].astype('category')"
   ]
  },
  {
   "cell_type": "code",
   "execution_count": 2,
   "metadata": {},
   "outputs": [],
   "source": [
    "os.makedirs('fig3', exist_ok=True)\n",
    "#os.makedirs('fig1_suppl', exist_ok=True)"
   ]
  },
  {
   "cell_type": "code",
   "execution_count": 7,
   "metadata": {},
   "outputs": [],
   "source": [
    "import pynndescent"
   ]
  },
  {
   "cell_type": "code",
   "execution_count": 11,
   "metadata": {},
   "outputs": [
    {
     "name": "stdout",
     "output_type": "stream",
     "text": [
      "\u001b[0;31mSignature:\u001b[0m      \n",
      "\u001b[0mpynndescent\u001b[0m\u001b[0;34m.\u001b[0m\u001b[0mdistances\u001b[0m\u001b[0;34m.\u001b[0m\u001b[0mkantorovich\u001b[0m\u001b[0;34m(\u001b[0m\u001b[0;34m\u001b[0m\n",
      "\u001b[0;34m\u001b[0m    \u001b[0mx\u001b[0m\u001b[0;34m,\u001b[0m\u001b[0;34m\u001b[0m\n",
      "\u001b[0;34m\u001b[0m    \u001b[0my\u001b[0m\u001b[0;34m,\u001b[0m\u001b[0;34m\u001b[0m\n",
      "\u001b[0;34m\u001b[0m    \u001b[0mcost\u001b[0m\u001b[0;34m=\u001b[0m\u001b[0marray\u001b[0m\u001b[0;34m(\u001b[0m\u001b[0;34m[\u001b[0m\u001b[0;34m[\u001b[0m\u001b[0;36m0.\u001b[0m\u001b[0;34m,\u001b[0m \u001b[0;36m0.\u001b[0m\u001b[0;34m]\u001b[0m\u001b[0;34m,\u001b[0m\u001b[0;34m\u001b[0m\n",
      "\u001b[0;34m\u001b[0m       \u001b[0;34m[\u001b[0m\u001b[0;36m0.\u001b[0m\u001b[0;34m,\u001b[0m \u001b[0;36m0.\u001b[0m\u001b[0;34m]\u001b[0m\u001b[0;34m]\u001b[0m\u001b[0;34m)\u001b[0m\u001b[0;34m,\u001b[0m\u001b[0;34m\u001b[0m\n",
      "\u001b[0;34m\u001b[0m    \u001b[0mmax_iter\u001b[0m\u001b[0;34m=\u001b[0m\u001b[0;36m100000\u001b[0m\u001b[0;34m,\u001b[0m\u001b[0;34m\u001b[0m\n",
      "\u001b[0;34m\u001b[0m\u001b[0;34m)\u001b[0m\u001b[0;34m\u001b[0m\u001b[0;34m\u001b[0m\u001b[0m\n",
      "\u001b[0;31mCall signature:\u001b[0m  \u001b[0mpynndescent\u001b[0m\u001b[0;34m.\u001b[0m\u001b[0mdistances\u001b[0m\u001b[0;34m.\u001b[0m\u001b[0mkantorovich\u001b[0m\u001b[0;34m(\u001b[0m\u001b[0;34m*\u001b[0m\u001b[0margs\u001b[0m\u001b[0;34m,\u001b[0m \u001b[0;34m**\u001b[0m\u001b[0mkwargs\u001b[0m\u001b[0;34m)\u001b[0m\u001b[0;34m\u001b[0m\u001b[0;34m\u001b[0m\u001b[0m\n",
      "\u001b[0;31mType:\u001b[0m            CPUDispatcher\n",
      "\u001b[0;31mString form:\u001b[0m     CPUDispatcher(<function kantorovich at 0x16d0900d0>)\n",
      "\u001b[0;31mFile:\u001b[0m            ~/opt/miniconda3/envs/pelkmans-3.9/lib/python3.9/site-packages/pynndescent/distances.py\n",
      "\u001b[0;31mDocstring:\u001b[0m       <no docstring>\n",
      "\u001b[0;31mClass docstring:\u001b[0m\n",
      "Implementation of user-facing dispatcher objects (i.e. created using\n",
      "the @jit decorator).\n",
      "This is an abstract base class. Subclasses should define the targetdescr\n",
      "class attribute.\n",
      "\u001b[0;31mInit docstring:\u001b[0m \n",
      "Parameters\n",
      "----------\n",
      "py_func: function object to be compiled\n",
      "locals: dict, optional\n",
      "    Mapping of local variable names to Numba types.  Used to override\n",
      "    the types deduced by the type inference engine.\n",
      "targetoptions: dict, optional\n",
      "    Target-specific config options.\n",
      "impl_kind: str\n",
      "    Select the compiler mode for `@jit` and `@generated_jit`\n",
      "pipeline_class: type numba.compiler.CompilerBase\n",
      "    The compiler pipeline type.\n"
     ]
    }
   ],
   "source": [
    "pynndescent.distances.kantorovich?"
   ]
  },
  {
   "cell_type": "markdown",
   "metadata": {},
   "source": [
    "## Load data"
   ]
  },
  {
   "cell_type": "code",
   "execution_count": 13,
   "metadata": {},
   "outputs": [
    {
     "name": "stderr",
     "output_type": "stream",
     "text": [
      "INFO:Experiment:Setting up experiment test/CondVAE_pert-CC\n",
      "INFO:Experiment:Initialised from existing experiment in test/CondVAE_pert-CC\n",
      "INFO:Experiment:Setting up experiment test/CondVAE_pert-CC\n",
      "INFO:Experiment:Initialised from existing experiment in test/CondVAE_pert-CC\n",
      "INFO:Experiment:Setting up experiment test/CondVAE_pert-CC\n",
      "INFO:Experiment:Initialised from existing experiment in test/CondVAE_pert-CC\n",
      "INFO:Experiment:Cluster annotation: using cluster data in aggregated/sub-0.005\n",
      "INFO:Experiment:Setting up experiment test/CondVAE_pert-CC\n",
      "INFO:Experiment:Initialised from existing experiment in test/CondVAE_pert-CC\n",
      "INFO:Experiment:Cluster annotation: using cluster data in aggregated/sub-0.005\n",
      "INFO:Experiment:Setting up experiment test/CondVAE_pert-CC\n",
      "INFO:Experiment:Initialised from existing experiment in test/CondVAE_pert-CC\n",
      "INFO:Experiment:Cluster annotation: using cluster data in aggregated/sub-0.005\n"
     ]
    }
   ],
   "source": [
    "# first on test experiment, because not all co-occs are calculated\n",
    "exp = Experiment.from_dir('test/CondVAE_pert-CC')\n",
    "extrs = {data_dir: FeatureExtractor.from_adata(os.path.join(exp.full_path, 'aggregated/full_data', data_dir, 'features.h5ad')) \n",
    "    for data_dir in exp.data_params['data_dirs']}"
   ]
  },
  {
   "cell_type": "code",
   "execution_count": 16,
   "metadata": {},
   "outputs": [
    {
     "data": {
      "text/plain": [
       "AnnData object with n_obs × n_vars = 557 × 34\n",
       "    obs: 'mapobject_id', 'plate_name', 'well_name', 'well_pos_y', 'well_pos_x', 'tpoint', 'zplane', 'label', 'is_border', 'mapobject_id_cell', 'plate_name_cell', 'well_name_cell', 'well_pos_y_cell', 'well_pos_x_cell', 'tpoint_cell', 'zplane_cell', 'label_cell', 'is_border_cell', 'is_mitotic', 'is_mitotic_labels', 'is_polynuclei_HeLa', 'is_polynuclei_HeLa_labels', 'is_polynuclei_184A1', 'is_polynuclei_184A1_labels', 'is_SBF2_Sphase_labels', 'is_SBF2_Sphase', 'Heatmap-48', 'cell_cycle', 'description', 'dimensions', 'id', 'cell_type', 'EU', 'duration', 'perturbation', 'secondary_only', 'siRNA', 'perturbation_duration', 'LocalDensity_Nuclei_800', 'TR_factor', 'TR_norm', 'TR', 'TR_factor_DMSO-unperturbed', 'TR_norm_DMSO-unperturbed', 'obj_id_int'\n",
       "    uns: 'clusters', 'co_occurence_params', 'params'\n",
       "    obsm: 'co_occurence_0_0', 'co_occurence_0_1', 'co_occurence_0_2', 'co_occurence_0_3', 'co_occurence_0_4', 'co_occurence_0_5', 'co_occurence_0_6', 'co_occurence_0_7', 'co_occurence_0_8', 'co_occurence_1_0', 'co_occurence_1_1', 'co_occurence_1_2', 'co_occurence_1_3', 'co_occurence_1_4', 'co_occurence_1_5', 'co_occurence_1_6', 'co_occurence_1_7', 'co_occurence_1_8', 'co_occurence_2_0', 'co_occurence_2_1', 'co_occurence_2_2', 'co_occurence_2_3', 'co_occurence_2_4', 'co_occurence_2_5', 'co_occurence_2_6', 'co_occurence_2_7', 'co_occurence_2_8', 'co_occurence_3_0', 'co_occurence_3_1', 'co_occurence_3_2', 'co_occurence_3_3', 'co_occurence_3_4', 'co_occurence_3_5', 'co_occurence_3_6', 'co_occurence_3_7', 'co_occurence_3_8', 'co_occurence_4_0', 'co_occurence_4_1', 'co_occurence_4_2', 'co_occurence_4_3', 'co_occurence_4_4', 'co_occurence_4_5', 'co_occurence_4_6', 'co_occurence_4_7', 'co_occurence_4_8', 'co_occurence_5_0', 'co_occurence_5_1', 'co_occurence_5_2', 'co_occurence_5_3', 'co_occurence_5_4', 'co_occurence_5_5', 'co_occurence_5_6', 'co_occurence_5_7', 'co_occurence_5_8', 'co_occurence_6_0', 'co_occurence_6_1', 'co_occurence_6_2', 'co_occurence_6_3', 'co_occurence_6_4', 'co_occurence_6_5', 'co_occurence_6_6', 'co_occurence_6_7', 'co_occurence_6_8', 'co_occurence_7_0', 'co_occurence_7_1', 'co_occurence_7_2', 'co_occurence_7_3', 'co_occurence_7_4', 'co_occurence_7_5', 'co_occurence_7_6', 'co_occurence_7_7', 'co_occurence_7_8', 'co_occurence_8_0', 'co_occurence_8_1', 'co_occurence_8_2', 'co_occurence_8_3', 'co_occurence_8_4', 'co_occurence_8_5', 'co_occurence_8_6', 'co_occurence_8_7', 'co_occurence_8_8', 'size'\n",
       "    layers: 'intensity_0', 'intensity_1', 'intensity_2', 'intensity_3', 'intensity_4', 'intensity_5', 'intensity_6', 'intensity_7', 'intensity_8'"
      ]
     },
     "execution_count": 16,
     "metadata": {},
     "output_type": "execute_result"
    }
   ],
   "source": [
    "extrs['184A1_unperturbed/I09'].adata"
   ]
  },
  {
   "cell_type": "code",
   "execution_count": null,
   "metadata": {},
   "outputs": [],
   "source": []
  },
  {
   "cell_type": "code",
   "execution_count": 6,
   "metadata": {},
   "outputs": [
    {
     "name": "stderr",
     "output_type": "stream",
     "text": [
      "INFO:Experiment:Setting up experiment VAE_all/CondVAE_pert-CC\n",
      "INFO:Experiment:Initialised from existing experiment in VAE_all/CondVAE_pert-CC\n",
      "INFO:Experiment:Setting up experiment VAE_all/CondVAE_pert-CC\n",
      "INFO:Experiment:Initialised from existing experiment in VAE_all/CondVAE_pert-CC\n",
      "INFO:Experiment:Cluster annotation: using cluster data in aggregated/sub-0.001\n",
      "INFO:Experiment:Setting up experiment VAE_all/CondVAE_pert-CC\n",
      "INFO:Experiment:Initialised from existing experiment in VAE_all/CondVAE_pert-CC\n",
      "INFO:Experiment:Cluster annotation: using cluster data in aggregated/sub-0.001\n",
      "INFO:Experiment:Setting up experiment VAE_all/CondVAE_pert-CC\n",
      "INFO:Experiment:Initialised from existing experiment in VAE_all/CondVAE_pert-CC\n",
      "INFO:Experiment:Cluster annotation: using cluster data in aggregated/sub-0.001\n",
      "INFO:Experiment:Setting up experiment VAE_all/CondVAE_pert-CC\n",
      "INFO:Experiment:Initialised from existing experiment in VAE_all/CondVAE_pert-CC\n",
      "INFO:Experiment:Cluster annotation: using cluster data in aggregated/sub-0.001\n",
      "INFO:Experiment:Setting up experiment VAE_all/CondVAE_pert-CC\n",
      "INFO:Experiment:Initialised from existing experiment in VAE_all/CondVAE_pert-CC\n",
      "INFO:Experiment:Cluster annotation: using cluster data in aggregated/sub-0.001\n",
      "INFO:Experiment:Setting up experiment VAE_all/CondVAE_pert-CC\n",
      "INFO:Experiment:Initialised from existing experiment in VAE_all/CondVAE_pert-CC\n",
      "INFO:Experiment:Cluster annotation: using cluster data in aggregated/sub-0.001\n",
      "INFO:Experiment:Setting up experiment VAE_all/CondVAE_pert-CC\n",
      "INFO:Experiment:Initialised from existing experiment in VAE_all/CondVAE_pert-CC\n",
      "INFO:Experiment:Cluster annotation: using cluster data in aggregated/sub-0.001\n",
      "INFO:Experiment:Setting up experiment VAE_all/CondVAE_pert-CC\n",
      "INFO:Experiment:Initialised from existing experiment in VAE_all/CondVAE_pert-CC\n",
      "INFO:Experiment:Cluster annotation: using cluster data in aggregated/sub-0.001\n",
      "INFO:Experiment:Setting up experiment VAE_all/CondVAE_pert-CC\n",
      "INFO:Experiment:Initialised from existing experiment in VAE_all/CondVAE_pert-CC\n",
      "INFO:Experiment:Cluster annotation: using cluster data in aggregated/sub-0.001\n",
      "INFO:Experiment:Setting up experiment VAE_all/CondVAE_pert-CC\n",
      "INFO:Experiment:Initialised from existing experiment in VAE_all/CondVAE_pert-CC\n",
      "INFO:Experiment:Cluster annotation: using cluster data in aggregated/sub-0.001\n",
      "INFO:Experiment:Setting up experiment VAE_all/CondVAE_pert-CC\n",
      "INFO:Experiment:Initialised from existing experiment in VAE_all/CondVAE_pert-CC\n",
      "INFO:Experiment:Cluster annotation: using cluster data in aggregated/sub-0.001\n",
      "INFO:Experiment:Setting up experiment VAE_all/CondVAE_pert-CC\n",
      "INFO:Experiment:Initialised from existing experiment in VAE_all/CondVAE_pert-CC\n",
      "INFO:Experiment:Cluster annotation: using cluster data in aggregated/sub-0.001\n",
      "INFO:Experiment:Setting up experiment VAE_all/CondVAE_pert-CC\n",
      "INFO:Experiment:Initialised from existing experiment in VAE_all/CondVAE_pert-CC\n",
      "INFO:Experiment:Cluster annotation: using cluster data in aggregated/sub-0.001\n",
      "INFO:Experiment:Setting up experiment VAE_all/CondVAE_pert-CC\n",
      "INFO:Experiment:Initialised from existing experiment in VAE_all/CondVAE_pert-CC\n",
      "INFO:Experiment:Cluster annotation: using cluster data in aggregated/sub-0.001\n",
      "INFO:Experiment:Setting up experiment VAE_all/CondVAE_pert-CC\n",
      "INFO:Experiment:Initialised from existing experiment in VAE_all/CondVAE_pert-CC\n",
      "INFO:Experiment:Cluster annotation: using cluster data in aggregated/sub-0.001\n",
      "INFO:Experiment:Setting up experiment VAE_all/CondVAE_pert-CC\n",
      "INFO:Experiment:Initialised from existing experiment in VAE_all/CondVAE_pert-CC\n",
      "INFO:Experiment:Cluster annotation: using cluster data in aggregated/sub-0.001\n",
      "INFO:Experiment:Setting up experiment VAE_all/CondVAE_pert-CC\n",
      "INFO:Experiment:Initialised from existing experiment in VAE_all/CondVAE_pert-CC\n",
      "INFO:Experiment:Cluster annotation: using cluster data in aggregated/sub-0.001\n",
      "INFO:Experiment:Setting up experiment VAE_all/CondVAE_pert-CC\n",
      "INFO:Experiment:Initialised from existing experiment in VAE_all/CondVAE_pert-CC\n",
      "INFO:Experiment:Cluster annotation: using cluster data in aggregated/sub-0.001\n",
      "INFO:Experiment:Setting up experiment VAE_all/CondVAE_pert-CC\n",
      "INFO:Experiment:Initialised from existing experiment in VAE_all/CondVAE_pert-CC\n",
      "INFO:Experiment:Cluster annotation: using cluster data in aggregated/sub-0.001\n",
      "INFO:Experiment:Setting up experiment VAE_all/CondVAE_pert-CC\n",
      "INFO:Experiment:Initialised from existing experiment in VAE_all/CondVAE_pert-CC\n",
      "INFO:Experiment:Cluster annotation: using cluster data in aggregated/sub-0.001\n",
      "INFO:Experiment:Setting up experiment VAE_all/CondVAE_pert-CC\n",
      "INFO:Experiment:Initialised from existing experiment in VAE_all/CondVAE_pert-CC\n",
      "INFO:Experiment:Cluster annotation: using cluster data in aggregated/sub-0.001\n"
     ]
    }
   ],
   "source": [
    "exp = Experiment.from_dir('VAE_all/CondVAE_pert-CC')\n",
    "extrs = {data_dir: FeatureExtractor.from_adata(os.path.join(exp.full_path, 'aggregated/full_data', data_dir, 'features.h5ad')) \n",
    "    for data_dir in exp.data_params['data_dirs']}"
   ]
  },
  {
   "cell_type": "code",
   "execution_count": 4,
   "metadata": {},
   "outputs": [
    {
     "name": "stderr",
     "output_type": "stream",
     "text": [
      "INFO:MPPData:Created new: MPPData for NascentRNA (154906 mpps with shape (3, 3, 34) from 11847 objects). Data keys: ['x', 'y', 'obj_ids', 'mpp', 'latent', 'umap'].\n",
      "INFO:MPPData:Loaded data from VAE_all/CondVAE_pert-CC/aggregated/sub-0.001.\n",
      "INFO:Cluster:Loaded cluster_mpp MPPData for NascentRNA (154906 mpps with shape (3, 3, 34) from 11847 objects). Data keys: ['x', 'y', 'obj_ids', 'mpp', 'latent', 'umap'].\n",
      "INFO:Cluster:cannot create annotation without clustering in cluster_mpp\n",
      "INFO:MPPData:Created new: MPPData for NascentRNA (154906 mpps with shape (3, 3, 34) from 11847 objects). Data keys: ['x', 'y', 'obj_ids', 'mpp', 'latent', 'clustering_res0.5', 'umap'].\n",
      "INFO:MPPData:Loaded data from VAE_all/CondVAE_pert-CC/aggregated/sub-0.001.\n",
      "INFO:Cluster:Loaded cluster_mpp MPPData for NascentRNA (154906 mpps with shape (3, 3, 34) from 11847 objects). Data keys: ['x', 'y', 'obj_ids', 'mpp', 'latent', 'clustering_res0.5', 'umap'].\n"
     ]
    }
   ],
   "source": [
    "exp_name = 'VAE_all/CondVAE_pert-CC'\n",
    "cluster_data_dir = os.path.join(exp_name, 'aggregated/sub-0.001')\n",
    "# load cl\n",
    "cl = Cluster.from_cluster_data_dir(cluster_data_dir)\n",
    "# geta adata object\n",
    "adata = cl.cluster_mpp.get_adata(X='mpp', obsm={'X_latent': 'latent', 'X_umap': 'umap'})\n",
    "# add clustering and colormap (from cluster_name_annotation.csv) to adata\n",
    "cl.set_cluster_name('clustering_res0.5') \n",
    "add_clustering_to_adata(os.path.join(EXPERIMENT_DIR, cluster_data_dir), 'clustering_res0.5', adata, cl.cluster_annotation)\n",
    "add_clustering_to_adata(os.path.join(EXPERIMENT_DIR, cluster_data_dir), 'clustering_res0.5', adata, cl.cluster_annotation, annotation_col='annotation')\n",
    "# create perturbation names to plot\n",
    "add_perturbation_plot(adata)"
   ]
  },
  {
   "cell_type": "code",
   "execution_count": null,
   "metadata": {},
   "outputs": [],
   "source": []
  }
 ],
 "metadata": {
  "interpreter": {
   "hash": "7c3012f799b3ef2382f56288364f3b4f8c7ccb2db3eb0b0379ff9e09fc414115"
  },
  "kernelspec": {
   "display_name": "Python 3.9.7 64-bit ('pelkmans-3.9': conda)",
   "language": "python",
   "name": "python3"
  },
  "language_info": {
   "codemirror_mode": {
    "name": "ipython",
    "version": 3
   },
   "file_extension": ".py",
   "mimetype": "text/x-python",
   "name": "python",
   "nbconvert_exporter": "python",
   "pygments_lexer": "ipython3",
   "version": "3.9.7"
  },
  "orig_nbformat": 4
 },
 "nbformat": 4,
 "nbformat_minor": 2
}
