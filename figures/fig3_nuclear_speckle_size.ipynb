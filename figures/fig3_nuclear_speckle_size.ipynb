{
 "cells": [
  {
   "cell_type": "markdown",
   "metadata": {},
   "source": [
    "# Look at nuclear speckle size in Meayamycin vs control"
   ]
  },
  {
   "cell_type": "code",
   "execution_count": 1,
   "metadata": {},
   "outputs": [],
   "source": [
    "from campa.tl import Experiment, FeatureExtractor\n",
    "from campa.pl import hex2rgb\n",
    "import os\n",
    "import numpy as np\n",
    "import seaborn as sns\n",
    "import matplotlib.pyplot as plt\n",
    "import anndata as ad"
   ]
  },
  {
   "cell_type": "code",
   "execution_count": 2,
   "metadata": {},
   "outputs": [],
   "source": [
    "def add_perturbation_plot(adata):\n",
    "    # create perturbation_plot column from perturbation_duration column\n",
    "    p = np.array(adata.obs['perturbation_duration'])\n",
    "    p[p == 'AZD4573-120'] = 'AZD4573 (2.5h)'\n",
    "    p[p == 'AZD4573-30'] = 'AZD4573 (1h)'\n",
    "    p[p == 'CX5461-120'] = 'CX5461 (2.5h)'\n",
    "    p[p == 'Meayamycin-720'] = 'Meayamycin (12.5h)'\n",
    "    p[p == 'TSA-30'] = 'TSA (1h)'\n",
    "    p[p == 'Triptolide-120'] = 'Triptolide (2.5h)'\n",
    "    p[np.in1d(p, ['DMSO-120', 'DMSO-720', 'normal'])] = 'unperturbed'\n",
    "    adata.obs['perturbation_plot'] = p\n",
    "    adata.obs['perturbation_plot'] = adata.obs['perturbation_plot'].astype('category')\n",
    "    print(adata.obs['perturbation_plot'].cat.categories)\n",
    "    adata.uns['perturbation_plot_colors'] = ['#377eb8', '#984ea3', '#ff7f00', '#4daf4a','#f781bf', '#a65628', '#999999']  #https://gist.github.com/thriveth/8560036\n"
   ]
  },
  {
   "cell_type": "code",
   "execution_count": 3,
   "metadata": {},
   "outputs": [],
   "source": [
    "exp = Experiment.from_dir('VAE_all/CondVAE_pert-CC')\n",
    "extrs = {data_dir: FeatureExtractor.from_adata(os.path.join(exp.full_path, 'aggregated/full_data', data_dir, 'features_annotation.h5ad')) \n",
    "    for data_dir in exp.data_params['data_dirs']}"
   ]
  },
  {
   "cell_type": "code",
   "execution_count": 4,
   "metadata": {},
   "outputs": [
    {
     "name": "stdout",
     "output_type": "stream",
     "text": [
      "Index(['AZD4573 (1h)', 'AZD4573 (2.5h)', 'CX5461 (2.5h)', 'Meayamycin (12.5h)',\n",
      "       'TSA (1h)', 'Triptolide (2.5h)', 'unperturbed'],\n",
      "      dtype='object')\n"
     ]
    }
   ],
   "source": [
    "adata = ad.concat([extr.adata for extr in extrs.values()], index_unique='-', uns_merge='same')\n",
    "add_perturbation_plot(adata)"
   ]
  },
  {
   "cell_type": "code",
   "execution_count": 5,
   "metadata": {},
   "outputs": [],
   "source": [
    "cats = ['unperturbed', 'Meayamycin (12.5h)']\n",
    "colors = [adata.uns['perturbation_plot_colors'][list(adata.obs['perturbation_plot'].cat.categories).index(c)] for c in cats]\n",
    "colors = np.array(list(map(hex2rgb, colors)))/256."
   ]
  },
  {
   "cell_type": "code",
   "execution_count": 8,
   "metadata": {},
   "outputs": [
    {
     "data": {
      "text/plain": [
       "AxisArrays with keys: co_occurrence_Cajal bodies_Cajal bodies, co_occurrence_Cajal bodies_Extra-nuclear, co_occurrence_Cajal bodies_Nuclear periphery, co_occurrence_Cajal bodies_Nuclear speckles, co_occurrence_Cajal bodies_Nucleolus, co_occurrence_Cajal bodies_Nucleoplasm, co_occurrence_Cajal bodies_PML bodies, co_occurrence_Extra-nuclear_Cajal bodies, co_occurrence_Extra-nuclear_Extra-nuclear, co_occurrence_Extra-nuclear_Nuclear periphery, co_occurrence_Extra-nuclear_Nuclear speckles, co_occurrence_Extra-nuclear_Nucleolus, co_occurrence_Extra-nuclear_Nucleoplasm, co_occurrence_Extra-nuclear_PML bodies, co_occurrence_Nuclear periphery_Cajal bodies, co_occurrence_Nuclear periphery_Extra-nuclear, co_occurrence_Nuclear periphery_Nuclear periphery, co_occurrence_Nuclear periphery_Nuclear speckles, co_occurrence_Nuclear periphery_Nucleolus, co_occurrence_Nuclear periphery_Nucleoplasm, co_occurrence_Nuclear periphery_PML bodies, co_occurrence_Nuclear speckles_Cajal bodies, co_occurrence_Nuclear speckles_Extra-nuclear, co_occurrence_Nuclear speckles_Nuclear periphery, co_occurrence_Nuclear speckles_Nuclear speckles, co_occurrence_Nuclear speckles_Nucleolus, co_occurrence_Nuclear speckles_Nucleoplasm, co_occurrence_Nuclear speckles_PML bodies, co_occurrence_Nucleolus_Cajal bodies, co_occurrence_Nucleolus_Extra-nuclear, co_occurrence_Nucleolus_Nuclear periphery, co_occurrence_Nucleolus_Nuclear speckles, co_occurrence_Nucleolus_Nucleolus, co_occurrence_Nucleolus_Nucleoplasm, co_occurrence_Nucleolus_PML bodies, co_occurrence_Nucleoplasm_Cajal bodies, co_occurrence_Nucleoplasm_Extra-nuclear, co_occurrence_Nucleoplasm_Nuclear periphery, co_occurrence_Nucleoplasm_Nuclear speckles, co_occurrence_Nucleoplasm_Nucleolus, co_occurrence_Nucleoplasm_Nucleoplasm, co_occurrence_Nucleoplasm_PML bodies, co_occurrence_PML bodies_Cajal bodies, co_occurrence_PML bodies_Extra-nuclear, co_occurrence_PML bodies_Nuclear periphery, co_occurrence_PML bodies_Nuclear speckles, co_occurrence_PML bodies_Nucleolus, co_occurrence_PML bodies_Nucleoplasm, co_occurrence_PML bodies_PML bodies, object_S1, object_S2, object_area_mean, object_area_median, object_area_std, object_circularity_mean, object_circularity_median, object_circularity_std, object_count, object_elongation_mean, object_elongation_median, object_elongation_std, object_extent_mean, object_extent_median, object_extent_std, object_size_mean, object_size_std, size"
      ]
     },
     "execution_count": 8,
     "metadata": {},
     "output_type": "execute_result"
    }
   ],
   "source": [
    "extrs[list(extrs.keys())[0]].adata.obsm"
   ]
  },
  {
   "cell_type": "code",
   "execution_count": 11,
   "metadata": {},
   "outputs": [
    {
     "name": "stdout",
     "output_type": "stream",
     "text": [
      "\u001b[0;31mSignature:\u001b[0m\n",
      "\u001b[0msns\u001b[0m\u001b[0;34m.\u001b[0m\u001b[0mboxplot\u001b[0m\u001b[0;34m(\u001b[0m\u001b[0;34m\u001b[0m\n",
      "\u001b[0;34m\u001b[0m    \u001b[0;34m*\u001b[0m\u001b[0;34m,\u001b[0m\u001b[0;34m\u001b[0m\n",
      "\u001b[0;34m\u001b[0m    \u001b[0mx\u001b[0m\u001b[0;34m=\u001b[0m\u001b[0;32mNone\u001b[0m\u001b[0;34m,\u001b[0m\u001b[0;34m\u001b[0m\n",
      "\u001b[0;34m\u001b[0m    \u001b[0my\u001b[0m\u001b[0;34m=\u001b[0m\u001b[0;32mNone\u001b[0m\u001b[0;34m,\u001b[0m\u001b[0;34m\u001b[0m\n",
      "\u001b[0;34m\u001b[0m    \u001b[0mhue\u001b[0m\u001b[0;34m=\u001b[0m\u001b[0;32mNone\u001b[0m\u001b[0;34m,\u001b[0m\u001b[0;34m\u001b[0m\n",
      "\u001b[0;34m\u001b[0m    \u001b[0mdata\u001b[0m\u001b[0;34m=\u001b[0m\u001b[0;32mNone\u001b[0m\u001b[0;34m,\u001b[0m\u001b[0;34m\u001b[0m\n",
      "\u001b[0;34m\u001b[0m    \u001b[0morder\u001b[0m\u001b[0;34m=\u001b[0m\u001b[0;32mNone\u001b[0m\u001b[0;34m,\u001b[0m\u001b[0;34m\u001b[0m\n",
      "\u001b[0;34m\u001b[0m    \u001b[0mhue_order\u001b[0m\u001b[0;34m=\u001b[0m\u001b[0;32mNone\u001b[0m\u001b[0;34m,\u001b[0m\u001b[0;34m\u001b[0m\n",
      "\u001b[0;34m\u001b[0m    \u001b[0morient\u001b[0m\u001b[0;34m=\u001b[0m\u001b[0;32mNone\u001b[0m\u001b[0;34m,\u001b[0m\u001b[0;34m\u001b[0m\n",
      "\u001b[0;34m\u001b[0m    \u001b[0mcolor\u001b[0m\u001b[0;34m=\u001b[0m\u001b[0;32mNone\u001b[0m\u001b[0;34m,\u001b[0m\u001b[0;34m\u001b[0m\n",
      "\u001b[0;34m\u001b[0m    \u001b[0mpalette\u001b[0m\u001b[0;34m=\u001b[0m\u001b[0;32mNone\u001b[0m\u001b[0;34m,\u001b[0m\u001b[0;34m\u001b[0m\n",
      "\u001b[0;34m\u001b[0m    \u001b[0msaturation\u001b[0m\u001b[0;34m=\u001b[0m\u001b[0;36m0.75\u001b[0m\u001b[0;34m,\u001b[0m\u001b[0;34m\u001b[0m\n",
      "\u001b[0;34m\u001b[0m    \u001b[0mwidth\u001b[0m\u001b[0;34m=\u001b[0m\u001b[0;36m0.8\u001b[0m\u001b[0;34m,\u001b[0m\u001b[0;34m\u001b[0m\n",
      "\u001b[0;34m\u001b[0m    \u001b[0mdodge\u001b[0m\u001b[0;34m=\u001b[0m\u001b[0;32mTrue\u001b[0m\u001b[0;34m,\u001b[0m\u001b[0;34m\u001b[0m\n",
      "\u001b[0;34m\u001b[0m    \u001b[0mfliersize\u001b[0m\u001b[0;34m=\u001b[0m\u001b[0;36m5\u001b[0m\u001b[0;34m,\u001b[0m\u001b[0;34m\u001b[0m\n",
      "\u001b[0;34m\u001b[0m    \u001b[0mlinewidth\u001b[0m\u001b[0;34m=\u001b[0m\u001b[0;32mNone\u001b[0m\u001b[0;34m,\u001b[0m\u001b[0;34m\u001b[0m\n",
      "\u001b[0;34m\u001b[0m    \u001b[0mwhis\u001b[0m\u001b[0;34m=\u001b[0m\u001b[0;36m1.5\u001b[0m\u001b[0;34m,\u001b[0m\u001b[0;34m\u001b[0m\n",
      "\u001b[0;34m\u001b[0m    \u001b[0max\u001b[0m\u001b[0;34m=\u001b[0m\u001b[0;32mNone\u001b[0m\u001b[0;34m,\u001b[0m\u001b[0;34m\u001b[0m\n",
      "\u001b[0;34m\u001b[0m    \u001b[0;34m**\u001b[0m\u001b[0mkwargs\u001b[0m\u001b[0;34m,\u001b[0m\u001b[0;34m\u001b[0m\n",
      "\u001b[0;34m\u001b[0m\u001b[0;34m)\u001b[0m\u001b[0;34m\u001b[0m\u001b[0;34m\u001b[0m\u001b[0m\n",
      "\u001b[0;31mDocstring:\u001b[0m\n",
      "Draw a box plot to show distributions with respect to categories.\n",
      "\n",
      "A box plot (or box-and-whisker plot) shows the distribution of quantitative\n",
      "data in a way that facilitates comparisons between variables or across\n",
      "levels of a categorical variable. The box shows the quartiles of the\n",
      "dataset while the whiskers extend to show the rest of the distribution,\n",
      "except for points that are determined to be \"outliers\" using a method\n",
      "that is a function of the inter-quartile range.\n",
      "\n",
      "\n",
      "Input data can be passed in a variety of formats, including:\n",
      "\n",
      "- Vectors of data represented as lists, numpy arrays, or pandas Series\n",
      "  objects passed directly to the ``x``, ``y``, and/or ``hue`` parameters.\n",
      "- A \"long-form\" DataFrame, in which case the ``x``, ``y``, and ``hue``\n",
      "  variables will determine how the data are plotted.\n",
      "- A \"wide-form\" DataFrame, such that each numeric column will be plotted.\n",
      "- An array or list of vectors.\n",
      "\n",
      "In most cases, it is possible to use numpy or Python objects, but pandas\n",
      "objects are preferable because the associated names will be used to\n",
      "annotate the axes. Additionally, you can use Categorical types for the\n",
      "grouping variables to control the order of plot elements.    \n",
      "\n",
      "This function always treats one of the variables as categorical and\n",
      "draws data at ordinal positions (0, 1, ... n) on the relevant axis, even\n",
      "when the data has a numeric or date type.\n",
      "\n",
      "See the :ref:`tutorial <categorical_tutorial>` for more information.    \n",
      "\n",
      "Parameters\n",
      "----------\n",
      "x, y, hue : names of variables in ``data`` or vector data, optional\n",
      "    Inputs for plotting long-form data. See examples for interpretation.        \n",
      "data : DataFrame, array, or list of arrays, optional\n",
      "    Dataset for plotting. If ``x`` and ``y`` are absent, this is\n",
      "    interpreted as wide-form. Otherwise it is expected to be long-form.    \n",
      "order, hue_order : lists of strings, optional\n",
      "    Order to plot the categorical levels in, otherwise the levels are\n",
      "    inferred from the data objects.        \n",
      "orient : \"v\" | \"h\", optional\n",
      "    Orientation of the plot (vertical or horizontal). This is usually\n",
      "    inferred based on the type of the input variables, but it can be used\n",
      "    to resolve ambiguity when both `x` and `y` are numeric or when\n",
      "    plotting wide-form data.    \n",
      "color : matplotlib color, optional\n",
      "    Color for all of the elements, or seed for a gradient palette.    \n",
      "palette : palette name, list, or dict\n",
      "    Colors to use for the different levels of the ``hue`` variable. Should\n",
      "    be something that can be interpreted by :func:`color_palette`, or a\n",
      "    dictionary mapping hue levels to matplotlib colors.    \n",
      "saturation : float, optional\n",
      "    Proportion of the original saturation to draw colors at. Large patches\n",
      "    often look better with slightly desaturated colors, but set this to\n",
      "    ``1`` if you want the plot colors to perfectly match the input color\n",
      "    spec.    \n",
      "width : float, optional\n",
      "    Width of a full element when not using hue nesting, or width of all the\n",
      "    elements for one level of the major grouping variable.    \n",
      "dodge : bool, optional\n",
      "    When hue nesting is used, whether elements should be shifted along the\n",
      "    categorical axis.    \n",
      "fliersize : float, optional\n",
      "    Size of the markers used to indicate outlier observations.\n",
      "linewidth : float, optional\n",
      "    Width of the gray lines that frame the plot elements.    \n",
      "whis : float, optional\n",
      "    Proportion of the IQR past the low and high quartiles to extend the\n",
      "    plot whiskers. Points outside this range will be identified as\n",
      "    outliers.\n",
      "ax : matplotlib Axes, optional\n",
      "    Axes object to draw the plot onto, otherwise uses the current Axes.    \n",
      "kwargs : key, value mappings\n",
      "    Other keyword arguments are passed through to\n",
      "    :meth:`matplotlib.axes.Axes.boxplot`.\n",
      "\n",
      "Returns\n",
      "-------\n",
      "ax : matplotlib Axes\n",
      "    Returns the Axes object with the plot drawn onto it.    \n",
      "\n",
      "See Also\n",
      "--------\n",
      "violinplot : A combination of boxplot and kernel density estimation.    \n",
      "stripplot : A scatterplot where one variable is categorical. Can be used\n",
      "            in conjunction with other plots to show each observation.    \n",
      "swarmplot : A categorical scatterplot where the points do not overlap. Can\n",
      "            be used with other plots to show each observation.    \n",
      "catplot : Combine a categorical plot with a :class:`FacetGrid`.    \n",
      "\n",
      "Examples\n",
      "--------\n",
      "\n",
      "Draw a single horizontal boxplot:\n",
      "\n",
      ".. plot::\n",
      "    :context: close-figs\n",
      "\n",
      "    >>> import seaborn as sns\n",
      "    >>> sns.set_theme(style=\"whitegrid\")\n",
      "    >>> tips = sns.load_dataset(\"tips\")\n",
      "    >>> ax = sns.boxplot(x=tips[\"total_bill\"])\n",
      "\n",
      "Draw a vertical boxplot grouped by a categorical variable:\n",
      "\n",
      ".. plot::\n",
      "    :context: close-figs\n",
      "\n",
      "    >>> ax = sns.boxplot(x=\"day\", y=\"total_bill\", data=tips)\n",
      "\n",
      "Draw a boxplot with nested grouping by two categorical variables:\n",
      "\n",
      ".. plot::\n",
      "    :context: close-figs\n",
      "\n",
      "    >>> ax = sns.boxplot(x=\"day\", y=\"total_bill\", hue=\"smoker\",\n",
      "    ...                  data=tips, palette=\"Set3\")\n",
      "\n",
      "Draw a boxplot with nested grouping when some bins are empty:\n",
      "\n",
      ".. plot::\n",
      "    :context: close-figs\n",
      "\n",
      "    >>> ax = sns.boxplot(x=\"day\", y=\"total_bill\", hue=\"time\",\n",
      "    ...                  data=tips, linewidth=2.5)\n",
      "\n",
      "Control box order by passing an explicit order:\n",
      "\n",
      ".. plot::\n",
      "    :context: close-figs\n",
      "\n",
      "    >>> ax = sns.boxplot(x=\"time\", y=\"tip\", data=tips,\n",
      "    ...                  order=[\"Dinner\", \"Lunch\"])\n",
      "\n",
      "Draw a boxplot for each numeric variable in a DataFrame:\n",
      "\n",
      ".. plot::\n",
      "    :context: close-figs\n",
      "\n",
      "    >>> iris = sns.load_dataset(\"iris\")\n",
      "    >>> ax = sns.boxplot(data=iris, orient=\"h\", palette=\"Set2\")\n",
      "\n",
      "Use ``hue`` without changing box position or width:\n",
      "\n",
      ".. plot::\n",
      "    :context: close-figs\n",
      "\n",
      "    >>> tips[\"weekend\"] = tips[\"day\"].isin([\"Sat\", \"Sun\"])\n",
      "    >>> ax = sns.boxplot(x=\"day\", y=\"total_bill\", hue=\"weekend\",\n",
      "    ...                  data=tips, dodge=False)\n",
      "\n",
      "Use :func:`swarmplot` to show the datapoints on top of the boxes:\n",
      "\n",
      ".. plot::\n",
      "    :context: close-figs\n",
      "\n",
      "    >>> ax = sns.boxplot(x=\"day\", y=\"total_bill\", data=tips)\n",
      "    >>> ax = sns.swarmplot(x=\"day\", y=\"total_bill\", data=tips, color=\".25\")\n",
      "\n",
      "Use :func:`catplot` to combine a :func:`boxplot` and a\n",
      ":class:`FacetGrid`. This allows grouping within additional categorical\n",
      "variables. Using :func:`catplot` is safer than using :class:`FacetGrid`\n",
      "directly, as it ensures synchronization of variable order across facets:\n",
      "\n",
      ".. plot::\n",
      "    :context: close-figs\n",
      "\n",
      "    >>> g = sns.catplot(x=\"sex\", y=\"total_bill\",\n",
      "    ...                 hue=\"smoker\", col=\"time\",\n",
      "    ...                 data=tips, kind=\"box\",\n",
      "    ...                 height=4, aspect=.7);\n",
      "\u001b[0;31mFile:\u001b[0m      ~/opt/miniconda3/envs/pelkmans-3.9/lib/python3.9/site-packages/seaborn/categorical.py\n",
      "\u001b[0;31mType:\u001b[0m      function\n"
     ]
    }
   ],
   "source": [
    "sns.boxplot?"
   ]
  },
  {
   "cell_type": "code",
   "execution_count": 28,
   "metadata": {},
   "outputs": [
    {
     "data": {
      "text/plain": [
       "(array([0, 1]), [Text(0, 0, 'unperturbed'), Text(1, 0, 'Meayamycin (12.5h)')])"
      ]
     },
     "execution_count": 28,
     "metadata": {},
     "output_type": "execute_result"
    },
    {
     "data": {
      "image/png": "[encoded data removed]",
      "text/plain": [
       "<Figure size 144x360 with 2 Axes>"
      ]
     },
     "metadata": {},
     "output_type": "display_data"
    }
   ],
   "source": [
    "sns.set_style('whitegrid')\n",
    "sns.set_context('talk')\n",
    "\n",
    "fig, axes = plt.subplots(2,1, figsize=(2,5), sharex=True)\n",
    "# object count\n",
    "df = adata.obsm['object_count'].copy()\n",
    "df['perturbation_plot'] = adata.obs['perturbation_plot']\n",
    "sns.boxplot(data=df, y='Nuclear speckles', x='perturbation_plot', order=cats, palette=colors, ax=axes[0])\n",
    "axes[0].set_ylabel('count')\n",
    "axes[0].set_xlabel('')\n",
    "\n",
    "# object size\n",
    "df = adata.obsm['object_area_mean'].copy()\n",
    "df['perturbation_plot'] = adata.obs['perturbation_plot']\n",
    "sns.boxplot(data=df, y='Nuclear speckles', x='perturbation_plot', order=cats, palette=colors, ax=axes[1])\n",
    "axes[1].set_ylabel('mean size')\n",
    "axes[1].set_xlabel('')\n",
    "plt.xticks(rotation=90)"
   ]
  },
  {
   "cell_type": "code",
   "execution_count": 27,
   "metadata": {},
   "outputs": [
    {
     "data": {
      "text/plain": [
       "(array([0, 1]), [Text(0, 0, 'unperturbed'), Text(1, 0, 'Meayamycin (12.5h)')])"
      ]
     },
     "execution_count": 27,
     "metadata": {},
     "output_type": "execute_result"
    },
    {
     "data": {
      "image/png": "[encoded data removed]",
      "text/plain": [
       "<Figure size 144x360 with 2 Axes>"
      ]
     },
     "metadata": {},
     "output_type": "display_data"
    }
   ],
   "source": [
    "sns.set_style('whitegrid')\n",
    "sns.set_context('talk')\n",
    "\n",
    "fig, axes = plt.subplots(2,1, figsize=(2,5), sharex=True)\n",
    "# object count\n",
    "df = adata.obsm['object_count'].copy()\n",
    "df['perturbation_plot'] = adata.obs['perturbation_plot']\n",
    "sns.boxplot(data=df, y='Nuclear speckles', x='perturbation_plot', order=cats, palette=colors, ax=axes[0])\n",
    "axes[0].set_ylabel('count')\n",
    "axes[0].set_xlabel('')\n",
    "\n",
    "# object size\n",
    "df = adata.obsm['object_area_median'].copy()\n",
    "df['perturbation_plot'] = adata.obs['perturbation_plot']\n",
    "sns.boxplot(data=df, y='Nuclear speckles', x='perturbation_plot', order=cats, palette=colors, ax=axes[1])\n",
    "axes[1].set_ylabel('median size')\n",
    "axes[1].set_xlabel('')\n",
    "plt.xticks(rotation=90)"
   ]
  },
  {
   "cell_type": "code",
   "execution_count": null,
   "metadata": {},
   "outputs": [],
   "source": []
  }
 ],
 "metadata": {
  "interpreter": {
   "hash": "7c3012f799b3ef2382f56288364f3b4f8c7ccb2db3eb0b0379ff9e09fc414115"
  },
  "kernelspec": {
   "display_name": "Python 3.9.7 64-bit ('pelkmans-3.9': conda)",
   "language": "python",
   "name": "python3"
  },
  "language_info": {
   "codemirror_mode": {
    "name": "ipython",
    "version": 3
   },
   "file_extension": ".py",
   "mimetype": "text/x-python",
   "name": "python",
   "nbconvert_exporter": "python",
   "pygments_lexer": "ipython3",
   "version": "3.9.7"
  },
  "orig_nbformat": 4
 },
 "nbformat": 4,
 "nbformat_minor": 2
}
