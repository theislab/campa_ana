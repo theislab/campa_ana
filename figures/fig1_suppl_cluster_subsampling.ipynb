{
 "cells": [
  {
   "cell_type": "markdown",
   "id": "e9805f51-6cdb-498a-8ddf-9180f0070569",
   "metadata": {},
   "source": [
    "# Supplementary Figure for Fig1: Evaluate effect of different subsampling fractions on leiden clustering\n",
    "\n",
    "Question:\n",
    "- how many pixels do we need to sample to get a stable clustering result?\n",
    "- how large is variation due to different leiden seeds and due to different subsampling seeds?\n",
    "\n",
    "Approach:\n",
    "- test different orders of magnitude to sample pixels for leiden clustering\n",
    "- calculate each subset + clustering several times with different seeds\n",
    "- compare clusterings of different subsets (stability) and clusterings done with different amounts of pixels (correct number of subsampled pixels)\n",
    "- compare to annotated \"groundtruth\" clustering"
   ]
  },
  {
   "cell_type": "code",
   "execution_count": 1,
   "id": "86bc59ef-c693-4f55-92dd-1dc44c85df09",
   "metadata": {},
   "outputs": [],
   "source": [
    "from miann.tl import Cluster\n",
    "from miann.data import MPPData\n",
    "import os\n",
    "import numpy as np\n",
    "import seaborn as sns\n",
    "import pandas as pd\n",
    "import pickle\n",
    "import matplotlib.pyplot as plt\n",
    "import scanpy as sc\n",
    "import anndata as ad\n",
    "from miann.constants import EXPERIMENT_DIR"
   ]
  },
  {
   "cell_type": "code",
   "execution_count": 2,
   "id": "a2e927d8-1c3e-4f2e-b105-cbe270bdbdb3",
   "metadata": {},
   "outputs": [],
   "source": [
    "fig_dir = 'fig1_suppl_cluster_subsampling'\n",
    "os.makedirs(fig_dir, exist_ok=True)"
   ]
  },
  {
   "cell_type": "code",
   "execution_count": 3,
   "id": "8f8347dd-9e2d-45be-9bfd-aaa9217a1a44",
   "metadata": {},
   "outputs": [],
   "source": [
    "clus = Cluster.from_cluster_data_dir('VAE_all/CondVAE_pert-CC/aggregated/sub-0.001')\n",
    "clus.set_cluster_name('clustering_res0.5')"
   ]
  },
  {
   "cell_type": "code",
   "execution_count": 4,
   "id": "e66ccc1b-5ef8-4fec-ac85-d064e4d40cac",
   "metadata": {
    "collapsed": true,
    "jupyter": {
     "outputs_hidden": true
    },
    "tags": []
   },
   "outputs": [
    {
     "name": "stdout",
     "output_type": "stream",
     "text": [
      "(154906, 16)\n"
     ]
    },
    {
     "data": {
      "text/plain": [
       "{'data_config': 'NascentRNA',\n",
       " 'data_dirs': ['184A1_unperturbed/I09',\n",
       "  '184A1_unperturbed/I11',\n",
       "  '184A1_unperturbed/J10',\n",
       "  '184A1_unperturbed/J12',\n",
       "  '184A1_DMSO/I14',\n",
       "  '184A1_DMSO/J16',\n",
       "  '184A1_AZD4573/I13',\n",
       "  '184A1_AZD4573/I17',\n",
       "  '184A1_AZD4573/J14',\n",
       "  '184A1_AZD4573/J18',\n",
       "  '184A1_AZD4573/J21',\n",
       "  '184A1_CX5461/I18',\n",
       "  '184A1_CX5461/J09',\n",
       "  '184A1_CX5461/J22',\n",
       "  '184A1_TSA/I16',\n",
       "  '184A1_TSA/J13',\n",
       "  '184A1_TSA/J20',\n",
       "  '184A1_triptolide/I10',\n",
       "  '184A1_triptolide/J15',\n",
       "  '184A1_meayamycin/I12',\n",
       "  '184A1_meayamycin/I20'],\n",
       " 'process_like_dataset': '184A1_all_frac0005_neigh3_cond_pert-CC',\n",
       " 'subsample': True,\n",
       " 'som_kwargs': {},\n",
       " 'subsample_kwargs': {'frac': 0.001},\n",
       " 'subset': False,\n",
       " 'subset_kwargs': {},\n",
       " 'seed': 42,\n",
       " 'cluster_data_dir': 'VAE_all/CondVAE_pert-CC/aggregated/sub-0.001',\n",
       " 'cluster_name': 'clustering_res0.5',\n",
       " 'cluster_rep': 'latent',\n",
       " 'cluster_method': 'leiden',\n",
       " 'leiden_resolution': 0.8,\n",
       " 'kmeans_n': 20,\n",
       " 'umap': True,\n",
       " 'predict_cluster_imgs': True}"
      ]
     },
     "metadata": {},
     "output_type": "display_data"
    }
   ],
   "source": [
    "print(clus.cluster_mpp.data('latent').shape)\n",
    "display(clus.config)"
   ]
  },
  {
   "cell_type": "markdown",
   "id": "17a15425-e237-4e49-bdcd-9222ae4c8e2f",
   "metadata": {
    "jp-MarkdownHeadingCollapsed": true,
    "tags": []
   },
   "source": [
    "## get different subsets for clustering\n",
    "- differently sized subsets\n",
    "- repeat with different seeds for subsampling to get an idea of the variation in the clustering"
   ]
  },
  {
   "cell_type": "code",
   "execution_count": 42,
   "id": "b4eca916-4208-46c5-905a-602ca58bfd54",
   "metadata": {
    "collapsed": true,
    "jupyter": {
     "outputs_hidden": true
    },
    "tags": []
   },
   "outputs": [
    {
     "name": "stdout",
     "output_type": "stream",
     "text": [
      "184A1_unperturbed/I09\n",
      "184A1_unperturbed/I11\n",
      "184A1_unperturbed/J10\n",
      "184A1_unperturbed/J12\n",
      "184A1_DMSO/I14\n",
      "184A1_DMSO/J16\n",
      "184A1_AZD4573/I13\n",
      "184A1_AZD4573/I17\n",
      "184A1_AZD4573/J14\n",
      "184A1_AZD4573/J18\n",
      "184A1_AZD4573/J21\n",
      "184A1_CX5461/I18\n",
      "184A1_CX5461/J09\n",
      "184A1_CX5461/J22\n",
      "184A1_TSA/I16\n",
      "184A1_TSA/J13\n",
      "184A1_TSA/J20\n",
      "184A1_triptolide/I10\n",
      "184A1_triptolide/J15\n",
      "184A1_meayamycin/I12\n",
      "184A1_meayamycin/I20\n"
     ]
    }
   ],
   "source": [
    "seeds = [0,1,2,3,4]\n",
    "nums = [300000,len(clus.cluster_mpp.data('latent')),75000,37000,19000,9300,4600,2300,1100]\n",
    "nums_per_data_dir = [int(n/len(clus.config['data_dirs'])) for n in nums]\n",
    "\n",
    "data = {num: [[] for _ in seeds] for num in nums}\n",
    "for data_dir in clus.config['data_dirs']:\n",
    "    print(data_dir)\n",
    "    # load data\n",
    "    mpp_data = MPPData.from_data_dir(os.path.join('VAE_all/CondVAE_pert-CC/aggregated', 'full_data', data_dir), keys=['latent'], base_dir=EXPERIMENT_DIR)\n",
    "    # subsample latent\n",
    "    for num in nums:\n",
    "        n = int(num/len(clus.config['data_dirs']))\n",
    "        for i, seed in enumerate(seeds):\n",
    "            rng = np.random.RandomState(seed=seed)\n",
    "            selected = rng.choice(len(mpp_data.data('latent')), n, replace=False)\n",
    "            data[num][i].append(mpp_data.data('latent')[selected])\n",
    "    "
   ]
  },
  {
   "cell_type": "code",
   "execution_count": 46,
   "id": "f0f2cf58-3a79-4364-80c4-c367b1526d2c",
   "metadata": {},
   "outputs": [],
   "source": [
    "# save data\n",
    "pickle.dump(data, open(os.path.join(fig_dir, 'subsampled_data.pickle'), 'wb'))"
   ]
  },
  {
   "cell_type": "markdown",
   "id": "a9eaca28-50b6-4986-9523-0a50d28a6de2",
   "metadata": {
    "tags": []
   },
   "source": [
    "## cluster and project result to reference subsample"
   ]
  },
  {
   "cell_type": "code",
   "execution_count": 4,
   "id": "2fa53010-0da3-44b7-9e63-4156a1743c70",
   "metadata": {},
   "outputs": [],
   "source": [
    "data = pickle.load(open(os.path.join(fig_dir, 'subsampled_data.pickle'), 'rb'))\n",
    "\n",
    "# join all data_dirs\n",
    "seeds = [0,1,2,3,4]\n",
    "nums = [300000,len(clus.cluster_mpp.data('latent')),75000,37000,19000,9300,4600,2300,1100]\n",
    "for num in nums:\n",
    "    for i in range(len(seeds)):\n",
    "        data[num][i] = np.concatenate(data[num][i])"
   ]
  },
  {
   "cell_type": "code",
   "execution_count": 5,
   "id": "0b6a844c-65a6-4380-add9-317c9873d799",
   "metadata": {},
   "outputs": [],
   "source": [
    "from pynndescent import NNDescent\n",
    "def project_clustering(samples, from_samples, from_clusters):\n",
    "    index = NNDescent(from_samples)\n",
    "    # func for getting max count cluster in each row\n",
    "    def most_frequent(arr):\n",
    "        els, counts = np.unique(arr, return_counts=True)\n",
    "        return els[np.argmax(counts)]\n",
    "    # project clusters\n",
    "    neighs = index.query(samples, k=15)[0]\n",
    "    projected_clusters = np.apply_along_axis(most_frequent, arr=np.array(from_clusters)[neighs], axis=1)\n",
    "    return projected_clusters"
   ]
  },
  {
   "cell_type": "code",
   "execution_count": 11,
   "id": "3c1f81da-8e1b-4bd4-a21c-f8d87958707b",
   "metadata": {
    "collapsed": true,
    "jupyter": {
     "outputs_hidden": true
    },
    "tags": []
   },
   "outputs": [
    {
     "name": "stdout",
     "output_type": "stream",
     "text": [
      "9300\n",
      "9300 1 0\n",
      "9300 2 0\n",
      "9300 3 0\n",
      "9300 4 0\n",
      "4600\n",
      "4600 1 0\n",
      "4600 2 0\n",
      "4600 3 0\n",
      "4600 4 0\n",
      "2300\n",
      "2300 1 0\n",
      "2300 2 0\n",
      "2300 3 0\n",
      "2300 4 0\n",
      "1100\n",
      "1100 1 0\n",
      "1100 2 0\n",
      "1100 3 0\n",
      "1100 4 0\n"
     ]
    }
   ],
   "source": [
    "resolution = 0.5\n",
    "# when varying sub_seed, fix leiden_seeds to 0; do not need all combinations\n",
    "#leiden_seeds = [0] \n",
    "leiden_seeds = [1, 2, 3, 4]\n",
    "#sub_seeds = [0,1,2,3,4] \n",
    "sub_seeds = [0]\n",
    "\n",
    "if os.path.exists(os.path.join(fig_dir, 'cluster_subsamples_on_reference.csv')):\n",
    "    df = pd.read_csv(os.path.join(fig_dir, 'cluster_subsamples_on_reference.csv'), index_col=0)\n",
    "else:\n",
    "    df = None\n",
    "    \n",
    "for num in nums:\n",
    "    for sub_seed in sub_seeds:\n",
    "        if num in [300000,len(clus.cluster_mpp.data('latent')),75000,37000,19000]:\n",
    "            continue\n",
    "        print(num)\n",
    "        adata = ad.AnnData(data[num][sub_seed])\n",
    "        sc.pp.neighbors(adata)\n",
    "        for seed in leiden_seeds:\n",
    "            print(num, seed, sub_seed)\n",
    "            sc.tl.leiden(adata, resolution=resolution, key_added='clustering', random_state=seed)\n",
    "            cl = adata.obs['clustering']\n",
    "            # project to reference\n",
    "            proj_cl = project_clustering(clus.cluster_mpp.data('latent'), from_samples=adata.X, from_clusters=cl)\n",
    "            if df is None:\n",
    "                df = pd.DataFrame(proj_cl, columns=[f'cl_{num}_{seed}_sub{sub_seed}'])\n",
    "            else:\n",
    "                df[f'cl_{num}_{seed}_sub{sub_seed}'] = proj_cl\n",
    "            df.to_csv(os.path.join(fig_dir, 'cluster_subsamples_on_reference.csv'))\n",
    " "
   ]
  },
  {
   "cell_type": "markdown",
   "id": "a3921c87-166a-4d36-a6cd-107efedf9b72",
   "metadata": {},
   "source": [
    "## compare cluster overlap with reference clustering\n",
    "as leiden clustering itself varies a lot wrt different random seeds, we have to compare the subsampling variation with the expected random leiden variation (from the same subset)\n",
    "- to judge how stable a clustering is, calculate cluster overlap scores between all pairs and take mean of resulting scores\n",
    "- then compare these score distributions of the leiden seed variation to the subsampling variation\n",
    "\n",
    "plot ideas\n",
    "1. compute mean + ci of overlap within one size (num). Compare variation due to leiden with variation due to sampling. Plot line plot of 2 kinds of variation + ci 095 against num\n",
    "2. which clusters are mostly varying at chosen num. compare overlap scores for each cluster (again for sampling + leiden variation) and plot per cluster. calculate homogeneity per label as a score for this (high homogeneity if clusers are either label 1 or label 0) "
   ]
  },
  {
   "cell_type": "code",
   "execution_count": 12,
   "id": "ff5592d0-5310-4805-be4c-cf442376de31",
   "metadata": {},
   "outputs": [],
   "source": [
    "df = pd.read_csv(os.path.join(fig_dir, 'cluster_subsamples_on_reference.csv'), index_col=0)"
   ]
  },
  {
   "cell_type": "code",
   "execution_count": 13,
   "id": "2093a7ae-4eb3-44d1-a63e-84a15a5d20fe",
   "metadata": {
    "collapsed": true,
    "jupyter": {
     "outputs_hidden": true
    },
    "tags": []
   },
   "outputs": [
    {
     "name": "stdout",
     "output_type": "stream",
     "text": [
      "['cl_9300_0_sub0', 'cl_9300_0_sub1', 'cl_9300_0_sub2', 'cl_9300_0_sub3', 'cl_9300_0_sub4', 'cl_4600_0_sub0', 'cl_4600_0_sub1', 'cl_4600_0_sub2', 'cl_4600_0_sub3', 'cl_4600_0_sub4', 'cl_2300_0_sub0', 'cl_2300_0_sub1', 'cl_2300_0_sub2', 'cl_2300_0_sub3', 'cl_2300_0_sub4', 'cl_1100_0_sub0', 'cl_1100_0_sub1', 'cl_1100_0_sub2', 'cl_1100_0_sub3', 'cl_1100_0_sub4', 'cl_300000_0_sub0', 'cl_300000_0_sub1', 'cl_300000_0_sub2', 'cl_300000_0_sub3', 'cl_300000_0_sub4', 'cl_154906_0_sub0', 'cl_154906_0_sub1', 'cl_154906_0_sub2', 'cl_154906_0_sub3', 'cl_154906_0_sub4', 'cl_75000_0_sub0', 'cl_75000_0_sub1', 'cl_75000_0_sub2', 'cl_75000_0_sub3', 'cl_75000_0_sub4', 'cl_37000_0_sub0', 'cl_37000_0_sub1', 'cl_37000_0_sub2', 'cl_37000_0_sub3', 'cl_37000_0_sub4', 'cl_19000_0_sub0', 'cl_19000_0_sub1', 'cl_19000_0_sub2', 'cl_19000_0_sub3', 'cl_19000_0_sub4', 'cl_300000_1_sub0', 'cl_300000_2_sub0', 'cl_300000_3_sub0', 'cl_300000_4_sub0', 'cl_154906_1_sub0', 'cl_154906_2_sub0', 'cl_154906_3_sub0', 'cl_154906_4_sub0', 'cl_75000_1_sub0', 'cl_75000_2_sub0', 'cl_75000_3_sub0', 'cl_75000_4_sub0', 'cl_37000_1_sub0', 'cl_37000_2_sub0', 'cl_37000_3_sub0', 'cl_37000_4_sub0', 'cl_19000_1_sub0', 'cl_19000_2_sub0', 'cl_19000_3_sub0', 'cl_19000_4_sub0', 'cl_9300_1_sub0', 'cl_9300_2_sub0', 'cl_9300_3_sub0', 'cl_9300_4_sub0', 'cl_4600_1_sub0', 'cl_4600_2_sub0', 'cl_4600_3_sub0', 'cl_4600_4_sub0', 'cl_2300_1_sub0', 'cl_2300_2_sub0', 'cl_2300_3_sub0', 'cl_2300_4_sub0', 'cl_1100_1_sub0', 'cl_1100_2_sub0', 'cl_1100_3_sub0', 'cl_1100_4_sub0']\n",
      "9300 0 sub0\n",
      "9300 0 sub1\n",
      "9300 0 sub2\n",
      "9300 0 sub3\n",
      "9300 0 sub4\n",
      "4600 0 sub0\n",
      "4600 0 sub1\n",
      "4600 0 sub2\n",
      "4600 0 sub3\n",
      "4600 0 sub4\n",
      "2300 0 sub0\n",
      "2300 0 sub1\n",
      "2300 0 sub2\n",
      "2300 0 sub3\n",
      "2300 0 sub4\n",
      "1100 0 sub0\n",
      "1100 0 sub1\n",
      "1100 0 sub2\n",
      "1100 0 sub3\n",
      "1100 0 sub4\n",
      "300000 0 sub0\n",
      "300000 0 sub1\n",
      "300000 0 sub2\n",
      "300000 0 sub3\n",
      "300000 0 sub4\n",
      "154906 0 sub0\n",
      "154906 0 sub1\n",
      "154906 0 sub2\n",
      "154906 0 sub3\n",
      "154906 0 sub4\n",
      "75000 0 sub0\n",
      "75000 0 sub1\n",
      "75000 0 sub2\n",
      "75000 0 sub3\n",
      "75000 0 sub4\n",
      "37000 0 sub0\n",
      "37000 0 sub1\n",
      "37000 0 sub2\n",
      "37000 0 sub3\n",
      "37000 0 sub4\n",
      "19000 0 sub0\n",
      "19000 0 sub1\n",
      "19000 0 sub2\n",
      "19000 0 sub3\n",
      "19000 0 sub4\n",
      "300000 1 sub0\n",
      "300000 2 sub0\n",
      "300000 3 sub0\n",
      "300000 4 sub0\n",
      "154906 1 sub0\n",
      "154906 2 sub0\n",
      "154906 3 sub0\n",
      "154906 4 sub0\n",
      "75000 1 sub0\n",
      "75000 2 sub0\n",
      "75000 3 sub0\n",
      "75000 4 sub0\n",
      "37000 1 sub0\n",
      "37000 2 sub0\n",
      "37000 3 sub0\n",
      "37000 4 sub0\n",
      "19000 1 sub0\n",
      "19000 2 sub0\n",
      "19000 3 sub0\n",
      "19000 4 sub0\n",
      "9300 1 sub0\n",
      "9300 2 sub0\n",
      "9300 3 sub0\n",
      "9300 4 sub0\n",
      "4600 1 sub0\n",
      "4600 2 sub0\n",
      "4600 3 sub0\n",
      "4600 4 sub0\n",
      "2300 1 sub0\n",
      "2300 2 sub0\n",
      "2300 3 sub0\n",
      "2300 4 sub0\n",
      "1100 1 sub0\n",
      "1100 2 sub0\n",
      "1100 3 sub0\n",
      "1100 4 sub0\n",
      "9300 0 sub0\n",
      "9300 0 sub1\n",
      "9300 0 sub2\n",
      "9300 0 sub3\n",
      "9300 0 sub4\n",
      "4600 0 sub0\n",
      "4600 0 sub1\n",
      "4600 0 sub2\n",
      "4600 0 sub3\n",
      "4600 0 sub4\n",
      "2300 0 sub0\n",
      "2300 0 sub1\n",
      "2300 0 sub2\n",
      "2300 0 sub3\n",
      "2300 0 sub4\n",
      "1100 0 sub0\n",
      "1100 0 sub1\n",
      "1100 0 sub2\n",
      "1100 0 sub3\n",
      "1100 0 sub4\n",
      "300000 0 sub0\n",
      "300000 0 sub1\n",
      "300000 0 sub2\n",
      "300000 0 sub3\n",
      "300000 0 sub4\n",
      "154906 0 sub0\n",
      "154906 0 sub1\n",
      "154906 0 sub2\n",
      "154906 0 sub3\n",
      "154906 0 sub4\n",
      "75000 0 sub0\n",
      "75000 0 sub1\n",
      "75000 0 sub2\n",
      "75000 0 sub3\n",
      "75000 0 sub4\n",
      "37000 0 sub0\n",
      "37000 0 sub1\n",
      "37000 0 sub2\n",
      "37000 0 sub3\n",
      "37000 0 sub4\n",
      "19000 0 sub0\n",
      "19000 0 sub1\n",
      "19000 0 sub2\n",
      "19000 0 sub3\n",
      "19000 0 sub4\n",
      "300000 1 sub0\n",
      "300000 2 sub0\n",
      "300000 3 sub0\n",
      "300000 4 sub0\n",
      "154906 1 sub0\n",
      "154906 2 sub0\n",
      "154906 3 sub0\n",
      "154906 4 sub0\n",
      "75000 1 sub0\n",
      "75000 2 sub0\n",
      "75000 3 sub0\n",
      "75000 4 sub0\n",
      "37000 1 sub0\n",
      "37000 2 sub0\n",
      "37000 3 sub0\n",
      "37000 4 sub0\n",
      "19000 1 sub0\n",
      "19000 2 sub0\n",
      "19000 3 sub0\n",
      "19000 4 sub0\n",
      "9300 1 sub0\n",
      "9300 2 sub0\n",
      "9300 3 sub0\n",
      "9300 4 sub0\n",
      "4600 1 sub0\n",
      "4600 2 sub0\n",
      "4600 3 sub0\n",
      "4600 4 sub0\n",
      "2300 1 sub0\n",
      "2300 2 sub0\n",
      "2300 3 sub0\n",
      "2300 4 sub0\n",
      "1100 1 sub0\n",
      "1100 2 sub0\n",
      "1100 3 sub0\n",
      "1100 4 sub0\n"
     ]
    }
   ],
   "source": [
    "from sklearn import metrics\n",
    "\n",
    "# calculate scores between clustering and reference cluster\n",
    "cl_list = [c for c in df.columns if 'cl_' in c]\n",
    "print(cl_list)\n",
    "\n",
    "res_varsub = {\n",
    "    'rand_score': [],\n",
    "    'mi_score': [],\n",
    "    'num': [],\n",
    "    'c1': [],\n",
    "    'c2': []\n",
    "}\n",
    "for i in range(len(cl_list)):\n",
    "    c1 = cl_list[i]\n",
    "    num, leiden_seed, sub_seed = c1.split('_')[1:]\n",
    "    print(num, leiden_seed, sub_seed)\n",
    "    if leiden_seed != '0':\n",
    "        continue\n",
    "    for j in range(i,len(cl_list)):\n",
    "        c2 = cl_list[j]\n",
    "        num2, leiden_seed2, sub_seed2 = c2.split('_')[1:]\n",
    "        if leiden_seed2 != '0':\n",
    "            continue\n",
    "        if num != num2:\n",
    "            continue\n",
    "        res_varsub['num'].append(num)\n",
    "        res_varsub['c1'].append(c1)\n",
    "        res_varsub['c2'].append(c2)\n",
    "        res_varsub['rand_score'].append(metrics.adjusted_rand_score(df[c1], df[c2]))\n",
    "        res_varsub['mi_score'].append(metrics.adjusted_mutual_info_score(df[c1], df[c2]))\n",
    "\n",
    "res_varleiden = {\n",
    "    'rand_score': [],\n",
    "    'mi_score': [],\n",
    "    'num': [],\n",
    "    'c1': [],\n",
    "    'c2': []\n",
    "}\n",
    "for i in range(len(cl_list)):\n",
    "    c1 = cl_list[i]\n",
    "    num, leiden_seed, sub_seed = c1.split('_')[1:]\n",
    "    print(num,leiden_seed,sub_seed)\n",
    "    if sub_seed != 'sub0':\n",
    "        continue\n",
    "    for j in range(i,len(cl_list)):\n",
    "        c2 = cl_list[j]\n",
    "        num2, leiden_seed2, sub_seed2 = c2.split('_')[1:]\n",
    "        if sub_seed2 != 'sub0':\n",
    "            continue\n",
    "        if num != num2:\n",
    "            continue\n",
    "        if leiden_seed not in ['0','1']:\n",
    "            continue\n",
    "        res_varleiden['num'].append(num)\n",
    "        res_varleiden['c1'].append(c1)\n",
    "        res_varleiden['c2'].append(c2)\n",
    "        res_varleiden['rand_score'].append(metrics.adjusted_rand_score(df[c1], df[c2]))\n",
    "        res_varleiden['mi_score'].append(metrics.adjusted_mutual_info_score(df[c1], df[c2]))"
   ]
  },
  {
   "cell_type": "markdown",
   "id": "aecf68ea-9522-4afd-bf6f-3225f7d6cf66",
   "metadata": {},
   "source": [
    "### plot comparison of leiden cluster and random subsampling variation for different number of samples"
   ]
  },
  {
   "cell_type": "code",
   "execution_count": 14,
   "id": "00998511-f56f-423a-9cb4-ef50146d7464",
   "metadata": {},
   "outputs": [],
   "source": [
    "df_varleiden = pd.DataFrame(res_varleiden)\n",
    "df_varleiden['num'] = df_varleiden['num'].astype(int)\n",
    "df_varsub = pd.DataFrame(res_varsub)\n",
    "df_varsub['num'] = df_varsub['num'].astype(int)\n",
    "df_varsub = df_varsub[~(df_varsub.c1.str.endswith('subsub1') | df_varsub.c2.str.endswith('subsub1'))]\n",
    "\n",
    "df_varleiden.to_csv(os.path.join(fig_dir, 'leiden_subsampling_varleiden.csv'))\n",
    "df_varsub.to_csv(os.path.join(fig_dir, 'leiden_subsampling_varsub.csv'))"
   ]
  },
  {
   "cell_type": "code",
   "execution_count": 15,
   "id": "73362e4d-b51a-49fa-8bee-eae56c9ef6de",
   "metadata": {},
   "outputs": [
    {
     "data": {
      "image/png": "[encoded data removed]",
      "text/plain": [
       "<Figure size 432x288 with 1 Axes>"
      ]
     },
     "metadata": {},
     "output_type": "display_data"
    }
   ],
   "source": [
    "sns.set_style('white')\n",
    "sns.set_context('paper')\n",
    "\n",
    "sns.lineplot(data=df_varleiden, x='num', y='mi_score', ci=95, label='fixed subsampling seed, 5 clustering seeds')\n",
    "g = sns.lineplot(data=df_varsub, x='num', y='mi_score', ci=95, label='5 subsampling seeds, fixed clustering seeds')\n",
    "g.set(xscale=\"log\")\n",
    "g.axvline(len(clus.cluster_mpp.data('latent')), c='black', ls='--')\n",
    "g.set_xlabel('number of samples used for clustering')\n",
    "g.set_ylabel('pairwise mutual information')\n",
    "plt.savefig(os.path.join(fig_dir, 'cluster_subsampling_mutual_information.png'), dpi=300, bbox_inches='tight')"
   ]
  },
  {
   "cell_type": "markdown",
   "id": "04d5d049-5d1d-4e3d-abb9-787cfcfea80d",
   "metadata": {},
   "source": [
    "### comparison of variation for chosen number of samples"
   ]
  },
  {
   "cell_type": "code",
   "execution_count": null,
   "id": "519371d0-0df3-40ab-a04a-ecd51876f302",
   "metadata": {},
   "outputs": [],
   "source": [
    "clustering = clus.cluster_mpp.data('clustering_res0.5')\n",
    "clusters = np.unique(clustering)\n",
    "\n",
    "comp_varsub = {\n",
    "    'homogeneity_score': [],\n",
    "    'num': [],\n",
    "    'cl': []\n",
    "}\n",
    "\n",
    "comp_varleiden = {\n",
    "    'homogeneity_score': [],\n",
    "    'num': [],\n",
    "    'cl': []\n",
    "}\n",
    "\n",
    "for i in range(len(cl_list)):\n",
    "    c1 = cl_list[i]\n",
    "    num, leiden_seed, sub_seed = c1.split('_')[1:]\n",
    "    if num != str(len(clus.cluster_mpp.data('latent'))):\n",
    "        continue\n",
    "    if leiden_seed != '0':\n",
    "        continue\n",
    "    if sub_seed == 'subsub1':\n",
    "        continue\n",
    "    for cl in clustering.cat.categories:\n",
    "        print(num, leiden_seed, sub_seed, cl)\n",
    "        comp_varsub['homogeneity_score'].append(metrics.homogeneity_score(clustering==cl, df[c1]))\n",
    "        comp_varsub['num'].append(num)\n",
    "        comp_varsub['cl'].append(cl)\n",
    "        \n",
    "for i in range(len(cl_list)):\n",
    "    c1 = cl_list[i]\n",
    "    num, leiden_seed, sub_seed = c1.split('_')[1:]\n",
    "    if num != str(len(clus.cluster_mpp.data('latent'))):\n",
    "        continue\n",
    "    if sub_seed != 'sub0':\n",
    "        continue\n",
    "    for cl in clustering.cat.categories:\n",
    "        print(num, leiden_seed, sub_seed, cl)\n",
    "        comp_varleiden['homogeneity_score'].append(metrics.homogeneity_score(clustering==cl, df[c1]))\n",
    "        comp_varleiden['num'].append(num)\n",
    "        comp_varleiden['cl'].append(cl)\n",
    "        \n",
    "df_varsub = pd.DataFrame(comp_varsub)\n",
    "df_varsub['type'] = 'sub-sampling'\n",
    "\n",
    "df_varleiden = pd.DataFrame(comp_varleiden)\n",
    "df_varleiden['type'] = 'leiden'"
   ]
  },
  {
   "cell_type": "code",
   "execution_count": null,
   "id": "1ff30fbe-abb0-475e-8b09-33e3f5affe35",
   "metadata": {},
   "outputs": [],
   "source": [
    "sns.boxplot(data=pd.concat([df_varsub, df_varleiden]), x='cl', y='homogeneity_score', hue='type')"
   ]
  },
  {
   "cell_type": "code",
   "execution_count": null,
   "id": "8e5a7061-4227-4880-9a6a-92055fbb51d5",
   "metadata": {},
   "outputs": [],
   "source": [
    "# do the same for annotated clustering\n",
    "def annotate_clustering(clustering, annotation, cluster_name, annotation_col=None):\n",
    "    if annotation_col is None:\n",
    "        return clustering\n",
    "    if cluster_name == annotation_col:\n",
    "        return clustering\n",
    "    return np.array(annotation.set_index(cluster_name)[annotation_col].loc[clustering])\n",
    "\n",
    "clustering = annotate_clustering(clustering, clus.cluster_annotation, 'clustering_res0.5', annotation_col='annotation')\n",
    "clusters = np.unique(clustering)"
   ]
  },
  {
   "cell_type": "code",
   "execution_count": 39,
   "id": "4ccb6c4e-325d-4714-97da-efe77b18426d",
   "metadata": {},
   "outputs": [
    {
     "data": {
      "text/plain": [
       "array(['Nucleoplasm', 'PML bodies', 'Nuclear speckles', ...,\n",
       "       'Nucleoplasm', 'Extra-nuclear', 'Nucleoplasm'], dtype=object)"
      ]
     },
     "execution_count": 39,
     "metadata": {},
     "output_type": "execute_result"
    }
   ],
   "source": [
    "comp_varsub = {\n",
    "    'homogeneity_score': [],\n",
    "    'num': [],\n",
    "    'cl': []\n",
    "}\n",
    "\n",
    "comp_varleiden = {\n",
    "    'homogeneity_score': [],\n",
    "    'num': [],\n",
    "    'cl': []\n",
    "}\n",
    "\n",
    "for i in range(len(cl_list)):\n",
    "    c1 = cl_list[i]\n",
    "    num, leiden_seed, sub_seed = c1.split('_')[1:]\n",
    "    if num != str(len(clus.cluster_mpp.data('latent'))):\n",
    "        continue\n",
    "    if leiden_seed != '0':\n",
    "        continue\n",
    "    if sub_seed == 'subsub1':\n",
    "        continue\n",
    "    for cl in clustering.cat.categories:\n",
    "        print(num, leiden_seed, sub_seed, cl)\n",
    "        comp_varsub['homogeneity_score'].append(metrics.homogeneity_score(clustering==cl, df[c1]))\n",
    "        comp_varsub['num'].append(num)\n",
    "        comp_varsub['cl'].append(cl)\n",
    "        \n",
    "for i in range(len(cl_list)):\n",
    "    c1 = cl_list[i]\n",
    "    num, leiden_seed, sub_seed = c1.split('_')[1:]\n",
    "    if num != str(len(clus.cluster_mpp.data('latent'))):\n",
    "        continue\n",
    "    if sub_seed != 'sub0':\n",
    "        continue\n",
    "    for cl in clustering.cat.categories:\n",
    "        print(num, leiden_seed, sub_seed, cl)\n",
    "        comp_varleiden['homogeneity_score'].append(metrics.homogeneity_score(clustering==cl, df[c1]))\n",
    "        comp_varleiden['num'].append(num)\n",
    "        comp_varleiden['cl'].append(cl)\n",
    "        \n",
    "df_varsub = pd.DataFrame(comp_varsub)\n",
    "df_varsub['type'] = 'sub-sampling'\n",
    "\n",
    "df_varleiden = pd.DataFrame(comp_varleiden)\n",
    "df_varleiden['type'] = 'leiden'"
   ]
  }
 ],
 "metadata": {
  "kernelspec": {
   "display_name": "Python 3 (ipykernel)",
   "language": "python",
   "name": "python3"
  },
  "language_info": {
   "codemirror_mode": {
    "name": "ipython",
    "version": 3
   },
   "file_extension": ".py",
   "mimetype": "text/x-python",
   "name": "python",
   "nbconvert_exporter": "python",
   "pygments_lexer": "ipython3",
   "version": "3.9.7"
  }
 },
 "nbformat": 4,
 "nbformat_minor": 5
}
