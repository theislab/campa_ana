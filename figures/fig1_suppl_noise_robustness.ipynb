{
 "cells": [
  {
   "cell_type": "markdown",
   "id": "6db7c016-f24b-449e-8bcd-083d72f01381",
   "metadata": {},
   "source": [
    "# Robustness to noise\n",
    "Compare model with local neighborhood to model without neighborhood.\n",
    "\n",
    "Predict latent representation of test/val? set by adding different levels of noise to the input (gaussian noise). \n",
    "\n",
    "Evaluations:\n",
    "- Compare how much the latent representation differs from the original one (GT).\n",
    "\n",
    "Expectation:\n",
    "- model with neighborhood is more robust to noise\n",
    "\n",
    "also see fig1_suppl_cluster_subsampling, which does a similar thing, but for subsampling variability. Here, we can choose a random subset of the data to compute noise variability on, we don't need to look at the entire dataset!"
   ]
  },
  {
   "cell_type": "code",
   "execution_count": 1,
   "id": "90679743-28f1-4493-81ea-e4c4696427cd",
   "metadata": {},
   "outputs": [],
   "source": [
    "from miann.constants import EXPERIMENT_DIR\n",
    "from miann.data import MPPData\n",
    "from miann.tl import Experiment, Predictor\n",
    "from miann.tl import Cluster\n",
    "from miann.tl._cluster import add_clustering_to_adata\n",
    "from miann.pl import annotate_img\n",
    "import os\n",
    "import numpy as np\n",
    "import scanpy as sc"
   ]
  },
  {
   "cell_type": "code",
   "execution_count": 30,
   "id": "a190949c-b02c-4368-8d18-bd70c2b079db",
   "metadata": {},
   "outputs": [],
   "source": [
    "fig_dir = 'fig1_suppl_cluster_subsampling'\n",
    "os.makedirs(fig_dir, exist_ok=True)"
   ]
  },
  {
   "cell_type": "code",
   "execution_count": 4,
   "id": "0d9f6a04-1e7c-484d-907b-620a0ffb0638",
   "metadata": {},
   "outputs": [
    {
     "name": "stderr",
     "output_type": "stream",
     "text": [
      "2022-01-27 09:29:25.269250: I tensorflow/core/platform/cpu_feature_guard.cc:142] This TensorFlow binary is optimized with oneAPI Deep Neural Network Library (oneDNN) to use the following CPU instructions in performance-critical operations:  SSE4.1 SSE4.2 AVX AVX2 AVX512F FMA\n",
      "To enable them in other operations, rebuild TensorFlow with the appropriate compiler flags.\n"
     ]
    }
   ],
   "source": [
    "# load models to compare\n",
    "exp_name = 'VAE_all/CondVAE_pert-CC'\n",
    "exp_name_noneigh = 'VAE_all/CondVAE_pert-CC_noneigh'\n",
    "\n",
    "pred = Predictor(Experiment.from_dir(exp_name))\n",
    "pred_noneigh = Predictor(Experiment.from_dir(exp_name_noneigh))"
   ]
  },
  {
   "cell_type": "code",
   "execution_count": 10,
   "id": "4c3ec97d-2360-4f8d-8c08-ae3653cc45d8",
   "metadata": {},
   "outputs": [],
   "source": [
    "# get data to evaluate on\n",
    "mpp_data = MPPData.from_data_dir(f'{exp_name}/aggregated/sub-0.001', optional_keys=['mpp', 'latent', 'conditions'], base_dir=EXPERIMENT_DIR)"
   ]
  },
  {
   "cell_type": "code",
   "execution_count": 8,
   "id": "c99d1d03-9c5d-414e-a9e3-de51282c4672",
   "metadata": {},
   "outputs": [
    {
     "name": "stdout",
     "output_type": "stream",
     "text": [
      "(154906, 3, 3, 34)\n"
     ]
    }
   ],
   "source": [
    "print(mpp_data.mpp.shape)"
   ]
  },
  {
   "cell_type": "markdown",
   "id": "690f8eef-750c-4b8f-8e6f-85efd0aee3eb",
   "metadata": {},
   "source": [
    "## Predict latent with different noise levels\n",
    "- on subset of data used for clustering"
   ]
  },
  {
   "cell_type": "code",
   "execution_count": 31,
   "id": "59060f27-f012-4f45-a4c0-f99f8d3e4789",
   "metadata": {
    "collapsed": true,
    "jupyter": {
     "outputs_hidden": true
    },
    "tags": []
   },
   "outputs": [
    {
     "name": "stdout",
     "output_type": "stream",
     "text": [
      "0.0 VAE_all/CondVAE_pert-CC 0\n",
      "0.0 VAE_all/CondVAE_pert-CC 1\n",
      "0.0 VAE_all/CondVAE_pert-CC 2\n",
      "0.0 VAE_all/CondVAE_pert-CC 3\n",
      "0.0 VAE_all/CondVAE_pert-CC 4\n",
      "0.0 VAE_all/CondVAE_pert-CC_noneigh 0\n",
      "0.0 VAE_all/CondVAE_pert-CC_noneigh 1\n",
      "0.0 VAE_all/CondVAE_pert-CC_noneigh 2\n",
      "0.0 VAE_all/CondVAE_pert-CC_noneigh 3\n",
      "0.0 VAE_all/CondVAE_pert-CC_noneigh 4\n",
      "0.025 VAE_all/CondVAE_pert-CC 0\n",
      "0.025 VAE_all/CondVAE_pert-CC 1\n",
      "0.025 VAE_all/CondVAE_pert-CC 2\n",
      "0.025 VAE_all/CondVAE_pert-CC 3\n",
      "0.025 VAE_all/CondVAE_pert-CC 4\n",
      "0.025 VAE_all/CondVAE_pert-CC_noneigh 0\n",
      "0.025 VAE_all/CondVAE_pert-CC_noneigh 1\n",
      "0.025 VAE_all/CondVAE_pert-CC_noneigh 2\n",
      "0.025 VAE_all/CondVAE_pert-CC_noneigh 3\n",
      "0.025 VAE_all/CondVAE_pert-CC_noneigh 4\n",
      "0.05 VAE_all/CondVAE_pert-CC 0\n",
      "0.05 VAE_all/CondVAE_pert-CC 1\n",
      "0.05 VAE_all/CondVAE_pert-CC 2\n",
      "0.05 VAE_all/CondVAE_pert-CC 3\n",
      "0.05 VAE_all/CondVAE_pert-CC 4\n",
      "0.05 VAE_all/CondVAE_pert-CC_noneigh 0\n",
      "0.05 VAE_all/CondVAE_pert-CC_noneigh 1\n",
      "0.05 VAE_all/CondVAE_pert-CC_noneigh 2\n",
      "0.05 VAE_all/CondVAE_pert-CC_noneigh 3\n",
      "0.05 VAE_all/CondVAE_pert-CC_noneigh 4\n",
      "0.07500000000000001 VAE_all/CondVAE_pert-CC 0\n",
      "0.07500000000000001 VAE_all/CondVAE_pert-CC 1\n",
      "0.07500000000000001 VAE_all/CondVAE_pert-CC 2\n",
      "0.07500000000000001 VAE_all/CondVAE_pert-CC 3\n",
      "0.07500000000000001 VAE_all/CondVAE_pert-CC 4\n",
      "0.07500000000000001 VAE_all/CondVAE_pert-CC_noneigh 0\n",
      "0.07500000000000001 VAE_all/CondVAE_pert-CC_noneigh 1\n",
      "0.07500000000000001 VAE_all/CondVAE_pert-CC_noneigh 2\n",
      "0.07500000000000001 VAE_all/CondVAE_pert-CC_noneigh 3\n",
      "0.07500000000000001 VAE_all/CondVAE_pert-CC_noneigh 4\n",
      "0.1 VAE_all/CondVAE_pert-CC 0\n",
      "0.1 VAE_all/CondVAE_pert-CC 1\n",
      "0.1 VAE_all/CondVAE_pert-CC 2\n",
      "0.1 VAE_all/CondVAE_pert-CC 3\n",
      "0.1 VAE_all/CondVAE_pert-CC 4\n",
      "0.1 VAE_all/CondVAE_pert-CC_noneigh 0\n",
      "0.1 VAE_all/CondVAE_pert-CC_noneigh 1\n",
      "0.1 VAE_all/CondVAE_pert-CC_noneigh 2\n",
      "0.1 VAE_all/CondVAE_pert-CC_noneigh 3\n",
      "0.1 VAE_all/CondVAE_pert-CC_noneigh 4\n",
      "0.125 VAE_all/CondVAE_pert-CC 0\n",
      "0.125 VAE_all/CondVAE_pert-CC 1\n",
      "0.125 VAE_all/CondVAE_pert-CC 2\n",
      "0.125 VAE_all/CondVAE_pert-CC 3\n",
      "0.125 VAE_all/CondVAE_pert-CC 4\n",
      "0.125 VAE_all/CondVAE_pert-CC_noneigh 0\n",
      "0.125 VAE_all/CondVAE_pert-CC_noneigh 1\n",
      "0.125 VAE_all/CondVAE_pert-CC_noneigh 2\n",
      "0.125 VAE_all/CondVAE_pert-CC_noneigh 3\n",
      "0.125 VAE_all/CondVAE_pert-CC_noneigh 4\n",
      "0.15000000000000002 VAE_all/CondVAE_pert-CC 0\n",
      "0.15000000000000002 VAE_all/CondVAE_pert-CC 1\n",
      "0.15000000000000002 VAE_all/CondVAE_pert-CC 2\n",
      "0.15000000000000002 VAE_all/CondVAE_pert-CC 3\n",
      "0.15000000000000002 VAE_all/CondVAE_pert-CC 4\n",
      "0.15000000000000002 VAE_all/CondVAE_pert-CC_noneigh 0\n",
      "0.15000000000000002 VAE_all/CondVAE_pert-CC_noneigh 1\n",
      "0.15000000000000002 VAE_all/CondVAE_pert-CC_noneigh 2\n",
      "0.15000000000000002 VAE_all/CondVAE_pert-CC_noneigh 3\n",
      "0.15000000000000002 VAE_all/CondVAE_pert-CC_noneigh 4\n",
      "0.17500000000000002 VAE_all/CondVAE_pert-CC 0\n",
      "0.17500000000000002 VAE_all/CondVAE_pert-CC 1\n",
      "0.17500000000000002 VAE_all/CondVAE_pert-CC 2\n",
      "0.17500000000000002 VAE_all/CondVAE_pert-CC 3\n",
      "0.17500000000000002 VAE_all/CondVAE_pert-CC 4\n",
      "0.17500000000000002 VAE_all/CondVAE_pert-CC_noneigh 0\n",
      "0.17500000000000002 VAE_all/CondVAE_pert-CC_noneigh 1\n",
      "0.17500000000000002 VAE_all/CondVAE_pert-CC_noneigh 2\n",
      "0.17500000000000002 VAE_all/CondVAE_pert-CC_noneigh 3\n",
      "0.17500000000000002 VAE_all/CondVAE_pert-CC_noneigh 4\n"
     ]
    }
   ],
   "source": [
    "# predict X and noisy X for the two models\n",
    "scales = np.arange(0,0.2,0.025)\n",
    "results = []\n",
    "for scale in scales:\n",
    "    for exp_name in ['VAE_all/CondVAE_pert-CC', 'VAE_all/CondVAE_pert-CC_noneigh']:\n",
    "        for seed in [0,1,2,3,4]:\n",
    "            print(scale, exp_name, seed)\n",
    "            rng = np.random.default_rng(seed=seed)\n",
    "            noise = rng.normal(loc=0, scale=scale, size=mpp_data.mpp.shape)\n",
    "            if 'noneigh' in exp_name:\n",
    "                data = [(mpp_data.mpp+noise)[:,1:2,1:2,:], mpp_data.conditions]\n",
    "                latent_noisy = pred_noneigh.est.model.encoder.predict(data, batch_size=pred.batch_size)\n",
    "                latent = latent_cVAE_noneigh\n",
    "            else:\n",
    "                data = [mpp_data.mpp+noise, mpp_data.conditions]\n",
    "                latent_noisy = pred.est.model.encoder.predict(data, batch_size=pred.batch_size)\n",
    "                latent = latent_cVAE\n",
    "            \n",
    "            # calculate mse and mae between latent and latent noisy\n",
    "            mse = np.sqrt(np.mean((latent - latent_noisy)**2))\n",
    "            mae = np.mean(np.abs(latent - latent_noisy))\n",
    "            results.append({'exp_name':exp_name, 'scale': scale, 'seed': seed, 'mse': mse, 'mae': mae})\n",
    "\n",
    "results = pd.DataFrame(results)\n",
    "results.to_csv(os.path.join(fig_dir, 'noise_robustness.csv'))"
   ]
  },
  {
   "cell_type": "markdown",
   "id": "7dd75509-ce92-4c99-a1b8-2b0603b9315b",
   "metadata": {},
   "source": [
    "## Plot results"
   ]
  },
  {
   "cell_type": "code",
   "execution_count": 41,
   "id": "fae60cec-5daf-4db0-b3b2-752ab3892f30",
   "metadata": {},
   "outputs": [],
   "source": [
    "import pandas as pd\n",
    "import seaborn as sns\n",
    "import matplotlib.pyplot as plt"
   ]
  },
  {
   "cell_type": "code",
   "execution_count": 37,
   "id": "bbf33e2a-0eec-4065-9e2f-ad6bd6e6e35d",
   "metadata": {},
   "outputs": [],
   "source": [
    "df = pd.read_csv(os.path.join(fig_dir, 'noise_robustness.csv'), index_col=0)"
   ]
  },
  {
   "cell_type": "code",
   "execution_count": 42,
   "id": "59ab5430-6d2d-455a-9018-0c52410638d4",
   "metadata": {},
   "outputs": [
    {
     "data": {
      "image/png": "[encoded data removed]",
      "text/plain": [
       "<Figure size 432x288 with 1 Axes>"
      ]
     },
     "metadata": {},
     "output_type": "display_data"
    }
   ],
   "source": [
    "sns.set_style('white')\n",
    "sns.set_context('paper')\n",
    "\n",
    "sns.lineplot(data=df.loc[df['exp_name']=='VAE_all/CondVAE_pert-CC'], x='scale', y='mse', ci=95, \n",
    "             label='with 3x3 neighborhood')\n",
    "g = sns.lineplot(data=df.loc[df['exp_name']=='VAE_all/CondVAE_pert-CC_noneigh'], x='scale', y='mse', \n",
    "                 ci=95, label='no neighborhood')\n",
    "g.set_xlabel('scale of gaussian noise')\n",
    "plt.savefig(os.path.join(fig_dir, 'noise_robustness.png'), bbox_inches='tight')"
   ]
  },
  {
   "cell_type": "code",
   "execution_count": 39,
   "id": "c06773bb-4cad-4560-a452-ad978a04816f",
   "metadata": {},
   "outputs": [
    {
     "data": {
      "text/html": [
       "<div>\n",
       "<style scoped>\n",
       "    .dataframe tbody tr th:only-of-type {\n",
       "        vertical-align: middle;\n",
       "    }\n",
       "\n",
       "    .dataframe tbody tr th {\n",
       "        vertical-align: top;\n",
       "    }\n",
       "\n",
       "    .dataframe thead th {\n",
       "        text-align: right;\n",
       "    }\n",
       "</style>\n",
       "<table border=\"1\" class=\"dataframe\">\n",
       "  <thead>\n",
       "    <tr style=\"text-align: right;\">\n",
       "      <th></th>\n",
       "      <th>exp_name</th>\n",
       "      <th>scale</th>\n",
       "      <th>seed</th>\n",
       "      <th>mse</th>\n",
       "      <th>mae</th>\n",
       "    </tr>\n",
       "  </thead>\n",
       "  <tbody>\n",
       "    <tr>\n",
       "      <th>0</th>\n",
       "      <td>VAE_all/CondVAE_pert-CC</td>\n",
       "      <td>0.000</td>\n",
       "      <td>0</td>\n",
       "      <td>0.002856</td>\n",
       "      <td>0.002260</td>\n",
       "    </tr>\n",
       "    <tr>\n",
       "      <th>1</th>\n",
       "      <td>VAE_all/CondVAE_pert-CC</td>\n",
       "      <td>0.000</td>\n",
       "      <td>1</td>\n",
       "      <td>0.002855</td>\n",
       "      <td>0.002259</td>\n",
       "    </tr>\n",
       "    <tr>\n",
       "      <th>2</th>\n",
       "      <td>VAE_all/CondVAE_pert-CC</td>\n",
       "      <td>0.000</td>\n",
       "      <td>2</td>\n",
       "      <td>0.002856</td>\n",
       "      <td>0.002258</td>\n",
       "    </tr>\n",
       "    <tr>\n",
       "      <th>3</th>\n",
       "      <td>VAE_all/CondVAE_pert-CC</td>\n",
       "      <td>0.000</td>\n",
       "      <td>3</td>\n",
       "      <td>0.002858</td>\n",
       "      <td>0.002261</td>\n",
       "    </tr>\n",
       "    <tr>\n",
       "      <th>4</th>\n",
       "      <td>VAE_all/CondVAE_pert-CC</td>\n",
       "      <td>0.000</td>\n",
       "      <td>4</td>\n",
       "      <td>0.002855</td>\n",
       "      <td>0.002259</td>\n",
       "    </tr>\n",
       "    <tr>\n",
       "      <th>...</th>\n",
       "      <td>...</td>\n",
       "      <td>...</td>\n",
       "      <td>...</td>\n",
       "      <td>...</td>\n",
       "      <td>...</td>\n",
       "    </tr>\n",
       "    <tr>\n",
       "      <th>75</th>\n",
       "      <td>VAE_all/CondVAE_pert-CC_noneigh</td>\n",
       "      <td>0.175</td>\n",
       "      <td>0</td>\n",
       "      <td>0.094599</td>\n",
       "      <td>0.075173</td>\n",
       "    </tr>\n",
       "    <tr>\n",
       "      <th>76</th>\n",
       "      <td>VAE_all/CondVAE_pert-CC_noneigh</td>\n",
       "      <td>0.175</td>\n",
       "      <td>1</td>\n",
       "      <td>0.094552</td>\n",
       "      <td>0.075158</td>\n",
       "    </tr>\n",
       "    <tr>\n",
       "      <th>77</th>\n",
       "      <td>VAE_all/CondVAE_pert-CC_noneigh</td>\n",
       "      <td>0.175</td>\n",
       "      <td>2</td>\n",
       "      <td>0.094592</td>\n",
       "      <td>0.075173</td>\n",
       "    </tr>\n",
       "    <tr>\n",
       "      <th>78</th>\n",
       "      <td>VAE_all/CondVAE_pert-CC_noneigh</td>\n",
       "      <td>0.175</td>\n",
       "      <td>3</td>\n",
       "      <td>0.094547</td>\n",
       "      <td>0.075166</td>\n",
       "    </tr>\n",
       "    <tr>\n",
       "      <th>79</th>\n",
       "      <td>VAE_all/CondVAE_pert-CC_noneigh</td>\n",
       "      <td>0.175</td>\n",
       "      <td>4</td>\n",
       "      <td>0.094644</td>\n",
       "      <td>0.075230</td>\n",
       "    </tr>\n",
       "  </tbody>\n",
       "</table>\n",
       "<p>80 rows × 5 columns</p>\n",
       "</div>"
      ],
      "text/plain": [
       "                           exp_name  scale  seed       mse       mae\n",
       "0           VAE_all/CondVAE_pert-CC  0.000     0  0.002856  0.002260\n",
       "1           VAE_all/CondVAE_pert-CC  0.000     1  0.002855  0.002259\n",
       "2           VAE_all/CondVAE_pert-CC  0.000     2  0.002856  0.002258\n",
       "3           VAE_all/CondVAE_pert-CC  0.000     3  0.002858  0.002261\n",
       "4           VAE_all/CondVAE_pert-CC  0.000     4  0.002855  0.002259\n",
       "..                              ...    ...   ...       ...       ...\n",
       "75  VAE_all/CondVAE_pert-CC_noneigh  0.175     0  0.094599  0.075173\n",
       "76  VAE_all/CondVAE_pert-CC_noneigh  0.175     1  0.094552  0.075158\n",
       "77  VAE_all/CondVAE_pert-CC_noneigh  0.175     2  0.094592  0.075173\n",
       "78  VAE_all/CondVAE_pert-CC_noneigh  0.175     3  0.094547  0.075166\n",
       "79  VAE_all/CondVAE_pert-CC_noneigh  0.175     4  0.094644  0.075230\n",
       "\n",
       "[80 rows x 5 columns]"
      ]
     },
     "execution_count": 39,
     "metadata": {},
     "output_type": "execute_result"
    }
   ],
   "source": [
    "df"
   ]
  },
  {
   "cell_type": "code",
   "execution_count": null,
   "id": "fd433099-e6c0-4252-9f6b-483894e550f3",
   "metadata": {},
   "outputs": [],
   "source": []
  }
 ],
 "metadata": {
  "kernelspec": {
   "display_name": "Python 3 (ipykernel)",
   "language": "python",
   "name": "python3"
  },
  "language_info": {
   "codemirror_mode": {
    "name": "ipython",
    "version": 3
   },
   "file_extension": ".py",
   "mimetype": "text/x-python",
   "name": "python",
   "nbconvert_exporter": "python",
   "pygments_lexer": "ipython3",
   "version": "3.9.7"
  }
 },
 "nbformat": 4,
 "nbformat_minor": 5
}
