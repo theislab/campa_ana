{
 "cells": [
  {
   "cell_type": "markdown",
   "metadata": {},
   "source": [
    "# Look at nuclear speckle size in Meayamycin vs control"
   ]
  },
  {
   "cell_type": "code",
   "execution_count": 1,
   "metadata": {},
   "outputs": [],
   "source": [
    "from campa.tl import Cluster, Experiment, FeatureExtractor\n",
    "from campa.data import MPPData\n",
    "from campa.pl import hex2rgb\n",
    "import os\n",
    "import numpy as np\n",
    "import seaborn as sns\n",
    "import pandas as pd\n",
    "import pickle\n",
    "import matplotlib.pyplot as plt\n",
    "import scanpy as sc\n",
    "import anndata as ad\n",
    "from campa.constants import EXPERIMENT_DIR\n",
    "from sklearn import metrics"
   ]
  },
  {
   "cell_type": "code",
   "execution_count": 2,
   "metadata": {},
   "outputs": [],
   "source": [
    "def add_perturbation_plot(adata):\n",
    "    # create perturbation_plot column from perturbation_duration column\n",
    "    p = np.array(adata.obs['perturbation_duration'])\n",
    "    p[p == 'AZD4573-120'] = 'AZD4573 (2.5h)'\n",
    "    p[p == 'AZD4573-30'] = 'AZD4573 (1h)'\n",
    "    p[p == 'CX5461-120'] = 'CX5461 (2.5h)'\n",
    "    p[p == 'Meayamycin-720'] = 'Meayamycin (12.5h)'\n",
    "    p[p == 'TSA-30'] = 'TSA (1h)'\n",
    "    p[p == 'Triptolide-120'] = 'Triptolide (2.5h)'\n",
    "    p[np.in1d(p, ['DMSO-120', 'DMSO-720', 'normal'])] = 'unperturbed'\n",
    "    adata.obs['perturbation_plot'] = p\n",
    "    adata.obs['perturbation_plot'] = adata.obs['perturbation_plot'].astype('category')\n",
    "    print(adata.obs['perturbation_plot'].cat.categories)\n",
    "    adata.uns['perturbation_plot_colors'] = ['#377eb8', '#984ea3', '#ff7f00', '#4daf4a','#f781bf', '#a65628', '#999999']  #https://gist.github.com/thriveth/8560036\n"
   ]
  },
  {
   "cell_type": "code",
   "execution_count": 3,
   "metadata": {},
   "outputs": [],
   "source": [
    "exp = Experiment.from_dir('VAE_all/CondVAE_pert-CC')\n",
    "extrs = {data_dir: FeatureExtractor.from_adata(os.path.join(exp.full_path, 'aggregated/full_data', data_dir, 'features_annotation.h5ad')) \n",
    "    for data_dir in exp.data_params['data_dirs']}"
   ]
  },
  {
   "cell_type": "code",
   "execution_count": 4,
   "metadata": {},
   "outputs": [
    {
     "name": "stdout",
     "output_type": "stream",
     "text": [
      "Index(['AZD4573 (1h)', 'AZD4573 (2.5h)', 'CX5461 (2.5h)', 'Meayamycin (12.5h)',\n",
      "       'TSA (1h)', 'Triptolide (2.5h)', 'unperturbed'],\n",
      "      dtype='object')\n"
     ]
    }
   ],
   "source": [
    "adata = ad.concat([extr.adata for extr in extrs.values()], index_unique='-', uns_merge='same')\n",
    "add_perturbation_plot(adata)"
   ]
  },
  {
   "cell_type": "code",
   "execution_count": 5,
   "metadata": {},
   "outputs": [],
   "source": [
    "cats = ['unperturbed', 'Meayamycin (12.5h)']\n",
    "colors = [adata.uns['perturbation_plot_colors'][list(adata.obs['perturbation_plot'].cat.categories).index(c)] for c in cats]\n",
    "colors = np.array(list(map(hex2rgb, colors)))/256."
   ]
  },
  {
   "cell_type": "code",
   "execution_count": 6,
   "metadata": {},
   "outputs": [
    {
     "data": {
      "text/plain": [
       "Text(0.5, 1.0, 'object count')"
      ]
     },
     "execution_count": 6,
     "metadata": {},
     "output_type": "execute_result"
    },
    {
     "data": {
      "image/png": "[encoded data removed]",
      "text/plain": [
       "<Figure size 432x288 with 1 Axes>"
      ]
     },
     "metadata": {
      "needs_background": "light"
     },
     "output_type": "display_data"
    },
    {
     "data": {
      "image/png": "[encoded data removed]",
      "text/plain": [
       "<Figure size 432x288 with 1 Axes>"
      ]
     },
     "metadata": {
      "needs_background": "light"
     },
     "output_type": "display_data"
    }
   ],
   "source": [
    "# object size\n",
    "df = adata.obsm['object_size_mean'].copy()\n",
    "df['perturbation_plot'] = adata.obs['perturbation_plot']\n",
    "sns.boxplot(data=df, y='Nuclear speckles', x='perturbation_plot', order=cats, palette=colors)\n",
    "plt.title('mean object size')\n",
    "plt.figure()\n",
    "# object count\n",
    "df = adata.obsm['object_count'].copy()\n",
    "df['perturbation_plot'] = adata.obs['perturbation_plot']\n",
    "sns.boxplot(data=df, y='Nuclear speckles', x='perturbation_plot', order=cats, palette=colors)\n",
    "plt.title('object count')"
   ]
  },
  {
   "cell_type": "code",
   "execution_count": null,
   "metadata": {},
   "outputs": [],
   "source": []
  }
 ],
 "metadata": {
  "interpreter": {
   "hash": "7c3012f799b3ef2382f56288364f3b4f8c7ccb2db3eb0b0379ff9e09fc414115"
  },
  "kernelspec": {
   "display_name": "Python 3.9.7 64-bit ('pelkmans-3.9': conda)",
   "language": "python",
   "name": "python3"
  },
  "language_info": {
   "codemirror_mode": {
    "name": "ipython",
    "version": 3
   },
   "file_extension": ".py",
   "mimetype": "text/x-python",
   "name": "python",
   "nbconvert_exporter": "python",
   "pygments_lexer": "ipython3",
   "version": "3.9.7"
  },
  "orig_nbformat": 4
 },
 "nbformat": 4,
 "nbformat_minor": 2
}
