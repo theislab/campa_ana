{
 "cells": [
  {
   "cell_type": "markdown",
   "metadata": {},
   "source": [
    "# Comparing 184A1 model predictions to SBF2 model predictions\n",
    "\n",
    "Predict VAE_all/CondVAE on SBF2 data and compare predicted CSLs with actual model. There should be little difference between the two models."
   ]
  },
  {
   "cell_type": "code",
   "execution_count": 1,
   "metadata": {},
   "outputs": [
    {
     "name": "stdout",
     "output_type": "stream",
     "text": [
      "Reading config from /Users/hannah.spitzer/.config/campa/campa.ini\n"
     ]
    }
   ],
   "source": [
    "from campa.tl import Experiment, Predictor\n",
    "from campa.data import MPPData\n",
    "import os\n",
    "\n",
    "from campa.constants import campa_config"
   ]
  },
  {
   "cell_type": "code",
   "execution_count": 2,
   "metadata": {},
   "outputs": [
    {
     "data": {
      "text/plain": [
       "['HeLa_SBF2/K18',\n",
       " 'HeLa_SBF2/L19',\n",
       " 'HeLa_SBF2/M18',\n",
       " 'HeLa_scrambled/K19',\n",
       " 'HeLa_scrambled/L18',\n",
       " 'HeLa_scrambled/M19']"
      ]
     },
     "execution_count": 2,
     "metadata": {},
     "output_type": "execute_result"
    }
   ],
   "source": [
    "# load experiments and data dirs\n",
    "exp_all = Experiment.from_dir('VAE_all/CondVAE_pert-CC')\n",
    "exp_sbf2 = Experiment.from_dir('VAE_SBF2/CondVAE_siRNA-CC')\n",
    "data_dirs = exp_sbf2.data_params['data_dirs']\n",
    "\n",
    "data_dirs"
   ]
  }
 ],
 "metadata": {
  "kernelspec": {
   "display_name": "Python 3.9.0 ('campa')",
   "language": "python",
   "name": "python3"
  },
  "language_info": {
   "codemirror_mode": {
    "name": "ipython",
    "version": 3
   },
   "file_extension": ".py",
   "mimetype": "text/x-python",
   "name": "python",
   "nbconvert_exporter": "python",
   "pygments_lexer": "ipython3",
   "version": "3.9.0"
  },
  "orig_nbformat": 4,
  "vscode": {
   "interpreter": {
    "hash": "874fcd6fbbd7997a0a341ba640ecd60060d2386464aa26f9f0c67495deab65ec"
   }
  }
 },
 "nbformat": 4,
 "nbformat_minor": 2
}
