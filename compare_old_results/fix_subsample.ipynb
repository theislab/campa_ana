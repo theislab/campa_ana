{
 "cells": [
  {
   "cell_type": "markdown",
   "id": "5585bd70-55c6-49d8-b384-16a4b32bd5e0",
   "metadata": {},
   "source": [
    "# Fix subsampled data\n",
    "For experiments where we want to transfer annotations / clusterings (SBF2 + all for CondVAE)\n",
    " \n",
    "Subsampled data is the same"
   ]
  },
  {
   "cell_type": "code",
   "execution_count": 1,
   "id": "e8dca987-da84-482f-9139-35399c22017b",
   "metadata": {},
   "outputs": [],
   "source": [
    "from campa.data import MPPData\n",
    "import numpy as np\n",
    "import os\n",
    "import anndata as ad"
   ]
  },
  {
   "cell_type": "markdown",
   "id": "f3aa2f53-2e10-4db9-8851-91d135a6b9e4",
   "metadata": {},
   "source": [
    "## SBF2, CondVAE\n",
    "- subsampled data is the same\n",
    "- subset further to get Scotts 0.33 subsample"
   ]
  },
  {
   "cell_type": "code",
   "execution_count": 39,
   "id": "bcd7ffc0-12f6-4838-a381-51faf740ab4d",
   "metadata": {},
   "outputs": [],
   "source": [
    "# SBF2, CondVAE\n",
    "path_old = '/home/icb/hannah.spitzer/projects/pelkmans/local_experiments/2021-10_18_VAE_SBF2/CondVAE_siRNA-CC3/aggregated/sub-0.005'\n",
    "path_new = '/home/icb/hannah.spitzer/projects/pelkmans/local_experiments/NascentRNA_new/VAE_SBF2/CondVAE_siRNA-CC/aggregated/sub-0.005'\n",
    "\n",
    "mpp_data = MPPData.from_data_dir(path_new, base_dir='')\n",
    "x_old = np.load(os.path.join(path_old, 'x.npy'))\n",
    "y_old = np.load(os.path.join(path_old, 'y.npy'))\n",
    "obj_ids_old = np.load(os.path.join(path_old, 'mapobject_ids.npy'))\n",
    "latent_old = np.load(os.path.join(path_old, 'latent.npy'))\n",
    "mpp_old = np.load(os.path.join(path_old, 'mpp.npy'))"
   ]
  },
  {
   "cell_type": "code",
   "execution_count": 52,
   "id": "bf029d79-9835-4818-ab0b-d33478d06138",
   "metadata": {},
   "outputs": [],
   "source": [
    "# check that have same objs\n",
    "assert set(mpp_data.obj_ids) == set(obj_ids_old)\n",
    "# check that have same data\n",
    "assert (mpp_data.obj_ids == obj_ids_old).all()\n",
    "assert (mpp_data.x == x_old).all()\n",
    "assert (mpp_data.y == y_old).all()\n",
    "assert (mpp_old == mpp_data.center_mpp).all()\n",
    "assert (np.isclose(latent_old, mpp_data.data('latent'), atol=0.1)).all()"
   ]
  },
  {
   "cell_type": "code",
   "execution_count": 58,
   "id": "4cf590eb-98b5-42ae-ab92-35bef878ed72",
   "metadata": {},
   "outputs": [],
   "source": [
    "# subset to get scotts subsample that he clustered\n",
    "adata_sub = ad.read(os.path.join(path_old, 'adata_sub-0.005_sub-0.33.h5ad'))\n",
    "\n",
    "np.random.seed(0)\n",
    "sub_indices = np.random.choice(len(mpp_data.obj_ids), size=adata_sub.n_obs, replace=False)\n",
    "\n",
    "#old_n_obs = adata.n_obs\n",
    "#new_n_obs = adata_sub2.n_obs\n",
    "#obs_indices2 = np.random.choice(old_n_obs, size=new_n_obs, replace=False)"
   ]
  },
  {
   "cell_type": "code",
   "execution_count": 67,
   "id": "e9f57e66-65ae-44a9-b736-c428ce1d7b1e",
   "metadata": {},
   "outputs": [],
   "source": [
    "# compare obj_ids\n",
    "assert (mpp_data.obj_ids[sub_indices] == np.array(adata_sub.obs['mapobject_id'])).all()\n",
    "# compare latent (using old data, as new latent is slightly different)\n",
    "assert (latent_old[sub_indices] == np.array(adata_sub.obsm['X_latent'])).all()"
   ]
  },
  {
   "cell_type": "markdown",
   "id": "92764f69-3d94-4182-93a0-7e2faee5ac63",
   "metadata": {},
   "source": [
    "## all, CondVAE"
   ]
  },
  {
   "cell_type": "code",
   "execution_count": 2,
   "id": "13b6d767-a58b-4700-adc0-a289447d7c91",
   "metadata": {},
   "outputs": [],
   "source": [
    "# all, CondVAE\n",
    "path_old = '/home/icb/hannah.spitzer/projects/pelkmans/local_experiments/2021-04-27_VAE_all/CondVAE_pert-CC2/aggregated/sub-0.001'\n",
    "path_new = '/home/icb/hannah.spitzer/projects/pelkmans/local_experiments/NascentRNA_new/VAE_all/CondVAE_pert-CC/aggregated/sub-0.001'\n",
    "\n",
    "mpp_data = MPPData.from_data_dir(path_new, base_dir='')\n",
    "x_old = np.load(os.path.join(path_old, 'x.npy'))\n",
    "y_old = np.load(os.path.join(path_old, 'y.npy'))\n",
    "obj_ids_old = np.load(os.path.join(path_old, 'mapobject_ids.npy'))\n",
    "latent_old = np.load(os.path.join(path_old, 'latent.npy'))\n",
    "mpp_old = np.load(os.path.join(path_old, 'mpp.npy'))"
   ]
  },
  {
   "cell_type": "code",
   "execution_count": 3,
   "id": "97f1d1dd-93a3-409b-9481-e1ea00890dc3",
   "metadata": {},
   "outputs": [],
   "source": [
    "# check that have same objs\n",
    "assert set(mpp_data.obj_ids) == set(obj_ids_old)\n",
    "# check that have same data\n",
    "assert (mpp_data.obj_ids == obj_ids_old).all()\n",
    "assert (mpp_data.x == x_old).all()\n",
    "assert (mpp_data.y == y_old).all()\n",
    "assert (mpp_old == mpp_data.center_mpp).all()\n",
    "assert (np.isclose(latent_old, mpp_data.data('latent'), atol=0.1)).all()"
   ]
  },
  {
   "cell_type": "code",
   "execution_count": null,
   "id": "a0b16050-4bd2-427d-88fa-19164c1a823d",
   "metadata": {},
   "outputs": [],
   "source": []
  }
 ],
 "metadata": {
  "kernelspec": {
   "display_name": "Python 3 (ipykernel)",
   "language": "python",
   "name": "python3"
  },
  "language_info": {
   "codemirror_mode": {
    "name": "ipython",
    "version": 3
   },
   "file_extension": ".py",
   "mimetype": "text/x-python",
   "name": "python",
   "nbconvert_exporter": "python",
   "pygments_lexer": "ipython3",
   "version": "3.9.7"
  }
 },
 "nbformat": 4,
 "nbformat_minor": 5
}
