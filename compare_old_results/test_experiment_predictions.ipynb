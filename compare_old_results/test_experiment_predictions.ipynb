{
 "cells": [
  {
   "cell_type": "markdown",
   "id": "d816e631-07db-4d6a-a12a-7813ec1e8ebd",
   "metadata": {},
   "source": [
    "# Make sure that experiment predictions are the same\n"
   ]
  },
  {
   "cell_type": "code",
   "execution_count": null,
   "id": "b7d30556-e575-4b5d-b63b-ab03c66d6f5f",
   "metadata": {},
   "outputs": [],
   "source": []
  }
 ],
 "metadata": {
  "kernelspec": {
   "display_name": "Python 3 (ipykernel)",
   "language": "python",
   "name": "python3"
  },
  "language_info": {
   "codemirror_mode": {
    "name": "ipython",
    "version": 3
   },
   "file_extension": ".py",
   "mimetype": "text/x-python",
   "name": "python",
   "nbconvert_exporter": "python",
   "pygments_lexer": "ipython3",
   "version": "3.9.7"
  }
 },
 "nbformat": 4,
 "nbformat_minor": 5
}
